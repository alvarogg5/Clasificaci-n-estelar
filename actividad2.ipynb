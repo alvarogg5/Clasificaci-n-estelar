{
 "cells": [
  {
   "cell_type": "markdown",
   "id": "d216dff9-2d36-4520-be9b-c98d5f381f64",
   "metadata": {
    "noteable": {
     "cell_type": "markdown"
    }
   },
   "source": [
    "# Clasificación y Análisis de Objetos Astronómicos"
   ]
  },
  {
   "cell_type": "markdown",
   "id": "0af7aecf-c254-4492-83ae-d8af7b0ee44b",
   "metadata": {
    "noteable": {
     "cell_type": "markdown"
    }
   },
   "source": [
    "## Estructura del Conjunto de Datos\n",
    "\n",
    "El conjunto de datos de clasificación estelar contiene las siguientes columnas:\n",
    "\n",
    "- `obj_ID`: Identificador del objeto.\n",
    "- `alpha`: Ascensión recta (en grados).\n",
    "- `delta`: Declinación (en grados).\n",
    "- `u`, `g`, `r`, `i`, `z`: Medidas fotométricas en diferentes bandas del espectro (ultravioleta, verde, rojo, infrarrojo cercano, e infrarrojo lejano).\n",
    "- `run_ID`, `rerun_ID`, `cam_col`, `field_ID`: Identificadores relacionados con la observación astronómica.\n",
    "- `spec_obj_ID`: Identificador del objeto en el espectro.\n",
    "- `class`: Clasificación del objeto (e.g., GALAXY, STAR, QSO).\n",
    "- `redshift`: Medida del desplazamiento al rojo.\n",
    "- `plate`, `MJD`, `fiber_ID`: Información adicional sobre las observaciones."
   ]
  },
  {
   "cell_type": "code",
   "execution_count": 1,
   "id": "5266bc0b3547489c814c5d7b9a031e3b",
   "metadata": {
    "ExecuteTime": {
     "end_time": "2023-11-30T11:17:50.367169+00:00",
     "start_time": "2023-11-30T11:17:49.739694+00:00"
    },
    "noteable": {}
   },
   "outputs": [],
   "source": [
    "import numpy as np\n",
    "import pandas as pd \n",
    "import matplotlib.pyplot as plt\n",
    "import seaborn as sns"
   ]
  },
  {
   "cell_type": "code",
   "execution_count": 2,
   "id": "33a3e04e-3800-4b85-8a24-64fafcacfaac",
   "metadata": {
    "ExecuteTime": {
     "end_time": "2023-11-30T11:17:51.447751+00:00",
     "start_time": "2023-11-30T11:17:50.373454+00:00"
    },
    "datalink": {
     "046a8aa2-a611-4225-ab54-d95bd1dd7813": {
      "applied_filters": [],
      "dataframe_info": {
       "default_index_used": true,
       "orig_num_cols": 18,
       "orig_num_rows": 5,
       "orig_size_bytes": 760,
       "truncated_num_cols": 18,
       "truncated_num_rows": 5,
       "truncated_size_bytes": 760,
       "truncated_string_columns": []
      },
      "display_id": "046a8aa2-a611-4225-ab54-d95bd1dd7813",
      "dx_settings": {
       "ALLOW_NOTEABLE_ATTRS": true,
       "COLUMN_SAMPLING_METHOD": "outer",
       "DB_LOCATION": ":memory:",
       "DEV_MODE": false,
       "DISPLAY_MAX_COLUMNS": 100,
       "DISPLAY_MAX_ROWS": 50000,
       "DISPLAY_MODE": "simple",
       "ENABLE_ASSIGNMENT": true,
       "ENABLE_DATALINK": true,
       "FLATTEN_COLUMN_VALUES": true,
       "FLATTEN_INDEX_VALUES": false,
       "GENERATE_DEX_METADATA": false,
       "HTML_TABLE_SCHEMA": false,
       "LOG_LEVEL": 30,
       "MAX_RENDER_SIZE_BYTES": 104857600,
       "MAX_STRING_LENGTH": 250,
       "NUM_PAST_SAMPLES_TRACKED": 3,
       "RANDOM_STATE": 12648430,
       "RESET_INDEX_VALUES": false,
       "ROW_SAMPLING_METHOD": "random",
       "SAMPLING_FACTOR": 0.1,
       "SAMPLING_METHOD": "random",
       "STRINGIFY_COLUMN_VALUES": true,
       "STRINGIFY_INDEX_VALUES": false
      },
      "sample_history": [],
      "sampling_time": "2023-11-27T17:35:12.562451",
      "user_variable_name": null,
      "variable_name": "unk_dataframe_1ea0f21c28f04bd3be1097478fb5fd6d"
     },
     "0bb8f9fe-5fbe-444a-b2c0-c36880dde17d": {
      "applied_filters": [],
      "dataframe_info": {
       "default_index_used": true,
       "orig_num_cols": 18,
       "orig_num_rows": 5,
       "orig_size_bytes": 760,
       "truncated_num_cols": 18,
       "truncated_num_rows": 5,
       "truncated_size_bytes": 760,
       "truncated_string_columns": []
      },
      "display_id": "0bb8f9fe-5fbe-444a-b2c0-c36880dde17d",
      "dx_settings": {
       "ALLOW_NOTEABLE_ATTRS": true,
       "COLUMN_SAMPLING_METHOD": "outer",
       "DB_LOCATION": ":memory:",
       "DEV_MODE": false,
       "DISPLAY_MAX_COLUMNS": 100,
       "DISPLAY_MAX_ROWS": 50000,
       "DISPLAY_MODE": "simple",
       "ENABLE_ASSIGNMENT": true,
       "ENABLE_DATALINK": true,
       "FLATTEN_COLUMN_VALUES": true,
       "FLATTEN_INDEX_VALUES": false,
       "GENERATE_DEX_METADATA": false,
       "HTML_TABLE_SCHEMA": false,
       "LOG_LEVEL": 30,
       "MAX_RENDER_SIZE_BYTES": 104857600,
       "MAX_STRING_LENGTH": 250,
       "NUM_PAST_SAMPLES_TRACKED": 3,
       "RANDOM_STATE": 12648430,
       "RESET_INDEX_VALUES": false,
       "ROW_SAMPLING_METHOD": "random",
       "SAMPLING_FACTOR": 0.1,
       "SAMPLING_METHOD": "random",
       "STRINGIFY_COLUMN_VALUES": true,
       "STRINGIFY_INDEX_VALUES": false
      },
      "sample_history": [],
      "sampling_time": "2023-11-29T14:37:43.996069",
      "user_variable_name": null,
      "variable_name": "unk_dataframe_6127c4a29b594462835b8dd93b63233d"
     },
     "1c4ea967-4633-4eff-8607-1f0baa84de1f": {
      "applied_filters": [],
      "dataframe_info": {
       "default_index_used": true,
       "orig_num_cols": 18,
       "orig_num_rows": 5,
       "orig_size_bytes": 760,
       "truncated_num_cols": 18,
       "truncated_num_rows": 5,
       "truncated_size_bytes": 760,
       "truncated_string_columns": []
      },
      "display_id": "1c4ea967-4633-4eff-8607-1f0baa84de1f",
      "dx_settings": {
       "ALLOW_NOTEABLE_ATTRS": true,
       "COLUMN_SAMPLING_METHOD": "outer",
       "DB_LOCATION": ":memory:",
       "DEV_MODE": false,
       "DISPLAY_MAX_COLUMNS": 100,
       "DISPLAY_MAX_ROWS": 50000,
       "DISPLAY_MODE": "simple",
       "ENABLE_ASSIGNMENT": true,
       "ENABLE_DATALINK": true,
       "FLATTEN_COLUMN_VALUES": true,
       "FLATTEN_INDEX_VALUES": false,
       "GENERATE_DEX_METADATA": false,
       "HTML_TABLE_SCHEMA": false,
       "LOG_LEVEL": 30,
       "MAX_RENDER_SIZE_BYTES": 104857600,
       "MAX_STRING_LENGTH": 250,
       "NUM_PAST_SAMPLES_TRACKED": 3,
       "RANDOM_STATE": 12648430,
       "RESET_INDEX_VALUES": false,
       "ROW_SAMPLING_METHOD": "random",
       "SAMPLING_FACTOR": 0.1,
       "SAMPLING_METHOD": "random",
       "STRINGIFY_COLUMN_VALUES": true,
       "STRINGIFY_INDEX_VALUES": false
      },
      "sample_history": [],
      "sampling_time": "2023-11-26T16:48:50.928275",
      "user_variable_name": null,
      "variable_name": "unk_dataframe_926c95ff4ea049a09673683d560c21ba"
     },
     "26ab44b3-54f3-4833-824b-1b263543010c": {
      "applied_filters": [],
      "dataframe_info": {
       "default_index_used": true,
       "orig_num_cols": 18,
       "orig_num_rows": 5,
       "orig_size_bytes": 760,
       "truncated_num_cols": 18,
       "truncated_num_rows": 5,
       "truncated_size_bytes": 760,
       "truncated_string_columns": []
      },
      "display_id": "26ab44b3-54f3-4833-824b-1b263543010c",
      "dx_settings": {
       "ALLOW_NOTEABLE_ATTRS": true,
       "COLUMN_SAMPLING_METHOD": "outer",
       "DB_LOCATION": ":memory:",
       "DEV_MODE": false,
       "DISPLAY_MAX_COLUMNS": 100,
       "DISPLAY_MAX_ROWS": 50000,
       "DISPLAY_MODE": "simple",
       "ENABLE_ASSIGNMENT": true,
       "ENABLE_DATALINK": true,
       "FLATTEN_COLUMN_VALUES": true,
       "FLATTEN_INDEX_VALUES": false,
       "GENERATE_DEX_METADATA": false,
       "HTML_TABLE_SCHEMA": false,
       "LOG_LEVEL": 30,
       "MAX_RENDER_SIZE_BYTES": 104857600,
       "MAX_STRING_LENGTH": 250,
       "NUM_PAST_SAMPLES_TRACKED": 3,
       "RANDOM_STATE": 12648430,
       "RESET_INDEX_VALUES": false,
       "ROW_SAMPLING_METHOD": "random",
       "SAMPLING_FACTOR": 0.1,
       "SAMPLING_METHOD": "random",
       "STRINGIFY_COLUMN_VALUES": true,
       "STRINGIFY_INDEX_VALUES": false
      },
      "sample_history": [],
      "sampling_time": "2023-11-27T17:29:55.628763",
      "user_variable_name": null,
      "variable_name": "unk_dataframe_5d3f4313c56d475cba0eac5f57894210"
     },
     "279bde99-bcd8-4e7c-b47f-10e750176087": {
      "applied_filters": [],
      "dataframe_info": {
       "default_index_used": true,
       "orig_num_cols": 18,
       "orig_num_rows": 5,
       "orig_size_bytes": 760,
       "truncated_num_cols": 18,
       "truncated_num_rows": 5,
       "truncated_size_bytes": 760,
       "truncated_string_columns": []
      },
      "display_id": "279bde99-bcd8-4e7c-b47f-10e750176087",
      "dx_settings": {
       "ALLOW_NOTEABLE_ATTRS": true,
       "COLUMN_SAMPLING_METHOD": "outer",
       "DB_LOCATION": ":memory:",
       "DEV_MODE": false,
       "DISPLAY_MAX_COLUMNS": 100,
       "DISPLAY_MAX_ROWS": 50000,
       "DISPLAY_MODE": "simple",
       "ENABLE_ASSIGNMENT": true,
       "ENABLE_DATALINK": true,
       "FLATTEN_COLUMN_VALUES": true,
       "FLATTEN_INDEX_VALUES": false,
       "GENERATE_DEX_METADATA": false,
       "HTML_TABLE_SCHEMA": false,
       "LOG_LEVEL": 30,
       "MAX_RENDER_SIZE_BYTES": 104857600,
       "MAX_STRING_LENGTH": 250,
       "NUM_PAST_SAMPLES_TRACKED": 3,
       "RANDOM_STATE": 12648430,
       "RESET_INDEX_VALUES": false,
       "ROW_SAMPLING_METHOD": "random",
       "SAMPLING_FACTOR": 0.1,
       "SAMPLING_METHOD": "random",
       "STRINGIFY_COLUMN_VALUES": true,
       "STRINGIFY_INDEX_VALUES": false
      },
      "sample_history": [],
      "sampling_time": "2023-11-27T18:13:52.310280",
      "user_variable_name": null,
      "variable_name": "unk_dataframe_ae0215fd90bf4ae49b1c2f56437beb8c"
     },
     "287c1de5-2198-45da-8f7b-af36ebbc06c8": {
      "applied_filters": [],
      "dataframe_info": {
       "default_index_used": true,
       "orig_num_cols": 18,
       "orig_num_rows": 5,
       "orig_size_bytes": 760,
       "truncated_num_cols": 18,
       "truncated_num_rows": 5,
       "truncated_size_bytes": 760,
       "truncated_string_columns": []
      },
      "display_id": "287c1de5-2198-45da-8f7b-af36ebbc06c8",
      "dx_settings": {
       "ALLOW_NOTEABLE_ATTRS": true,
       "COLUMN_SAMPLING_METHOD": "outer",
       "DB_LOCATION": ":memory:",
       "DEV_MODE": false,
       "DISPLAY_MAX_COLUMNS": 100,
       "DISPLAY_MAX_ROWS": 50000,
       "DISPLAY_MODE": "simple",
       "ENABLE_ASSIGNMENT": true,
       "ENABLE_DATALINK": true,
       "FLATTEN_COLUMN_VALUES": true,
       "FLATTEN_INDEX_VALUES": false,
       "GENERATE_DEX_METADATA": false,
       "HTML_TABLE_SCHEMA": false,
       "LOG_LEVEL": 30,
       "MAX_RENDER_SIZE_BYTES": 104857600,
       "MAX_STRING_LENGTH": 250,
       "NUM_PAST_SAMPLES_TRACKED": 3,
       "RANDOM_STATE": 12648430,
       "RESET_INDEX_VALUES": false,
       "ROW_SAMPLING_METHOD": "random",
       "SAMPLING_FACTOR": 0.1,
       "SAMPLING_METHOD": "random",
       "STRINGIFY_COLUMN_VALUES": true,
       "STRINGIFY_INDEX_VALUES": false
      },
      "sample_history": [],
      "sampling_time": "2023-11-28T17:50:25.357760",
      "user_variable_name": null,
      "variable_name": "unk_dataframe_939a5eded0464be4adb1da46eaaa3a13"
     },
     "2f91e7a6-57b4-41a1-8671-c431b3ad7b65": {
      "applied_filters": [],
      "dataframe_info": {
       "default_index_used": true,
       "orig_num_cols": 18,
       "orig_num_rows": 5,
       "orig_size_bytes": 760,
       "truncated_num_cols": 18,
       "truncated_num_rows": 5,
       "truncated_size_bytes": 760,
       "truncated_string_columns": []
      },
      "display_id": "2f91e7a6-57b4-41a1-8671-c431b3ad7b65",
      "dx_settings": {
       "ALLOW_NOTEABLE_ATTRS": true,
       "COLUMN_SAMPLING_METHOD": "outer",
       "DB_LOCATION": ":memory:",
       "DEV_MODE": false,
       "DISPLAY_MAX_COLUMNS": 100,
       "DISPLAY_MAX_ROWS": 50000,
       "DISPLAY_MODE": "simple",
       "ENABLE_ASSIGNMENT": true,
       "ENABLE_DATALINK": true,
       "FLATTEN_COLUMN_VALUES": true,
       "FLATTEN_INDEX_VALUES": false,
       "GENERATE_DEX_METADATA": false,
       "HTML_TABLE_SCHEMA": false,
       "LOG_LEVEL": 30,
       "MAX_RENDER_SIZE_BYTES": 104857600,
       "MAX_STRING_LENGTH": 250,
       "NUM_PAST_SAMPLES_TRACKED": 3,
       "RANDOM_STATE": 12648430,
       "RESET_INDEX_VALUES": false,
       "ROW_SAMPLING_METHOD": "random",
       "SAMPLING_FACTOR": 0.1,
       "SAMPLING_METHOD": "random",
       "STRINGIFY_COLUMN_VALUES": true,
       "STRINGIFY_INDEX_VALUES": false
      },
      "sample_history": [],
      "sampling_time": "2023-11-30T11:17:51.282460",
      "user_variable_name": null,
      "variable_name": "unk_dataframe_5226e9a7266a482b8738c126e4510a8f"
     },
     "32dda2d7-2e5d-4262-92be-ad221d59e2bf": {
      "applied_filters": [],
      "dataframe_info": {
       "default_index_used": true,
       "orig_num_cols": 18,
       "orig_num_rows": 5,
       "orig_size_bytes": 760,
       "truncated_num_cols": 18,
       "truncated_num_rows": 5,
       "truncated_size_bytes": 760,
       "truncated_string_columns": []
      },
      "display_id": "32dda2d7-2e5d-4262-92be-ad221d59e2bf",
      "dx_settings": {
       "ALLOW_NOTEABLE_ATTRS": true,
       "COLUMN_SAMPLING_METHOD": "outer",
       "DB_LOCATION": ":memory:",
       "DEV_MODE": false,
       "DISPLAY_MAX_COLUMNS": 100,
       "DISPLAY_MAX_ROWS": 50000,
       "DISPLAY_MODE": "simple",
       "ENABLE_ASSIGNMENT": true,
       "ENABLE_DATALINK": true,
       "FLATTEN_COLUMN_VALUES": true,
       "FLATTEN_INDEX_VALUES": false,
       "GENERATE_DEX_METADATA": false,
       "HTML_TABLE_SCHEMA": false,
       "LOG_LEVEL": 30,
       "MAX_RENDER_SIZE_BYTES": 104857600,
       "MAX_STRING_LENGTH": 250,
       "NUM_PAST_SAMPLES_TRACKED": 3,
       "RANDOM_STATE": 12648430,
       "RESET_INDEX_VALUES": false,
       "ROW_SAMPLING_METHOD": "random",
       "SAMPLING_FACTOR": 0.1,
       "SAMPLING_METHOD": "random",
       "STRINGIFY_COLUMN_VALUES": true,
       "STRINGIFY_INDEX_VALUES": false
      },
      "sample_history": [],
      "sampling_time": "2023-11-26T17:23:12.021046",
      "user_variable_name": null,
      "variable_name": "unk_dataframe_24f315c94c124e55b6b3bd05ad40987f"
     },
     "36140c2e-4323-4c5d-a235-80bdfc5df695": {
      "applied_filters": [],
      "dataframe_info": {
       "default_index_used": true,
       "orig_num_cols": 18,
       "orig_num_rows": 5,
       "orig_size_bytes": 760,
       "truncated_num_cols": 18,
       "truncated_num_rows": 5,
       "truncated_size_bytes": 760,
       "truncated_string_columns": []
      },
      "display_id": "36140c2e-4323-4c5d-a235-80bdfc5df695",
      "dx_settings": {
       "ALLOW_NOTEABLE_ATTRS": true,
       "COLUMN_SAMPLING_METHOD": "outer",
       "DB_LOCATION": ":memory:",
       "DEV_MODE": false,
       "DISPLAY_MAX_COLUMNS": 100,
       "DISPLAY_MAX_ROWS": 50000,
       "DISPLAY_MODE": "simple",
       "ENABLE_ASSIGNMENT": true,
       "ENABLE_DATALINK": true,
       "FLATTEN_COLUMN_VALUES": true,
       "FLATTEN_INDEX_VALUES": false,
       "GENERATE_DEX_METADATA": false,
       "HTML_TABLE_SCHEMA": false,
       "LOG_LEVEL": 30,
       "MAX_RENDER_SIZE_BYTES": 104857600,
       "MAX_STRING_LENGTH": 250,
       "NUM_PAST_SAMPLES_TRACKED": 3,
       "RANDOM_STATE": 12648430,
       "RESET_INDEX_VALUES": false,
       "ROW_SAMPLING_METHOD": "random",
       "SAMPLING_FACTOR": 0.1,
       "SAMPLING_METHOD": "random",
       "STRINGIFY_COLUMN_VALUES": true,
       "STRINGIFY_INDEX_VALUES": false
      },
      "sample_history": [],
      "sampling_time": "2023-11-26T16:50:33.359273",
      "user_variable_name": null,
      "variable_name": "unk_dataframe_628eb024250f4c3cb89d0c0eda5df30c"
     },
     "409c3a93-5aab-4f76-8ec0-fdcc9a391f70": {
      "applied_filters": [],
      "dataframe_info": {
       "default_index_used": true,
       "orig_num_cols": 18,
       "orig_num_rows": 5,
       "orig_size_bytes": 760,
       "truncated_num_cols": 18,
       "truncated_num_rows": 5,
       "truncated_size_bytes": 760,
       "truncated_string_columns": []
      },
      "display_id": "409c3a93-5aab-4f76-8ec0-fdcc9a391f70",
      "dx_settings": {
       "ALLOW_NOTEABLE_ATTRS": true,
       "COLUMN_SAMPLING_METHOD": "outer",
       "DB_LOCATION": ":memory:",
       "DEV_MODE": false,
       "DISPLAY_MAX_COLUMNS": 100,
       "DISPLAY_MAX_ROWS": 50000,
       "DISPLAY_MODE": "simple",
       "ENABLE_ASSIGNMENT": true,
       "ENABLE_DATALINK": true,
       "FLATTEN_COLUMN_VALUES": true,
       "FLATTEN_INDEX_VALUES": false,
       "GENERATE_DEX_METADATA": false,
       "HTML_TABLE_SCHEMA": false,
       "LOG_LEVEL": 30,
       "MAX_RENDER_SIZE_BYTES": 104857600,
       "MAX_STRING_LENGTH": 250,
       "NUM_PAST_SAMPLES_TRACKED": 3,
       "RANDOM_STATE": 12648430,
       "RESET_INDEX_VALUES": false,
       "ROW_SAMPLING_METHOD": "random",
       "SAMPLING_FACTOR": 0.1,
       "SAMPLING_METHOD": "random",
       "STRINGIFY_COLUMN_VALUES": true,
       "STRINGIFY_INDEX_VALUES": false
      },
      "sample_history": [],
      "sampling_time": "2023-11-28T15:53:06.341800",
      "user_variable_name": null,
      "variable_name": "unk_dataframe_c048fa5e90b34445adcbfb86b5692637"
     },
     "41163ee3-68ff-40e2-a805-3b1a9ba29362": {
      "applied_filters": [],
      "dataframe_info": {
       "default_index_used": true,
       "orig_num_cols": 18,
       "orig_num_rows": 5,
       "orig_size_bytes": 760,
       "truncated_num_cols": 18,
       "truncated_num_rows": 5,
       "truncated_size_bytes": 760,
       "truncated_string_columns": []
      },
      "display_id": "41163ee3-68ff-40e2-a805-3b1a9ba29362",
      "dx_settings": {
       "ALLOW_NOTEABLE_ATTRS": true,
       "COLUMN_SAMPLING_METHOD": "outer",
       "DB_LOCATION": ":memory:",
       "DEV_MODE": false,
       "DISPLAY_MAX_COLUMNS": 100,
       "DISPLAY_MAX_ROWS": 50000,
       "DISPLAY_MODE": "simple",
       "ENABLE_ASSIGNMENT": true,
       "ENABLE_DATALINK": true,
       "FLATTEN_COLUMN_VALUES": true,
       "FLATTEN_INDEX_VALUES": false,
       "GENERATE_DEX_METADATA": false,
       "HTML_TABLE_SCHEMA": false,
       "LOG_LEVEL": 30,
       "MAX_RENDER_SIZE_BYTES": 104857600,
       "MAX_STRING_LENGTH": 250,
       "NUM_PAST_SAMPLES_TRACKED": 3,
       "RANDOM_STATE": 12648430,
       "RESET_INDEX_VALUES": false,
       "ROW_SAMPLING_METHOD": "random",
       "SAMPLING_FACTOR": 0.1,
       "SAMPLING_METHOD": "random",
       "STRINGIFY_COLUMN_VALUES": true,
       "STRINGIFY_INDEX_VALUES": false
      },
      "sample_history": [],
      "sampling_time": "2023-11-29T15:06:41.871313",
      "user_variable_name": null,
      "variable_name": "unk_dataframe_aed39eae38fc4bddaddd9944b7d0ad02"
     },
     "5336b9db-48bd-4b7f-877b-8c75b4bc8583": {
      "applied_filters": [],
      "dataframe_info": {
       "default_index_used": true,
       "orig_num_cols": 18,
       "orig_num_rows": 5,
       "orig_size_bytes": 760,
       "truncated_num_cols": 18,
       "truncated_num_rows": 5,
       "truncated_size_bytes": 760,
       "truncated_string_columns": []
      },
      "display_id": "5336b9db-48bd-4b7f-877b-8c75b4bc8583",
      "dx_settings": {
       "ALLOW_NOTEABLE_ATTRS": true,
       "COLUMN_SAMPLING_METHOD": "outer",
       "DB_LOCATION": ":memory:",
       "DEV_MODE": false,
       "DISPLAY_MAX_COLUMNS": 100,
       "DISPLAY_MAX_ROWS": 50000,
       "DISPLAY_MODE": "simple",
       "ENABLE_ASSIGNMENT": true,
       "ENABLE_DATALINK": true,
       "FLATTEN_COLUMN_VALUES": true,
       "FLATTEN_INDEX_VALUES": false,
       "GENERATE_DEX_METADATA": false,
       "HTML_TABLE_SCHEMA": false,
       "LOG_LEVEL": 30,
       "MAX_RENDER_SIZE_BYTES": 104857600,
       "MAX_STRING_LENGTH": 250,
       "NUM_PAST_SAMPLES_TRACKED": 3,
       "RANDOM_STATE": 12648430,
       "RESET_INDEX_VALUES": false,
       "ROW_SAMPLING_METHOD": "random",
       "SAMPLING_FACTOR": 0.1,
       "SAMPLING_METHOD": "random",
       "STRINGIFY_COLUMN_VALUES": true,
       "STRINGIFY_INDEX_VALUES": false
      },
      "sample_history": [],
      "sampling_time": "2023-11-26T17:59:48.550321",
      "user_variable_name": null,
      "variable_name": "unk_dataframe_4cc29b88206c49c1b2781344dc171081"
     },
     "59064816-5842-4deb-9901-ab7bc443d77a": {
      "applied_filters": [],
      "dataframe_info": {
       "default_index_used": true,
       "orig_num_cols": 18,
       "orig_num_rows": 5,
       "orig_size_bytes": 760,
       "truncated_num_cols": 18,
       "truncated_num_rows": 5,
       "truncated_size_bytes": 760,
       "truncated_string_columns": []
      },
      "display_id": "59064816-5842-4deb-9901-ab7bc443d77a",
      "dx_settings": {
       "ALLOW_NOTEABLE_ATTRS": true,
       "COLUMN_SAMPLING_METHOD": "outer",
       "DB_LOCATION": ":memory:",
       "DEV_MODE": false,
       "DISPLAY_MAX_COLUMNS": 100,
       "DISPLAY_MAX_ROWS": 50000,
       "DISPLAY_MODE": "simple",
       "ENABLE_ASSIGNMENT": true,
       "ENABLE_DATALINK": true,
       "FLATTEN_COLUMN_VALUES": true,
       "FLATTEN_INDEX_VALUES": false,
       "GENERATE_DEX_METADATA": false,
       "HTML_TABLE_SCHEMA": false,
       "LOG_LEVEL": 30,
       "MAX_RENDER_SIZE_BYTES": 104857600,
       "MAX_STRING_LENGTH": 250,
       "NUM_PAST_SAMPLES_TRACKED": 3,
       "RANDOM_STATE": 12648430,
       "RESET_INDEX_VALUES": false,
       "ROW_SAMPLING_METHOD": "random",
       "SAMPLING_FACTOR": 0.1,
       "SAMPLING_METHOD": "random",
       "STRINGIFY_COLUMN_VALUES": true,
       "STRINGIFY_INDEX_VALUES": false
      },
      "sample_history": [],
      "sampling_time": "2023-11-28T19:06:13.357989",
      "user_variable_name": null,
      "variable_name": "unk_dataframe_a1f38c059f3a48e687de0b28015038b5"
     },
     "5aab2a10-e348-4f51-a210-a587f2c8607b": {
      "applied_filters": [],
      "dataframe_info": {
       "default_index_used": true,
       "orig_num_cols": 18,
       "orig_num_rows": 5,
       "orig_size_bytes": 760,
       "truncated_num_cols": 18,
       "truncated_num_rows": 5,
       "truncated_size_bytes": 760,
       "truncated_string_columns": []
      },
      "display_id": "5aab2a10-e348-4f51-a210-a587f2c8607b",
      "dx_settings": {
       "ALLOW_NOTEABLE_ATTRS": true,
       "COLUMN_SAMPLING_METHOD": "outer",
       "DB_LOCATION": ":memory:",
       "DEV_MODE": false,
       "DISPLAY_MAX_COLUMNS": 100,
       "DISPLAY_MAX_ROWS": 50000,
       "DISPLAY_MODE": "simple",
       "ENABLE_ASSIGNMENT": true,
       "ENABLE_DATALINK": true,
       "FLATTEN_COLUMN_VALUES": true,
       "FLATTEN_INDEX_VALUES": false,
       "GENERATE_DEX_METADATA": false,
       "HTML_TABLE_SCHEMA": false,
       "LOG_LEVEL": 30,
       "MAX_RENDER_SIZE_BYTES": 104857600,
       "MAX_STRING_LENGTH": 250,
       "NUM_PAST_SAMPLES_TRACKED": 3,
       "RANDOM_STATE": 12648430,
       "RESET_INDEX_VALUES": false,
       "ROW_SAMPLING_METHOD": "random",
       "SAMPLING_FACTOR": 0.1,
       "SAMPLING_METHOD": "random",
       "STRINGIFY_COLUMN_VALUES": true,
       "STRINGIFY_INDEX_VALUES": false
      },
      "sample_history": [],
      "sampling_time": "2023-11-28T15:56:45.385802",
      "user_variable_name": null,
      "variable_name": "unk_dataframe_f11d45699c584c8abc3e2f0d36706420"
     },
     "69fc32ff-1c7b-40ef-b106-9a341258ea65": {
      "applied_filters": [],
      "dataframe_info": {
       "default_index_used": true,
       "orig_num_cols": 18,
       "orig_num_rows": 5,
       "orig_size_bytes": 760,
       "truncated_num_cols": 18,
       "truncated_num_rows": 5,
       "truncated_size_bytes": 760,
       "truncated_string_columns": []
      },
      "display_id": "69fc32ff-1c7b-40ef-b106-9a341258ea65",
      "dx_settings": {
       "ALLOW_NOTEABLE_ATTRS": true,
       "COLUMN_SAMPLING_METHOD": "outer",
       "DB_LOCATION": ":memory:",
       "DEV_MODE": false,
       "DISPLAY_MAX_COLUMNS": 100,
       "DISPLAY_MAX_ROWS": 50000,
       "DISPLAY_MODE": "simple",
       "ENABLE_ASSIGNMENT": true,
       "ENABLE_DATALINK": true,
       "FLATTEN_COLUMN_VALUES": true,
       "FLATTEN_INDEX_VALUES": false,
       "GENERATE_DEX_METADATA": false,
       "HTML_TABLE_SCHEMA": false,
       "LOG_LEVEL": 30,
       "MAX_RENDER_SIZE_BYTES": 104857600,
       "MAX_STRING_LENGTH": 250,
       "NUM_PAST_SAMPLES_TRACKED": 3,
       "RANDOM_STATE": 12648430,
       "RESET_INDEX_VALUES": false,
       "ROW_SAMPLING_METHOD": "random",
       "SAMPLING_FACTOR": 0.1,
       "SAMPLING_METHOD": "random",
       "STRINGIFY_COLUMN_VALUES": true,
       "STRINGIFY_INDEX_VALUES": false
      },
      "sample_history": [],
      "sampling_time": "2023-11-27T16:46:31.717281",
      "user_variable_name": null,
      "variable_name": "unk_dataframe_9e3088bcf27b475eaa24fcf1b050a8f3"
     },
     "6de67d65-b1da-44c5-a8f6-4bb9b49cce90": {
      "applied_filters": [],
      "dataframe_info": {
       "default_index_used": true,
       "orig_num_cols": 18,
       "orig_num_rows": 5,
       "orig_size_bytes": 760,
       "truncated_num_cols": 18,
       "truncated_num_rows": 5,
       "truncated_size_bytes": 760,
       "truncated_string_columns": []
      },
      "display_id": "6de67d65-b1da-44c5-a8f6-4bb9b49cce90",
      "dx_settings": {
       "ALLOW_NOTEABLE_ATTRS": true,
       "COLUMN_SAMPLING_METHOD": "outer",
       "DB_LOCATION": ":memory:",
       "DEV_MODE": false,
       "DISPLAY_MAX_COLUMNS": 100,
       "DISPLAY_MAX_ROWS": 50000,
       "DISPLAY_MODE": "simple",
       "ENABLE_ASSIGNMENT": true,
       "ENABLE_DATALINK": true,
       "FLATTEN_COLUMN_VALUES": true,
       "FLATTEN_INDEX_VALUES": false,
       "GENERATE_DEX_METADATA": false,
       "HTML_TABLE_SCHEMA": false,
       "LOG_LEVEL": 30,
       "MAX_RENDER_SIZE_BYTES": 104857600,
       "MAX_STRING_LENGTH": 250,
       "NUM_PAST_SAMPLES_TRACKED": 3,
       "RANDOM_STATE": 12648430,
       "RESET_INDEX_VALUES": false,
       "ROW_SAMPLING_METHOD": "random",
       "SAMPLING_FACTOR": 0.1,
       "SAMPLING_METHOD": "random",
       "STRINGIFY_COLUMN_VALUES": true,
       "STRINGIFY_INDEX_VALUES": false
      },
      "sample_history": [],
      "sampling_time": "2023-11-26T17:02:28.187795",
      "user_variable_name": null,
      "variable_name": "unk_dataframe_99f86bc9da2146aaa83a310b333a627a"
     },
     "72965496-502b-4d4b-8af8-b7bb8889bd1e": {
      "applied_filters": [],
      "dataframe_info": {
       "default_index_used": true,
       "orig_num_cols": 18,
       "orig_num_rows": 5,
       "orig_size_bytes": 760,
       "truncated_num_cols": 18,
       "truncated_num_rows": 5,
       "truncated_size_bytes": 760,
       "truncated_string_columns": []
      },
      "display_id": "72965496-502b-4d4b-8af8-b7bb8889bd1e",
      "dx_settings": {
       "ALLOW_NOTEABLE_ATTRS": true,
       "COLUMN_SAMPLING_METHOD": "outer",
       "DB_LOCATION": ":memory:",
       "DEV_MODE": false,
       "DISPLAY_MAX_COLUMNS": 100,
       "DISPLAY_MAX_ROWS": 50000,
       "DISPLAY_MODE": "simple",
       "ENABLE_ASSIGNMENT": true,
       "ENABLE_DATALINK": true,
       "FLATTEN_COLUMN_VALUES": true,
       "FLATTEN_INDEX_VALUES": false,
       "GENERATE_DEX_METADATA": false,
       "HTML_TABLE_SCHEMA": false,
       "LOG_LEVEL": 30,
       "MAX_RENDER_SIZE_BYTES": 104857600,
       "MAX_STRING_LENGTH": 250,
       "NUM_PAST_SAMPLES_TRACKED": 3,
       "RANDOM_STATE": 12648430,
       "RESET_INDEX_VALUES": false,
       "ROW_SAMPLING_METHOD": "random",
       "SAMPLING_FACTOR": 0.1,
       "SAMPLING_METHOD": "random",
       "STRINGIFY_COLUMN_VALUES": true,
       "STRINGIFY_INDEX_VALUES": false
      },
      "sample_history": [],
      "sampling_time": "2023-11-27T17:58:52.505050",
      "user_variable_name": null,
      "variable_name": "unk_dataframe_4d36f21f0361413fb5f275edcad53ce7"
     },
     "92f172d5-dbc0-463c-a774-140ebee54291": {
      "applied_filters": [],
      "dataframe_info": {
       "default_index_used": true,
       "orig_num_cols": 18,
       "orig_num_rows": 5,
       "orig_size_bytes": 760,
       "truncated_num_cols": 18,
       "truncated_num_rows": 5,
       "truncated_size_bytes": 760,
       "truncated_string_columns": []
      },
      "display_id": "92f172d5-dbc0-463c-a774-140ebee54291",
      "dx_settings": {
       "ALLOW_NOTEABLE_ATTRS": true,
       "COLUMN_SAMPLING_METHOD": "outer",
       "DB_LOCATION": ":memory:",
       "DEV_MODE": false,
       "DISPLAY_MAX_COLUMNS": 100,
       "DISPLAY_MAX_ROWS": 50000,
       "DISPLAY_MODE": "simple",
       "ENABLE_ASSIGNMENT": true,
       "ENABLE_DATALINK": true,
       "FLATTEN_COLUMN_VALUES": true,
       "FLATTEN_INDEX_VALUES": false,
       "GENERATE_DEX_METADATA": false,
       "HTML_TABLE_SCHEMA": false,
       "LOG_LEVEL": 30,
       "MAX_RENDER_SIZE_BYTES": 104857600,
       "MAX_STRING_LENGTH": 250,
       "NUM_PAST_SAMPLES_TRACKED": 3,
       "RANDOM_STATE": 12648430,
       "RESET_INDEX_VALUES": false,
       "ROW_SAMPLING_METHOD": "random",
       "SAMPLING_FACTOR": 0.1,
       "SAMPLING_METHOD": "random",
       "STRINGIFY_COLUMN_VALUES": true,
       "STRINGIFY_INDEX_VALUES": false
      },
      "sample_history": [],
      "sampling_time": "2023-11-28T15:24:12.819632",
      "user_variable_name": null,
      "variable_name": "unk_dataframe_55ba1ee67dc042ef9f9d8f48324bc03e"
     },
     "a813524a-aec9-4cb7-a6fa-2fb37baf5f1e": {
      "applied_filters": [],
      "dataframe_info": {
       "default_index_used": true,
       "orig_num_cols": 18,
       "orig_num_rows": 5,
       "orig_size_bytes": 760,
       "truncated_num_cols": 18,
       "truncated_num_rows": 5,
       "truncated_size_bytes": 760,
       "truncated_string_columns": []
      },
      "display_id": "a813524a-aec9-4cb7-a6fa-2fb37baf5f1e",
      "dx_settings": {
       "ALLOW_NOTEABLE_ATTRS": true,
       "COLUMN_SAMPLING_METHOD": "outer",
       "DB_LOCATION": ":memory:",
       "DEV_MODE": false,
       "DISPLAY_MAX_COLUMNS": 100,
       "DISPLAY_MAX_ROWS": 50000,
       "DISPLAY_MODE": "simple",
       "ENABLE_ASSIGNMENT": true,
       "ENABLE_DATALINK": true,
       "FLATTEN_COLUMN_VALUES": true,
       "FLATTEN_INDEX_VALUES": false,
       "GENERATE_DEX_METADATA": false,
       "HTML_TABLE_SCHEMA": false,
       "LOG_LEVEL": 30,
       "MAX_RENDER_SIZE_BYTES": 104857600,
       "MAX_STRING_LENGTH": 250,
       "NUM_PAST_SAMPLES_TRACKED": 3,
       "RANDOM_STATE": 12648430,
       "RESET_INDEX_VALUES": false,
       "ROW_SAMPLING_METHOD": "random",
       "SAMPLING_FACTOR": 0.1,
       "SAMPLING_METHOD": "random",
       "STRINGIFY_COLUMN_VALUES": true,
       "STRINGIFY_INDEX_VALUES": false
      },
      "sample_history": [],
      "sampling_time": "2023-11-28T16:04:28.862564",
      "user_variable_name": null,
      "variable_name": "unk_dataframe_c349daeaa1c541ed97eb79fdd9eac078"
     },
     "ac42a6e6-c002-4111-aa0c-2ea8d9cad4db": {
      "applied_filters": [],
      "dataframe_info": {
       "default_index_used": true,
       "orig_num_cols": 18,
       "orig_num_rows": 5,
       "orig_size_bytes": 760,
       "truncated_num_cols": 18,
       "truncated_num_rows": 5,
       "truncated_size_bytes": 760,
       "truncated_string_columns": []
      },
      "display_id": "ac42a6e6-c002-4111-aa0c-2ea8d9cad4db",
      "dx_settings": {
       "ALLOW_NOTEABLE_ATTRS": true,
       "COLUMN_SAMPLING_METHOD": "outer",
       "DB_LOCATION": ":memory:",
       "DEV_MODE": false,
       "DISPLAY_MAX_COLUMNS": 100,
       "DISPLAY_MAX_ROWS": 50000,
       "DISPLAY_MODE": "simple",
       "ENABLE_ASSIGNMENT": true,
       "ENABLE_DATALINK": true,
       "FLATTEN_COLUMN_VALUES": true,
       "FLATTEN_INDEX_VALUES": false,
       "GENERATE_DEX_METADATA": false,
       "HTML_TABLE_SCHEMA": false,
       "LOG_LEVEL": 30,
       "MAX_RENDER_SIZE_BYTES": 104857600,
       "MAX_STRING_LENGTH": 250,
       "NUM_PAST_SAMPLES_TRACKED": 3,
       "RANDOM_STATE": 12648430,
       "RESET_INDEX_VALUES": false,
       "ROW_SAMPLING_METHOD": "random",
       "SAMPLING_FACTOR": 0.1,
       "SAMPLING_METHOD": "random",
       "STRINGIFY_COLUMN_VALUES": true,
       "STRINGIFY_INDEX_VALUES": false
      },
      "sample_history": [],
      "sampling_time": "2023-11-29T18:28:14.874400",
      "user_variable_name": null,
      "variable_name": "unk_dataframe_df81d2038b0b4a8aabea35b008d43cce"
     },
     "ad81dd83-dfa4-4f7c-8d62-61c0501a38d5": {
      "applied_filters": [],
      "dataframe_info": {
       "default_index_used": true,
       "orig_num_cols": 18,
       "orig_num_rows": 5,
       "orig_size_bytes": 760,
       "truncated_num_cols": 18,
       "truncated_num_rows": 5,
       "truncated_size_bytes": 760,
       "truncated_string_columns": []
      },
      "display_id": "ad81dd83-dfa4-4f7c-8d62-61c0501a38d5",
      "dx_settings": {
       "ALLOW_NOTEABLE_ATTRS": true,
       "COLUMN_SAMPLING_METHOD": "outer",
       "DB_LOCATION": ":memory:",
       "DEV_MODE": false,
       "DISPLAY_MAX_COLUMNS": 100,
       "DISPLAY_MAX_ROWS": 50000,
       "DISPLAY_MODE": "simple",
       "ENABLE_ASSIGNMENT": true,
       "ENABLE_DATALINK": true,
       "FLATTEN_COLUMN_VALUES": true,
       "FLATTEN_INDEX_VALUES": false,
       "GENERATE_DEX_METADATA": false,
       "HTML_TABLE_SCHEMA": false,
       "LOG_LEVEL": 30,
       "MAX_RENDER_SIZE_BYTES": 104857600,
       "MAX_STRING_LENGTH": 250,
       "NUM_PAST_SAMPLES_TRACKED": 3,
       "RANDOM_STATE": 12648430,
       "RESET_INDEX_VALUES": false,
       "ROW_SAMPLING_METHOD": "random",
       "SAMPLING_FACTOR": 0.1,
       "SAMPLING_METHOD": "random",
       "STRINGIFY_COLUMN_VALUES": true,
       "STRINGIFY_INDEX_VALUES": false
      },
      "sample_history": [],
      "sampling_time": "2023-11-29T15:07:50.380390",
      "user_variable_name": null,
      "variable_name": "unk_dataframe_73a348917c204d13a238c3bfdbb265ed"
     },
     "be53a2b7-12ed-4183-9181-3702d0d56b8b": {
      "applied_filters": [],
      "dataframe_info": {
       "default_index_used": true,
       "orig_num_cols": 18,
       "orig_num_rows": 5,
       "orig_size_bytes": 760,
       "truncated_num_cols": 18,
       "truncated_num_rows": 5,
       "truncated_size_bytes": 760,
       "truncated_string_columns": []
      },
      "display_id": "be53a2b7-12ed-4183-9181-3702d0d56b8b",
      "dx_settings": {
       "ALLOW_NOTEABLE_ATTRS": true,
       "COLUMN_SAMPLING_METHOD": "outer",
       "DB_LOCATION": ":memory:",
       "DEV_MODE": false,
       "DISPLAY_MAX_COLUMNS": 100,
       "DISPLAY_MAX_ROWS": 50000,
       "DISPLAY_MODE": "simple",
       "ENABLE_ASSIGNMENT": true,
       "ENABLE_DATALINK": true,
       "FLATTEN_COLUMN_VALUES": true,
       "FLATTEN_INDEX_VALUES": false,
       "GENERATE_DEX_METADATA": false,
       "HTML_TABLE_SCHEMA": false,
       "LOG_LEVEL": 30,
       "MAX_RENDER_SIZE_BYTES": 104857600,
       "MAX_STRING_LENGTH": 250,
       "NUM_PAST_SAMPLES_TRACKED": 3,
       "RANDOM_STATE": 12648430,
       "RESET_INDEX_VALUES": false,
       "ROW_SAMPLING_METHOD": "random",
       "SAMPLING_FACTOR": 0.1,
       "SAMPLING_METHOD": "random",
       "STRINGIFY_COLUMN_VALUES": true,
       "STRINGIFY_INDEX_VALUES": false
      },
      "sample_history": [],
      "sampling_time": "2023-11-26T16:46:40.448199",
      "user_variable_name": null,
      "variable_name": "unk_dataframe_9c10757ec2c840a08bb8db268366c1dc"
     },
     "da9d1b4a-f079-4b8a-bc9c-b5ca0548bec5": {
      "applied_filters": [],
      "dataframe_info": {
       "default_index_used": true,
       "orig_num_cols": 18,
       "orig_num_rows": 5,
       "orig_size_bytes": 760,
       "truncated_num_cols": 18,
       "truncated_num_rows": 5,
       "truncated_size_bytes": 760,
       "truncated_string_columns": []
      },
      "display_id": "da9d1b4a-f079-4b8a-bc9c-b5ca0548bec5",
      "dx_settings": {
       "ALLOW_NOTEABLE_ATTRS": true,
       "COLUMN_SAMPLING_METHOD": "outer",
       "DB_LOCATION": ":memory:",
       "DEV_MODE": false,
       "DISPLAY_MAX_COLUMNS": 100,
       "DISPLAY_MAX_ROWS": 50000,
       "DISPLAY_MODE": "simple",
       "ENABLE_ASSIGNMENT": true,
       "ENABLE_DATALINK": true,
       "FLATTEN_COLUMN_VALUES": true,
       "FLATTEN_INDEX_VALUES": false,
       "GENERATE_DEX_METADATA": false,
       "HTML_TABLE_SCHEMA": false,
       "LOG_LEVEL": 30,
       "MAX_RENDER_SIZE_BYTES": 104857600,
       "MAX_STRING_LENGTH": 250,
       "NUM_PAST_SAMPLES_TRACKED": 3,
       "RANDOM_STATE": 12648430,
       "RESET_INDEX_VALUES": false,
       "ROW_SAMPLING_METHOD": "random",
       "SAMPLING_FACTOR": 0.1,
       "SAMPLING_METHOD": "random",
       "STRINGIFY_COLUMN_VALUES": true,
       "STRINGIFY_INDEX_VALUES": false
      },
      "sample_history": [],
      "sampling_time": "2023-11-26T17:09:59.058612",
      "user_variable_name": null,
      "variable_name": "unk_dataframe_2618aea4324d44768710861674037f9e"
     }
    },
    "dx": {
     "dashboard": {
      "multiViews": []
     },
     "fieldMetadata": {},
     "updated": 1701017438135,
     "views": [
      {
       "annotationRules": [],
       "chart": {},
       "chartMode": "grid",
       "confoRules": [],
       "decoration": {
        "footer": "",
        "subtitle": "",
        "title": "Table"
       },
       "facets": [],
       "filterSettings": {
        "SHOW_FILTER_PANEL": true,
        "filters": []
       },
       "id": "first-view",
       "isDefault": true,
       "type": "public",
       "userID": ""
      },
      {
       "annotationRules": [],
       "chart": {
        "facets": []
       },
       "chartMode": "grid",
       "confoRules": [],
       "decoration": {
        "footer": "",
        "subtitle": "",
        "title": "Table"
       },
       "facets": [],
       "filterSettings": {
        "SHOW_FILTER_PANEL": true,
        "filters": []
       },
       "id": "first-view",
       "isDefault": true,
       "isTransitory": true,
       "type": "public",
       "userID": ""
      }
     ]
    },
    "jupyter": {
     "outputs_hidden": false,
     "source_hidden": false
    },
    "noteable": {
     "cell_type": "code"
    },
    "scrolled": true
   },
   "outputs": [
    {
     "data": {
      "text/html": [
       "<div>\n",
       "<style scoped>\n",
       "    .dataframe tbody tr th:only-of-type {\n",
       "        vertical-align: middle;\n",
       "    }\n",
       "\n",
       "    .dataframe tbody tr th {\n",
       "        vertical-align: top;\n",
       "    }\n",
       "\n",
       "    .dataframe thead th {\n",
       "        text-align: right;\n",
       "    }\n",
       "</style>\n",
       "<table border=\"1\" class=\"dataframe\">\n",
       "  <thead>\n",
       "    <tr style=\"text-align: right;\">\n",
       "      <th></th>\n",
       "      <th>obj_ID</th>\n",
       "      <th>alpha</th>\n",
       "      <th>delta</th>\n",
       "      <th>u</th>\n",
       "      <th>g</th>\n",
       "      <th>r</th>\n",
       "      <th>i</th>\n",
       "      <th>z</th>\n",
       "      <th>run_ID</th>\n",
       "      <th>rerun_ID</th>\n",
       "      <th>cam_col</th>\n",
       "      <th>field_ID</th>\n",
       "      <th>spec_obj_ID</th>\n",
       "      <th>class</th>\n",
       "      <th>redshift</th>\n",
       "      <th>plate</th>\n",
       "      <th>MJD</th>\n",
       "      <th>fiber_ID</th>\n",
       "    </tr>\n",
       "  </thead>\n",
       "  <tbody>\n",
       "    <tr>\n",
       "      <th>0</th>\n",
       "      <td>1.237661e+18</td>\n",
       "      <td>135.689107</td>\n",
       "      <td>32.494632</td>\n",
       "      <td>23.87882</td>\n",
       "      <td>22.27530</td>\n",
       "      <td>20.39501</td>\n",
       "      <td>19.16573</td>\n",
       "      <td>18.79371</td>\n",
       "      <td>3606</td>\n",
       "      <td>301</td>\n",
       "      <td>2</td>\n",
       "      <td>79</td>\n",
       "      <td>6.543777e+18</td>\n",
       "      <td>GALAXY</td>\n",
       "      <td>0.634794</td>\n",
       "      <td>5812</td>\n",
       "      <td>56354</td>\n",
       "      <td>171</td>\n",
       "    </tr>\n",
       "    <tr>\n",
       "      <th>1</th>\n",
       "      <td>1.237665e+18</td>\n",
       "      <td>144.826101</td>\n",
       "      <td>31.274185</td>\n",
       "      <td>24.77759</td>\n",
       "      <td>22.83188</td>\n",
       "      <td>22.58444</td>\n",
       "      <td>21.16812</td>\n",
       "      <td>21.61427</td>\n",
       "      <td>4518</td>\n",
       "      <td>301</td>\n",
       "      <td>5</td>\n",
       "      <td>119</td>\n",
       "      <td>1.176014e+19</td>\n",
       "      <td>GALAXY</td>\n",
       "      <td>0.779136</td>\n",
       "      <td>10445</td>\n",
       "      <td>58158</td>\n",
       "      <td>427</td>\n",
       "    </tr>\n",
       "    <tr>\n",
       "      <th>2</th>\n",
       "      <td>1.237661e+18</td>\n",
       "      <td>142.188790</td>\n",
       "      <td>35.582444</td>\n",
       "      <td>25.26307</td>\n",
       "      <td>22.66389</td>\n",
       "      <td>20.60976</td>\n",
       "      <td>19.34857</td>\n",
       "      <td>18.94827</td>\n",
       "      <td>3606</td>\n",
       "      <td>301</td>\n",
       "      <td>2</td>\n",
       "      <td>120</td>\n",
       "      <td>5.152200e+18</td>\n",
       "      <td>GALAXY</td>\n",
       "      <td>0.644195</td>\n",
       "      <td>4576</td>\n",
       "      <td>55592</td>\n",
       "      <td>299</td>\n",
       "    </tr>\n",
       "    <tr>\n",
       "      <th>3</th>\n",
       "      <td>1.237663e+18</td>\n",
       "      <td>338.741038</td>\n",
       "      <td>-0.402828</td>\n",
       "      <td>22.13682</td>\n",
       "      <td>23.77656</td>\n",
       "      <td>21.61162</td>\n",
       "      <td>20.50454</td>\n",
       "      <td>19.25010</td>\n",
       "      <td>4192</td>\n",
       "      <td>301</td>\n",
       "      <td>3</td>\n",
       "      <td>214</td>\n",
       "      <td>1.030107e+19</td>\n",
       "      <td>GALAXY</td>\n",
       "      <td>0.932346</td>\n",
       "      <td>9149</td>\n",
       "      <td>58039</td>\n",
       "      <td>775</td>\n",
       "    </tr>\n",
       "    <tr>\n",
       "      <th>4</th>\n",
       "      <td>1.237680e+18</td>\n",
       "      <td>345.282593</td>\n",
       "      <td>21.183866</td>\n",
       "      <td>19.43718</td>\n",
       "      <td>17.58028</td>\n",
       "      <td>16.49747</td>\n",
       "      <td>15.97711</td>\n",
       "      <td>15.54461</td>\n",
       "      <td>8102</td>\n",
       "      <td>301</td>\n",
       "      <td>3</td>\n",
       "      <td>137</td>\n",
       "      <td>6.891865e+18</td>\n",
       "      <td>GALAXY</td>\n",
       "      <td>0.116123</td>\n",
       "      <td>6121</td>\n",
       "      <td>56187</td>\n",
       "      <td>842</td>\n",
       "    </tr>\n",
       "  </tbody>\n",
       "</table>\n",
       "</div>"
      ],
      "text/plain": [
       "         obj_ID       alpha      delta         u         g         r  \\\n",
       "0  1.237661e+18  135.689107  32.494632  23.87882  22.27530  20.39501   \n",
       "1  1.237665e+18  144.826101  31.274185  24.77759  22.83188  22.58444   \n",
       "2  1.237661e+18  142.188790  35.582444  25.26307  22.66389  20.60976   \n",
       "3  1.237663e+18  338.741038  -0.402828  22.13682  23.77656  21.61162   \n",
       "4  1.237680e+18  345.282593  21.183866  19.43718  17.58028  16.49747   \n",
       "\n",
       "          i         z  run_ID  rerun_ID  cam_col  field_ID   spec_obj_ID  \\\n",
       "0  19.16573  18.79371    3606       301        2        79  6.543777e+18   \n",
       "1  21.16812  21.61427    4518       301        5       119  1.176014e+19   \n",
       "2  19.34857  18.94827    3606       301        2       120  5.152200e+18   \n",
       "3  20.50454  19.25010    4192       301        3       214  1.030107e+19   \n",
       "4  15.97711  15.54461    8102       301        3       137  6.891865e+18   \n",
       "\n",
       "    class  redshift  plate    MJD  fiber_ID  \n",
       "0  GALAXY  0.634794   5812  56354       171  \n",
       "1  GALAXY  0.779136  10445  58158       427  \n",
       "2  GALAXY  0.644195   4576  55592       299  \n",
       "3  GALAXY  0.932346   9149  58039       775  \n",
       "4  GALAXY  0.116123   6121  56187       842  "
      ]
     },
     "execution_count": 2,
     "metadata": {},
     "output_type": "execute_result"
    }
   ],
   "source": [
    "df=pd.read_csv('star_classification.csv')\n",
    "df.head()"
   ]
  },
  {
   "cell_type": "markdown",
   "id": "40a5811c-90ee-4c33-992e-509c0d678727",
   "metadata": {
    "noteable": {
     "cell_type": "markdown"
    }
   },
   "source": [
    "## Análisis Preliminar\n",
    "\n",
    "El análisis preliminar del conjunto de datos revela lo siguiente:\n",
    "\n",
    "- **Valores Faltantes**: No hay valores faltantes en ninguna de las columnas.\n",
    "- **Duplicados**: No se encontraron filas duplicadas en el conjunto de datos.\n",
    "- **Resumen Estadístico**:\n",
    "  - Las columnas `u` y `z` tienen valores mínimos de -9999, lo que parece ser un marcador de valor faltante o erróneo.\n",
    "  - Las columnas `alpha`, `delta`, `u`, `g`, `r`, `i`, `z` muestran una amplia gama de valores, lo cual es esperado dada su naturaleza (coordenadas celestes y mediciones fotométricas).\n",
    "  - `redshift` varía desde -0.009971 hasta 7.011245, lo cual es típico en estudios astronómicos.\n",
    "  - Las columnas `run_ID`, `rerun_ID`, `cam_col`, `field_ID`, `spec_obj_ID`, `plate`, `MJD`, y `fiber_ID` son identificadores y datos de observación, con sus propias distribuciones específicas."
   ]
  },
  {
   "cell_type": "code",
   "execution_count": 3,
   "id": "1c4aec1a-77d5-4758-90a5-57df1a95b6f2",
   "metadata": {
    "ExecuteTime": {
     "end_time": "2023-11-30T11:17:52.723667+00:00",
     "start_time": "2023-11-30T11:17:51.681206+00:00"
    },
    "datalink": {
     "08169b99-9fd2-475e-874b-11b1050afd52": {
      "applied_filters": [],
      "dataframe_info": {
       "default_index_used": false,
       "orig_num_cols": 17,
       "orig_num_rows": 8,
       "orig_size_bytes": 1152,
       "truncated_num_cols": 17,
       "truncated_num_rows": 8,
       "truncated_size_bytes": 1152,
       "truncated_string_columns": []
      },
      "display_id": "08169b99-9fd2-475e-874b-11b1050afd52",
      "dx_settings": {
       "ALLOW_NOTEABLE_ATTRS": true,
       "COLUMN_SAMPLING_METHOD": "outer",
       "DB_LOCATION": ":memory:",
       "DEV_MODE": false,
       "DISPLAY_MAX_COLUMNS": 100,
       "DISPLAY_MAX_ROWS": 50000,
       "DISPLAY_MODE": "simple",
       "ENABLE_ASSIGNMENT": true,
       "ENABLE_DATALINK": true,
       "FLATTEN_COLUMN_VALUES": true,
       "FLATTEN_INDEX_VALUES": false,
       "GENERATE_DEX_METADATA": false,
       "HTML_TABLE_SCHEMA": false,
       "LOG_LEVEL": 30,
       "MAX_RENDER_SIZE_BYTES": 104857600,
       "MAX_STRING_LENGTH": 250,
       "NUM_PAST_SAMPLES_TRACKED": 3,
       "RANDOM_STATE": 12648430,
       "RESET_INDEX_VALUES": false,
       "ROW_SAMPLING_METHOD": "random",
       "SAMPLING_FACTOR": 0.1,
       "SAMPLING_METHOD": "random",
       "STRINGIFY_COLUMN_VALUES": true,
       "STRINGIFY_INDEX_VALUES": false
      },
      "sample_history": [],
      "sampling_time": "2023-11-28T15:56:46.372843",
      "user_variable_name": null,
      "variable_name": "unk_dataframe_c19a380d33d14d0c9788e803397e371e"
     },
     "0f46414f-9764-45c2-958d-bab06f9febac": {
      "applied_filters": [],
      "dataframe_info": {
       "default_index_used": false,
       "orig_num_cols": 17,
       "orig_num_rows": 8,
       "orig_size_bytes": 1152,
       "truncated_num_cols": 17,
       "truncated_num_rows": 8,
       "truncated_size_bytes": 1152,
       "truncated_string_columns": []
      },
      "display_id": "0f46414f-9764-45c2-958d-bab06f9febac",
      "dx_settings": {
       "ALLOW_NOTEABLE_ATTRS": true,
       "COLUMN_SAMPLING_METHOD": "outer",
       "DB_LOCATION": ":memory:",
       "DEV_MODE": false,
       "DISPLAY_MAX_COLUMNS": 100,
       "DISPLAY_MAX_ROWS": 50000,
       "DISPLAY_MODE": "simple",
       "ENABLE_ASSIGNMENT": true,
       "ENABLE_DATALINK": true,
       "FLATTEN_COLUMN_VALUES": true,
       "FLATTEN_INDEX_VALUES": false,
       "GENERATE_DEX_METADATA": false,
       "HTML_TABLE_SCHEMA": false,
       "LOG_LEVEL": 30,
       "MAX_RENDER_SIZE_BYTES": 104857600,
       "MAX_STRING_LENGTH": 250,
       "NUM_PAST_SAMPLES_TRACKED": 3,
       "RANDOM_STATE": 12648430,
       "RESET_INDEX_VALUES": false,
       "ROW_SAMPLING_METHOD": "random",
       "SAMPLING_FACTOR": 0.1,
       "SAMPLING_METHOD": "random",
       "STRINGIFY_COLUMN_VALUES": true,
       "STRINGIFY_INDEX_VALUES": false
      },
      "sample_history": [],
      "sampling_time": "2023-11-30T11:17:52.560106",
      "user_variable_name": null,
      "variable_name": "unk_dataframe_bac206a0b65f4cd7b103215d2791353b"
     },
     "13fd64f4-22f0-4509-963c-90cfe3fed455": {
      "applied_filters": [],
      "dataframe_info": {
       "default_index_used": false,
       "orig_num_cols": 17,
       "orig_num_rows": 8,
       "orig_size_bytes": 1152,
       "truncated_num_cols": 17,
       "truncated_num_rows": 8,
       "truncated_size_bytes": 1152,
       "truncated_string_columns": []
      },
      "display_id": "13fd64f4-22f0-4509-963c-90cfe3fed455",
      "dx_settings": {
       "ALLOW_NOTEABLE_ATTRS": true,
       "COLUMN_SAMPLING_METHOD": "outer",
       "DB_LOCATION": ":memory:",
       "DEV_MODE": false,
       "DISPLAY_MAX_COLUMNS": 100,
       "DISPLAY_MAX_ROWS": 50000,
       "DISPLAY_MODE": "simple",
       "ENABLE_ASSIGNMENT": true,
       "ENABLE_DATALINK": true,
       "FLATTEN_COLUMN_VALUES": true,
       "FLATTEN_INDEX_VALUES": false,
       "GENERATE_DEX_METADATA": false,
       "HTML_TABLE_SCHEMA": false,
       "LOG_LEVEL": 30,
       "MAX_RENDER_SIZE_BYTES": 104857600,
       "MAX_STRING_LENGTH": 250,
       "NUM_PAST_SAMPLES_TRACKED": 3,
       "RANDOM_STATE": 12648430,
       "RESET_INDEX_VALUES": false,
       "ROW_SAMPLING_METHOD": "random",
       "SAMPLING_FACTOR": 0.1,
       "SAMPLING_METHOD": "random",
       "STRINGIFY_COLUMN_VALUES": true,
       "STRINGIFY_INDEX_VALUES": false
      },
      "sample_history": [],
      "sampling_time": "2023-11-26T18:40:50.003363",
      "user_variable_name": "statistical_summary",
      "variable_name": "statistical_summary"
     },
     "22fd01e0-39ac-46cc-9480-4482e6ea5c6f": {
      "applied_filters": [],
      "dataframe_info": {
       "default_index_used": false,
       "orig_num_cols": 17,
       "orig_num_rows": 8,
       "orig_size_bytes": 1152,
       "truncated_num_cols": 17,
       "truncated_num_rows": 8,
       "truncated_size_bytes": 1152,
       "truncated_string_columns": []
      },
      "display_id": "22fd01e0-39ac-46cc-9480-4482e6ea5c6f",
      "dx_settings": {
       "ALLOW_NOTEABLE_ATTRS": true,
       "COLUMN_SAMPLING_METHOD": "outer",
       "DB_LOCATION": ":memory:",
       "DEV_MODE": false,
       "DISPLAY_MAX_COLUMNS": 100,
       "DISPLAY_MAX_ROWS": 50000,
       "DISPLAY_MODE": "simple",
       "ENABLE_ASSIGNMENT": true,
       "ENABLE_DATALINK": true,
       "FLATTEN_COLUMN_VALUES": true,
       "FLATTEN_INDEX_VALUES": false,
       "GENERATE_DEX_METADATA": false,
       "HTML_TABLE_SCHEMA": false,
       "LOG_LEVEL": 30,
       "MAX_RENDER_SIZE_BYTES": 104857600,
       "MAX_STRING_LENGTH": 250,
       "NUM_PAST_SAMPLES_TRACKED": 3,
       "RANDOM_STATE": 12648430,
       "RESET_INDEX_VALUES": false,
       "ROW_SAMPLING_METHOD": "random",
       "SAMPLING_FACTOR": 0.1,
       "SAMPLING_METHOD": "random",
       "STRINGIFY_COLUMN_VALUES": true,
       "STRINGIFY_INDEX_VALUES": false
      },
      "sample_history": [],
      "sampling_time": "2023-11-28T15:53:17.443901",
      "user_variable_name": null,
      "variable_name": "unk_dataframe_4f99f2591e9340da9ebdd96148feaae1"
     },
     "2fa856a4-3a59-416c-ac26-1e110fcd08cf": {
      "applied_filters": [],
      "dataframe_info": {
       "default_index_used": false,
       "orig_num_cols": 17,
       "orig_num_rows": 8,
       "orig_size_bytes": 1152,
       "truncated_num_cols": 17,
       "truncated_num_rows": 8,
       "truncated_size_bytes": 1152,
       "truncated_string_columns": []
      },
      "display_id": "2fa856a4-3a59-416c-ac26-1e110fcd08cf",
      "dx_settings": {
       "ALLOW_NOTEABLE_ATTRS": true,
       "COLUMN_SAMPLING_METHOD": "outer",
       "DB_LOCATION": ":memory:",
       "DEV_MODE": false,
       "DISPLAY_MAX_COLUMNS": 100,
       "DISPLAY_MAX_ROWS": 50000,
       "DISPLAY_MODE": "simple",
       "ENABLE_ASSIGNMENT": true,
       "ENABLE_DATALINK": true,
       "FLATTEN_COLUMN_VALUES": true,
       "FLATTEN_INDEX_VALUES": false,
       "GENERATE_DEX_METADATA": false,
       "HTML_TABLE_SCHEMA": false,
       "LOG_LEVEL": 30,
       "MAX_RENDER_SIZE_BYTES": 104857600,
       "MAX_STRING_LENGTH": 250,
       "NUM_PAST_SAMPLES_TRACKED": 3,
       "RANDOM_STATE": 12648430,
       "RESET_INDEX_VALUES": false,
       "ROW_SAMPLING_METHOD": "random",
       "SAMPLING_FACTOR": 0.1,
       "SAMPLING_METHOD": "random",
       "STRINGIFY_COLUMN_VALUES": true,
       "STRINGIFY_INDEX_VALUES": false
      },
      "sample_history": [],
      "sampling_time": "2023-11-28T16:04:30.207012",
      "user_variable_name": null,
      "variable_name": "unk_dataframe_8c108a8ee9a5404db89162f4a1d7b8d1"
     },
     "34cf94ae-c85c-408f-afe4-7188f598da6d": {
      "applied_filters": [],
      "dataframe_info": {
       "default_index_used": false,
       "orig_num_cols": 17,
       "orig_num_rows": 8,
       "orig_size_bytes": 1152,
       "truncated_num_cols": 17,
       "truncated_num_rows": 8,
       "truncated_size_bytes": 1152,
       "truncated_string_columns": []
      },
      "display_id": "34cf94ae-c85c-408f-afe4-7188f598da6d",
      "dx_settings": {
       "ALLOW_NOTEABLE_ATTRS": true,
       "COLUMN_SAMPLING_METHOD": "outer",
       "DB_LOCATION": ":memory:",
       "DEV_MODE": false,
       "DISPLAY_MAX_COLUMNS": 100,
       "DISPLAY_MAX_ROWS": 50000,
       "DISPLAY_MODE": "simple",
       "ENABLE_ASSIGNMENT": true,
       "ENABLE_DATALINK": true,
       "FLATTEN_COLUMN_VALUES": true,
       "FLATTEN_INDEX_VALUES": false,
       "GENERATE_DEX_METADATA": false,
       "HTML_TABLE_SCHEMA": false,
       "LOG_LEVEL": 30,
       "MAX_RENDER_SIZE_BYTES": 104857600,
       "MAX_STRING_LENGTH": 250,
       "NUM_PAST_SAMPLES_TRACKED": 3,
       "RANDOM_STATE": 12648430,
       "RESET_INDEX_VALUES": false,
       "ROW_SAMPLING_METHOD": "random",
       "SAMPLING_FACTOR": 0.1,
       "SAMPLING_METHOD": "random",
       "STRINGIFY_COLUMN_VALUES": true,
       "STRINGIFY_INDEX_VALUES": false
      },
      "sample_history": [],
      "sampling_time": "2023-11-27T17:29:57.154219",
      "user_variable_name": null,
      "variable_name": "unk_dataframe_2bef85ece1234c79bc21b2b78ec6469e"
     },
     "3cebd35f-ca01-4621-bf0d-852553d1995b": {
      "applied_filters": [],
      "dataframe_info": {
       "default_index_used": false,
       "orig_num_cols": 17,
       "orig_num_rows": 8,
       "orig_size_bytes": 1152,
       "truncated_num_cols": 17,
       "truncated_num_rows": 8,
       "truncated_size_bytes": 1152,
       "truncated_string_columns": []
      },
      "display_id": "3cebd35f-ca01-4621-bf0d-852553d1995b",
      "dx_settings": {
       "ALLOW_NOTEABLE_ATTRS": true,
       "COLUMN_SAMPLING_METHOD": "outer",
       "DB_LOCATION": ":memory:",
       "DEV_MODE": false,
       "DISPLAY_MAX_COLUMNS": 100,
       "DISPLAY_MAX_ROWS": 50000,
       "DISPLAY_MODE": "simple",
       "ENABLE_ASSIGNMENT": true,
       "ENABLE_DATALINK": true,
       "FLATTEN_COLUMN_VALUES": true,
       "FLATTEN_INDEX_VALUES": false,
       "GENERATE_DEX_METADATA": false,
       "HTML_TABLE_SCHEMA": false,
       "LOG_LEVEL": 30,
       "MAX_RENDER_SIZE_BYTES": 104857600,
       "MAX_STRING_LENGTH": 250,
       "NUM_PAST_SAMPLES_TRACKED": 3,
       "RANDOM_STATE": 12648430,
       "RESET_INDEX_VALUES": false,
       "ROW_SAMPLING_METHOD": "random",
       "SAMPLING_FACTOR": 0.1,
       "SAMPLING_METHOD": "random",
       "STRINGIFY_COLUMN_VALUES": true,
       "STRINGIFY_INDEX_VALUES": false
      },
      "sample_history": [],
      "sampling_time": "2023-11-29T18:28:15.876250",
      "user_variable_name": null,
      "variable_name": "unk_dataframe_5f3cd426b7a04ee98cd5e21d498f345b"
     },
     "3dc50de9-7bc0-4d81-b225-062dbb73e221": {
      "applied_filters": [],
      "dataframe_info": {
       "default_index_used": false,
       "orig_num_cols": 17,
       "orig_num_rows": 8,
       "orig_size_bytes": 1152,
       "truncated_num_cols": 17,
       "truncated_num_rows": 8,
       "truncated_size_bytes": 1152,
       "truncated_string_columns": []
      },
      "display_id": "3dc50de9-7bc0-4d81-b225-062dbb73e221",
      "dx_settings": {
       "ALLOW_NOTEABLE_ATTRS": true,
       "COLUMN_SAMPLING_METHOD": "outer",
       "DB_LOCATION": ":memory:",
       "DEV_MODE": false,
       "DISPLAY_MAX_COLUMNS": 100,
       "DISPLAY_MAX_ROWS": 50000,
       "DISPLAY_MODE": "simple",
       "ENABLE_ASSIGNMENT": true,
       "ENABLE_DATALINK": true,
       "FLATTEN_COLUMN_VALUES": true,
       "FLATTEN_INDEX_VALUES": false,
       "GENERATE_DEX_METADATA": false,
       "HTML_TABLE_SCHEMA": false,
       "LOG_LEVEL": 30,
       "MAX_RENDER_SIZE_BYTES": 104857600,
       "MAX_STRING_LENGTH": 250,
       "NUM_PAST_SAMPLES_TRACKED": 3,
       "RANDOM_STATE": 12648430,
       "RESET_INDEX_VALUES": false,
       "ROW_SAMPLING_METHOD": "random",
       "SAMPLING_FACTOR": 0.1,
       "SAMPLING_METHOD": "random",
       "STRINGIFY_COLUMN_VALUES": true,
       "STRINGIFY_INDEX_VALUES": false
      },
      "sample_history": [],
      "sampling_time": "2023-11-28T17:50:26.532066",
      "user_variable_name": null,
      "variable_name": "unk_dataframe_fabf7953b69f4760ab166689a4f3584e"
     },
     "4940b242-7a94-42d2-8221-47a4d27e9b52": {
      "applied_filters": [],
      "dataframe_info": {
       "default_index_used": false,
       "orig_num_cols": 17,
       "orig_num_rows": 8,
       "orig_size_bytes": 1152,
       "truncated_num_cols": 17,
       "truncated_num_rows": 8,
       "truncated_size_bytes": 1152,
       "truncated_string_columns": []
      },
      "display_id": "4940b242-7a94-42d2-8221-47a4d27e9b52",
      "dx_settings": {
       "ALLOW_NOTEABLE_ATTRS": true,
       "COLUMN_SAMPLING_METHOD": "outer",
       "DB_LOCATION": ":memory:",
       "DEV_MODE": false,
       "DISPLAY_MAX_COLUMNS": 100,
       "DISPLAY_MAX_ROWS": 50000,
       "DISPLAY_MODE": "simple",
       "ENABLE_ASSIGNMENT": true,
       "ENABLE_DATALINK": true,
       "FLATTEN_COLUMN_VALUES": true,
       "FLATTEN_INDEX_VALUES": false,
       "GENERATE_DEX_METADATA": false,
       "HTML_TABLE_SCHEMA": false,
       "LOG_LEVEL": 30,
       "MAX_RENDER_SIZE_BYTES": 104857600,
       "MAX_STRING_LENGTH": 250,
       "NUM_PAST_SAMPLES_TRACKED": 3,
       "RANDOM_STATE": 12648430,
       "RESET_INDEX_VALUES": false,
       "ROW_SAMPLING_METHOD": "random",
       "SAMPLING_FACTOR": 0.1,
       "SAMPLING_METHOD": "random",
       "STRINGIFY_COLUMN_VALUES": true,
       "STRINGIFY_INDEX_VALUES": false
      },
      "sample_history": [],
      "sampling_time": "2023-11-27T18:13:53.503454",
      "user_variable_name": null,
      "variable_name": "unk_dataframe_94d00abead0244adaa09d0221b908453"
     },
     "6ec20c4d-4edf-40f1-8b5f-5f1727a36a91": {
      "applied_filters": [],
      "dataframe_info": {
       "default_index_used": false,
       "orig_num_cols": 17,
       "orig_num_rows": 8,
       "orig_size_bytes": 1152,
       "truncated_num_cols": 17,
       "truncated_num_rows": 8,
       "truncated_size_bytes": 1152,
       "truncated_string_columns": []
      },
      "display_id": "6ec20c4d-4edf-40f1-8b5f-5f1727a36a91",
      "dx_settings": {
       "ALLOW_NOTEABLE_ATTRS": true,
       "COLUMN_SAMPLING_METHOD": "outer",
       "DB_LOCATION": ":memory:",
       "DEV_MODE": false,
       "DISPLAY_MAX_COLUMNS": 100,
       "DISPLAY_MAX_ROWS": 50000,
       "DISPLAY_MODE": "simple",
       "ENABLE_ASSIGNMENT": true,
       "ENABLE_DATALINK": true,
       "FLATTEN_COLUMN_VALUES": true,
       "FLATTEN_INDEX_VALUES": false,
       "GENERATE_DEX_METADATA": false,
       "HTML_TABLE_SCHEMA": false,
       "LOG_LEVEL": 30,
       "MAX_RENDER_SIZE_BYTES": 104857600,
       "MAX_STRING_LENGTH": 250,
       "NUM_PAST_SAMPLES_TRACKED": 3,
       "RANDOM_STATE": 12648430,
       "RESET_INDEX_VALUES": false,
       "ROW_SAMPLING_METHOD": "random",
       "SAMPLING_FACTOR": 0.1,
       "SAMPLING_METHOD": "random",
       "STRINGIFY_COLUMN_VALUES": true,
       "STRINGIFY_INDEX_VALUES": false
      },
      "sample_history": [],
      "sampling_time": "2023-11-27T16:46:32.673240",
      "user_variable_name": null,
      "variable_name": "unk_dataframe_522dce1760c842d980253bdcc10d9a93"
     },
     "8e4cfe9d-6e87-4900-ac6f-fcd41726fdf2": {
      "applied_filters": [],
      "dataframe_info": {
       "default_index_used": false,
       "orig_num_cols": 17,
       "orig_num_rows": 8,
       "orig_size_bytes": 1152,
       "truncated_num_cols": 17,
       "truncated_num_rows": 8,
       "truncated_size_bytes": 1152,
       "truncated_string_columns": []
      },
      "display_id": "8e4cfe9d-6e87-4900-ac6f-fcd41726fdf2",
      "dx_settings": {
       "ALLOW_NOTEABLE_ATTRS": true,
       "COLUMN_SAMPLING_METHOD": "outer",
       "DB_LOCATION": ":memory:",
       "DEV_MODE": false,
       "DISPLAY_MAX_COLUMNS": 100,
       "DISPLAY_MAX_ROWS": 50000,
       "DISPLAY_MODE": "simple",
       "ENABLE_ASSIGNMENT": true,
       "ENABLE_DATALINK": true,
       "FLATTEN_COLUMN_VALUES": true,
       "FLATTEN_INDEX_VALUES": false,
       "GENERATE_DEX_METADATA": false,
       "HTML_TABLE_SCHEMA": false,
       "LOG_LEVEL": 30,
       "MAX_RENDER_SIZE_BYTES": 104857600,
       "MAX_STRING_LENGTH": 250,
       "NUM_PAST_SAMPLES_TRACKED": 3,
       "RANDOM_STATE": 12648430,
       "RESET_INDEX_VALUES": false,
       "ROW_SAMPLING_METHOD": "random",
       "SAMPLING_FACTOR": 0.1,
       "SAMPLING_METHOD": "random",
       "STRINGIFY_COLUMN_VALUES": true,
       "STRINGIFY_INDEX_VALUES": false
      },
      "sample_history": [],
      "sampling_time": "2023-11-29T14:37:45.036239",
      "user_variable_name": null,
      "variable_name": "unk_dataframe_dfbd72751e4e4bbdb971b908f7a77294"
     },
     "9c65dbee-bdb3-4770-8e07-a15d2c62af85": {
      "applied_filters": [],
      "dataframe_info": {
       "default_index_used": false,
       "orig_num_cols": 17,
       "orig_num_rows": 8,
       "orig_size_bytes": 1152,
       "truncated_num_cols": 17,
       "truncated_num_rows": 8,
       "truncated_size_bytes": 1152,
       "truncated_string_columns": []
      },
      "display_id": "9c65dbee-bdb3-4770-8e07-a15d2c62af85",
      "dx_settings": {
       "ALLOW_NOTEABLE_ATTRS": true,
       "COLUMN_SAMPLING_METHOD": "outer",
       "DB_LOCATION": ":memory:",
       "DEV_MODE": false,
       "DISPLAY_MAX_COLUMNS": 100,
       "DISPLAY_MAX_ROWS": 50000,
       "DISPLAY_MODE": "simple",
       "ENABLE_ASSIGNMENT": true,
       "ENABLE_DATALINK": true,
       "FLATTEN_COLUMN_VALUES": true,
       "FLATTEN_INDEX_VALUES": false,
       "GENERATE_DEX_METADATA": false,
       "HTML_TABLE_SCHEMA": false,
       "LOG_LEVEL": 30,
       "MAX_RENDER_SIZE_BYTES": 104857600,
       "MAX_STRING_LENGTH": 250,
       "NUM_PAST_SAMPLES_TRACKED": 3,
       "RANDOM_STATE": 12648430,
       "RESET_INDEX_VALUES": false,
       "ROW_SAMPLING_METHOD": "random",
       "SAMPLING_FACTOR": 0.1,
       "SAMPLING_METHOD": "random",
       "STRINGIFY_COLUMN_VALUES": true,
       "STRINGIFY_INDEX_VALUES": false
      },
      "sample_history": [],
      "sampling_time": "2023-11-28T19:06:14.388327",
      "user_variable_name": null,
      "variable_name": "unk_dataframe_a0e3bdce351646aeb9a51eb7772f7053"
     },
     "9eef4a13-1012-4710-b684-fc6279e29d6d": {
      "applied_filters": [],
      "dataframe_info": {
       "default_index_used": false,
       "orig_num_cols": 17,
       "orig_num_rows": 8,
       "orig_size_bytes": 1152,
       "truncated_num_cols": 17,
       "truncated_num_rows": 8,
       "truncated_size_bytes": 1152,
       "truncated_string_columns": []
      },
      "display_id": "9eef4a13-1012-4710-b684-fc6279e29d6d",
      "dx_settings": {
       "ALLOW_NOTEABLE_ATTRS": true,
       "COLUMN_SAMPLING_METHOD": "outer",
       "DB_LOCATION": ":memory:",
       "DEV_MODE": false,
       "DISPLAY_MAX_COLUMNS": 100,
       "DISPLAY_MAX_ROWS": 50000,
       "DISPLAY_MODE": "simple",
       "ENABLE_ASSIGNMENT": true,
       "ENABLE_DATALINK": true,
       "FLATTEN_COLUMN_VALUES": true,
       "FLATTEN_INDEX_VALUES": false,
       "GENERATE_DEX_METADATA": false,
       "HTML_TABLE_SCHEMA": false,
       "LOG_LEVEL": 30,
       "MAX_RENDER_SIZE_BYTES": 104857600,
       "MAX_STRING_LENGTH": 250,
       "NUM_PAST_SAMPLES_TRACKED": 3,
       "RANDOM_STATE": 12648430,
       "RESET_INDEX_VALUES": false,
       "ROW_SAMPLING_METHOD": "random",
       "SAMPLING_FACTOR": 0.1,
       "SAMPLING_METHOD": "random",
       "STRINGIFY_COLUMN_VALUES": true,
       "STRINGIFY_INDEX_VALUES": false
      },
      "sample_history": [],
      "sampling_time": "2023-11-26T18:39:37.343565",
      "user_variable_name": "statistical_summary",
      "variable_name": "statistical_summary"
     },
     "af43ab1f-ac4d-4c72-b5ed-f00823e48739": {
      "applied_filters": [],
      "dataframe_info": {
       "default_index_used": false,
       "orig_num_cols": 17,
       "orig_num_rows": 8,
       "orig_size_bytes": 1152,
       "truncated_num_cols": 17,
       "truncated_num_rows": 8,
       "truncated_size_bytes": 1152,
       "truncated_string_columns": []
      },
      "display_id": "af43ab1f-ac4d-4c72-b5ed-f00823e48739",
      "dx_settings": {
       "ALLOW_NOTEABLE_ATTRS": true,
       "COLUMN_SAMPLING_METHOD": "outer",
       "DB_LOCATION": ":memory:",
       "DEV_MODE": false,
       "DISPLAY_MAX_COLUMNS": 100,
       "DISPLAY_MAX_ROWS": 50000,
       "DISPLAY_MODE": "simple",
       "ENABLE_ASSIGNMENT": true,
       "ENABLE_DATALINK": true,
       "FLATTEN_COLUMN_VALUES": true,
       "FLATTEN_INDEX_VALUES": false,
       "GENERATE_DEX_METADATA": false,
       "HTML_TABLE_SCHEMA": false,
       "LOG_LEVEL": 30,
       "MAX_RENDER_SIZE_BYTES": 104857600,
       "MAX_STRING_LENGTH": 250,
       "NUM_PAST_SAMPLES_TRACKED": 3,
       "RANDOM_STATE": 12648430,
       "RESET_INDEX_VALUES": false,
       "ROW_SAMPLING_METHOD": "random",
       "SAMPLING_FACTOR": 0.1,
       "SAMPLING_METHOD": "random",
       "STRINGIFY_COLUMN_VALUES": true,
       "STRINGIFY_INDEX_VALUES": false
      },
      "sample_history": [],
      "sampling_time": "2023-11-28T15:24:14.274874",
      "user_variable_name": null,
      "variable_name": "unk_dataframe_0fd70ded62d14529925dd288b70bf13d"
     },
     "c74ea0d4-8191-4e07-9dae-f696c72ba08f": {
      "applied_filters": [],
      "dataframe_info": {
       "default_index_used": false,
       "orig_num_cols": 17,
       "orig_num_rows": 8,
       "orig_size_bytes": 1152,
       "truncated_num_cols": 17,
       "truncated_num_rows": 8,
       "truncated_size_bytes": 1152,
       "truncated_string_columns": []
      },
      "display_id": "c74ea0d4-8191-4e07-9dae-f696c72ba08f",
      "dx_settings": {
       "ALLOW_NOTEABLE_ATTRS": true,
       "COLUMN_SAMPLING_METHOD": "outer",
       "DB_LOCATION": ":memory:",
       "DEV_MODE": false,
       "DISPLAY_MAX_COLUMNS": 100,
       "DISPLAY_MAX_ROWS": 50000,
       "DISPLAY_MODE": "simple",
       "ENABLE_ASSIGNMENT": true,
       "ENABLE_DATALINK": true,
       "FLATTEN_COLUMN_VALUES": true,
       "FLATTEN_INDEX_VALUES": false,
       "GENERATE_DEX_METADATA": false,
       "HTML_TABLE_SCHEMA": false,
       "LOG_LEVEL": 30,
       "MAX_RENDER_SIZE_BYTES": 104857600,
       "MAX_STRING_LENGTH": 250,
       "NUM_PAST_SAMPLES_TRACKED": 3,
       "RANDOM_STATE": 12648430,
       "RESET_INDEX_VALUES": false,
       "ROW_SAMPLING_METHOD": "random",
       "SAMPLING_FACTOR": 0.1,
       "SAMPLING_METHOD": "random",
       "STRINGIFY_COLUMN_VALUES": true,
       "STRINGIFY_INDEX_VALUES": false
      },
      "sample_history": [],
      "sampling_time": "2023-11-27T17:35:13.561295",
      "user_variable_name": null,
      "variable_name": "unk_dataframe_df71784304134701aea62164b81bf5d3"
     },
     "cbc1fe25-dc00-4816-a5b2-3e3cb92d4bfc": {
      "applied_filters": [],
      "dataframe_info": {
       "default_index_used": false,
       "orig_num_cols": 17,
       "orig_num_rows": 8,
       "orig_size_bytes": 1152,
       "truncated_num_cols": 17,
       "truncated_num_rows": 8,
       "truncated_size_bytes": 1152,
       "truncated_string_columns": []
      },
      "display_id": "cbc1fe25-dc00-4816-a5b2-3e3cb92d4bfc",
      "dx_settings": {
       "ALLOW_NOTEABLE_ATTRS": true,
       "COLUMN_SAMPLING_METHOD": "outer",
       "DB_LOCATION": ":memory:",
       "DEV_MODE": false,
       "DISPLAY_MAX_COLUMNS": 100,
       "DISPLAY_MAX_ROWS": 50000,
       "DISPLAY_MODE": "simple",
       "ENABLE_ASSIGNMENT": true,
       "ENABLE_DATALINK": true,
       "FLATTEN_COLUMN_VALUES": true,
       "FLATTEN_INDEX_VALUES": false,
       "GENERATE_DEX_METADATA": false,
       "HTML_TABLE_SCHEMA": false,
       "LOG_LEVEL": 30,
       "MAX_RENDER_SIZE_BYTES": 104857600,
       "MAX_STRING_LENGTH": 250,
       "NUM_PAST_SAMPLES_TRACKED": 3,
       "RANDOM_STATE": 12648430,
       "RESET_INDEX_VALUES": false,
       "ROW_SAMPLING_METHOD": "random",
       "SAMPLING_FACTOR": 0.1,
       "SAMPLING_METHOD": "random",
       "STRINGIFY_COLUMN_VALUES": true,
       "STRINGIFY_INDEX_VALUES": false
      },
      "sample_history": [],
      "sampling_time": "2023-11-29T15:07:51.555690",
      "user_variable_name": null,
      "variable_name": "unk_dataframe_582751a1925f4677b2f03c0edb219dad"
     },
     "d1a1c711-41ab-415d-abca-845f2cdb38f0": {
      "applied_filters": [],
      "dataframe_info": {
       "default_index_used": false,
       "orig_num_cols": 17,
       "orig_num_rows": 8,
       "orig_size_bytes": 1152,
       "truncated_num_cols": 17,
       "truncated_num_rows": 8,
       "truncated_size_bytes": 1152,
       "truncated_string_columns": []
      },
      "display_id": "d1a1c711-41ab-415d-abca-845f2cdb38f0",
      "dx_settings": {
       "ALLOW_NOTEABLE_ATTRS": true,
       "COLUMN_SAMPLING_METHOD": "outer",
       "DB_LOCATION": ":memory:",
       "DEV_MODE": false,
       "DISPLAY_MAX_COLUMNS": 100,
       "DISPLAY_MAX_ROWS": 50000,
       "DISPLAY_MODE": "simple",
       "ENABLE_ASSIGNMENT": true,
       "ENABLE_DATALINK": true,
       "FLATTEN_COLUMN_VALUES": true,
       "FLATTEN_INDEX_VALUES": false,
       "GENERATE_DEX_METADATA": false,
       "HTML_TABLE_SCHEMA": false,
       "LOG_LEVEL": 30,
       "MAX_RENDER_SIZE_BYTES": 104857600,
       "MAX_STRING_LENGTH": 250,
       "NUM_PAST_SAMPLES_TRACKED": 3,
       "RANDOM_STATE": 12648430,
       "RESET_INDEX_VALUES": false,
       "ROW_SAMPLING_METHOD": "random",
       "SAMPLING_FACTOR": 0.1,
       "SAMPLING_METHOD": "random",
       "STRINGIFY_COLUMN_VALUES": true,
       "STRINGIFY_INDEX_VALUES": false
      },
      "sample_history": [],
      "sampling_time": "2023-11-29T15:06:43.908477",
      "user_variable_name": null,
      "variable_name": "unk_dataframe_ce6edc93ffeb432f8c2ff86b76acd0e4"
     }
    },
    "dx": {
     "dashboard": {
      "multiViews": []
     },
     "fieldMetadata": {
      "MJD": {
       "columnPosition": 17
      },
      "alpha": {
       "columnPosition": 3
      },
      "cam_col": {
       "columnPosition": 12
      },
      "delta": {
       "columnPosition": 4
      },
      "fiber_ID": {
       "columnPosition": 18
      },
      "field_ID": {
       "columnPosition": 13
      },
      "g": {
       "columnPosition": 6
      },
      "i": {
       "columnPosition": 8
      },
      "index": {
       "columnPosition": 1,
       "frozen": true
      },
      "obj_ID": {
       "columnPosition": 2
      },
      "plate": {
       "columnPosition": 16
      },
      "r": {
       "columnPosition": 7
      },
      "redshift": {
       "columnPosition": 15
      },
      "rerun_ID": {
       "columnPosition": 11
      },
      "run_ID": {
       "columnPosition": 10
      },
      "spec_obj_ID": {
       "columnPosition": 14
      },
      "u": {
       "columnPosition": 5
      },
      "z": {
       "columnPosition": 9
      }
     },
     "updated": 1701103957481,
     "views": [
      {
       "annotationRules": [],
       "chart": {},
       "chartMode": "grid",
       "confoRules": [],
       "decoration": {
        "footer": "",
        "subtitle": "",
        "title": "Table"
       },
       "facets": [],
       "filterSettings": {
        "SHOW_FILTER_PANEL": true,
        "filters": []
       },
       "id": "first-view",
       "isDefault": true,
       "type": "public",
       "userID": ""
      },
      {
       "annotationRules": [],
       "chart": {},
       "chartMode": "grid",
       "confoRules": [],
       "decoration": {
        "footer": "",
        "subtitle": "",
        "title": "Table"
       },
       "facets": [],
       "filterSettings": {
        "SHOW_FILTER_PANEL": true,
        "filters": []
       },
       "id": "first-view",
       "isDefault": true,
       "isTransitory": true,
       "type": "public",
       "userID": ""
      }
     ]
    },
    "jupyter": {
     "outputs_hidden": false,
     "source_hidden": false
    },
    "noteable": {
     "cell_type": "code"
    },
    "scrolled": false
   },
   "outputs": [
    {
     "name": "stdout",
     "output_type": "stream",
     "text": [
      "obj_ID         0\n",
      "alpha          0\n",
      "delta          0\n",
      "u              0\n",
      "g              0\n",
      "r              0\n",
      "i              0\n",
      "z              0\n",
      "run_ID         0\n",
      "rerun_ID       0\n",
      "cam_col        0\n",
      "field_ID       0\n",
      "spec_obj_ID    0\n",
      "class          0\n",
      "redshift       0\n",
      "plate          0\n",
      "MJD            0\n",
      "fiber_ID       0\n",
      "dtype: int64\n",
      "------------\n",
      "duplicated 0\n",
      "------------\n"
     ]
    },
    {
     "data": {
      "text/html": [
       "<div>\n",
       "<style scoped>\n",
       "    .dataframe tbody tr th:only-of-type {\n",
       "        vertical-align: middle;\n",
       "    }\n",
       "\n",
       "    .dataframe tbody tr th {\n",
       "        vertical-align: top;\n",
       "    }\n",
       "\n",
       "    .dataframe thead th {\n",
       "        text-align: right;\n",
       "    }\n",
       "</style>\n",
       "<table border=\"1\" class=\"dataframe\">\n",
       "  <thead>\n",
       "    <tr style=\"text-align: right;\">\n",
       "      <th></th>\n",
       "      <th>obj_ID</th>\n",
       "      <th>alpha</th>\n",
       "      <th>delta</th>\n",
       "      <th>u</th>\n",
       "      <th>g</th>\n",
       "      <th>r</th>\n",
       "      <th>i</th>\n",
       "      <th>z</th>\n",
       "      <th>run_ID</th>\n",
       "      <th>rerun_ID</th>\n",
       "      <th>cam_col</th>\n",
       "      <th>field_ID</th>\n",
       "      <th>spec_obj_ID</th>\n",
       "      <th>redshift</th>\n",
       "      <th>plate</th>\n",
       "      <th>MJD</th>\n",
       "      <th>fiber_ID</th>\n",
       "    </tr>\n",
       "  </thead>\n",
       "  <tbody>\n",
       "    <tr>\n",
       "      <th>count</th>\n",
       "      <td>1.000000e+05</td>\n",
       "      <td>100000.000000</td>\n",
       "      <td>100000.000000</td>\n",
       "      <td>100000.000000</td>\n",
       "      <td>100000.000000</td>\n",
       "      <td>100000.000000</td>\n",
       "      <td>100000.000000</td>\n",
       "      <td>100000.000000</td>\n",
       "      <td>100000.000000</td>\n",
       "      <td>100000.0</td>\n",
       "      <td>100000.000000</td>\n",
       "      <td>100000.000000</td>\n",
       "      <td>1.000000e+05</td>\n",
       "      <td>100000.000000</td>\n",
       "      <td>100000.000000</td>\n",
       "      <td>100000.000000</td>\n",
       "      <td>100000.000000</td>\n",
       "    </tr>\n",
       "    <tr>\n",
       "      <th>mean</th>\n",
       "      <td>1.237665e+18</td>\n",
       "      <td>177.629117</td>\n",
       "      <td>24.135305</td>\n",
       "      <td>21.980468</td>\n",
       "      <td>20.531387</td>\n",
       "      <td>19.645762</td>\n",
       "      <td>19.084854</td>\n",
       "      <td>18.668810</td>\n",
       "      <td>4481.366060</td>\n",
       "      <td>301.0</td>\n",
       "      <td>3.511610</td>\n",
       "      <td>186.130520</td>\n",
       "      <td>5.783882e+18</td>\n",
       "      <td>0.576661</td>\n",
       "      <td>5137.009660</td>\n",
       "      <td>55588.647500</td>\n",
       "      <td>449.312740</td>\n",
       "    </tr>\n",
       "    <tr>\n",
       "      <th>std</th>\n",
       "      <td>8.438560e+12</td>\n",
       "      <td>96.502241</td>\n",
       "      <td>19.644665</td>\n",
       "      <td>31.769291</td>\n",
       "      <td>31.750292</td>\n",
       "      <td>1.854760</td>\n",
       "      <td>1.757895</td>\n",
       "      <td>31.728152</td>\n",
       "      <td>1964.764593</td>\n",
       "      <td>0.0</td>\n",
       "      <td>1.586912</td>\n",
       "      <td>149.011073</td>\n",
       "      <td>3.324016e+18</td>\n",
       "      <td>0.730707</td>\n",
       "      <td>2952.303351</td>\n",
       "      <td>1808.484233</td>\n",
       "      <td>272.498404</td>\n",
       "    </tr>\n",
       "    <tr>\n",
       "      <th>min</th>\n",
       "      <td>1.237646e+18</td>\n",
       "      <td>0.005528</td>\n",
       "      <td>-18.785328</td>\n",
       "      <td>-9999.000000</td>\n",
       "      <td>-9999.000000</td>\n",
       "      <td>9.822070</td>\n",
       "      <td>9.469903</td>\n",
       "      <td>-9999.000000</td>\n",
       "      <td>109.000000</td>\n",
       "      <td>301.0</td>\n",
       "      <td>1.000000</td>\n",
       "      <td>11.000000</td>\n",
       "      <td>2.995191e+17</td>\n",
       "      <td>-0.009971</td>\n",
       "      <td>266.000000</td>\n",
       "      <td>51608.000000</td>\n",
       "      <td>1.000000</td>\n",
       "    </tr>\n",
       "    <tr>\n",
       "      <th>25%</th>\n",
       "      <td>1.237659e+18</td>\n",
       "      <td>127.518222</td>\n",
       "      <td>5.146771</td>\n",
       "      <td>20.352353</td>\n",
       "      <td>18.965230</td>\n",
       "      <td>18.135828</td>\n",
       "      <td>17.732285</td>\n",
       "      <td>17.460677</td>\n",
       "      <td>3187.000000</td>\n",
       "      <td>301.0</td>\n",
       "      <td>2.000000</td>\n",
       "      <td>82.000000</td>\n",
       "      <td>2.844138e+18</td>\n",
       "      <td>0.054517</td>\n",
       "      <td>2526.000000</td>\n",
       "      <td>54234.000000</td>\n",
       "      <td>221.000000</td>\n",
       "    </tr>\n",
       "    <tr>\n",
       "      <th>50%</th>\n",
       "      <td>1.237663e+18</td>\n",
       "      <td>180.900700</td>\n",
       "      <td>23.645922</td>\n",
       "      <td>22.179135</td>\n",
       "      <td>21.099835</td>\n",
       "      <td>20.125290</td>\n",
       "      <td>19.405145</td>\n",
       "      <td>19.004595</td>\n",
       "      <td>4188.000000</td>\n",
       "      <td>301.0</td>\n",
       "      <td>4.000000</td>\n",
       "      <td>146.000000</td>\n",
       "      <td>5.614883e+18</td>\n",
       "      <td>0.424173</td>\n",
       "      <td>4987.000000</td>\n",
       "      <td>55868.500000</td>\n",
       "      <td>433.000000</td>\n",
       "    </tr>\n",
       "    <tr>\n",
       "      <th>75%</th>\n",
       "      <td>1.237668e+18</td>\n",
       "      <td>233.895005</td>\n",
       "      <td>39.901550</td>\n",
       "      <td>23.687440</td>\n",
       "      <td>22.123767</td>\n",
       "      <td>21.044785</td>\n",
       "      <td>20.396495</td>\n",
       "      <td>19.921120</td>\n",
       "      <td>5326.000000</td>\n",
       "      <td>301.0</td>\n",
       "      <td>5.000000</td>\n",
       "      <td>241.000000</td>\n",
       "      <td>8.332144e+18</td>\n",
       "      <td>0.704154</td>\n",
       "      <td>7400.250000</td>\n",
       "      <td>56777.000000</td>\n",
       "      <td>645.000000</td>\n",
       "    </tr>\n",
       "    <tr>\n",
       "      <th>max</th>\n",
       "      <td>1.237681e+18</td>\n",
       "      <td>359.999810</td>\n",
       "      <td>83.000519</td>\n",
       "      <td>32.781390</td>\n",
       "      <td>31.602240</td>\n",
       "      <td>29.571860</td>\n",
       "      <td>32.141470</td>\n",
       "      <td>29.383740</td>\n",
       "      <td>8162.000000</td>\n",
       "      <td>301.0</td>\n",
       "      <td>6.000000</td>\n",
       "      <td>989.000000</td>\n",
       "      <td>1.412694e+19</td>\n",
       "      <td>7.011245</td>\n",
       "      <td>12547.000000</td>\n",
       "      <td>58932.000000</td>\n",
       "      <td>1000.000000</td>\n",
       "    </tr>\n",
       "  </tbody>\n",
       "</table>\n",
       "</div>"
      ],
      "text/plain": [
       "             obj_ID          alpha          delta              u  \\\n",
       "count  1.000000e+05  100000.000000  100000.000000  100000.000000   \n",
       "mean   1.237665e+18     177.629117      24.135305      21.980468   \n",
       "std    8.438560e+12      96.502241      19.644665      31.769291   \n",
       "min    1.237646e+18       0.005528     -18.785328   -9999.000000   \n",
       "25%    1.237659e+18     127.518222       5.146771      20.352353   \n",
       "50%    1.237663e+18     180.900700      23.645922      22.179135   \n",
       "75%    1.237668e+18     233.895005      39.901550      23.687440   \n",
       "max    1.237681e+18     359.999810      83.000519      32.781390   \n",
       "\n",
       "                   g              r              i              z  \\\n",
       "count  100000.000000  100000.000000  100000.000000  100000.000000   \n",
       "mean       20.531387      19.645762      19.084854      18.668810   \n",
       "std        31.750292       1.854760       1.757895      31.728152   \n",
       "min     -9999.000000       9.822070       9.469903   -9999.000000   \n",
       "25%        18.965230      18.135828      17.732285      17.460677   \n",
       "50%        21.099835      20.125290      19.405145      19.004595   \n",
       "75%        22.123767      21.044785      20.396495      19.921120   \n",
       "max        31.602240      29.571860      32.141470      29.383740   \n",
       "\n",
       "              run_ID  rerun_ID        cam_col       field_ID   spec_obj_ID  \\\n",
       "count  100000.000000  100000.0  100000.000000  100000.000000  1.000000e+05   \n",
       "mean     4481.366060     301.0       3.511610     186.130520  5.783882e+18   \n",
       "std      1964.764593       0.0       1.586912     149.011073  3.324016e+18   \n",
       "min       109.000000     301.0       1.000000      11.000000  2.995191e+17   \n",
       "25%      3187.000000     301.0       2.000000      82.000000  2.844138e+18   \n",
       "50%      4188.000000     301.0       4.000000     146.000000  5.614883e+18   \n",
       "75%      5326.000000     301.0       5.000000     241.000000  8.332144e+18   \n",
       "max      8162.000000     301.0       6.000000     989.000000  1.412694e+19   \n",
       "\n",
       "            redshift          plate            MJD       fiber_ID  \n",
       "count  100000.000000  100000.000000  100000.000000  100000.000000  \n",
       "mean        0.576661    5137.009660   55588.647500     449.312740  \n",
       "std         0.730707    2952.303351    1808.484233     272.498404  \n",
       "min        -0.009971     266.000000   51608.000000       1.000000  \n",
       "25%         0.054517    2526.000000   54234.000000     221.000000  \n",
       "50%         0.424173    4987.000000   55868.500000     433.000000  \n",
       "75%         0.704154    7400.250000   56777.000000     645.000000  \n",
       "max         7.011245   12547.000000   58932.000000    1000.000000  "
      ]
     },
     "execution_count": 3,
     "metadata": {},
     "output_type": "execute_result"
    }
   ],
   "source": [
    "# Verificación de valores faltantes\n",
    "missing_values = df.isnull().sum()\n",
    "# Verificación de duplicados\n",
    "duplicate_rows = df.duplicated().sum()\n",
    "\n",
    "print(missing_values)\n",
    "print('------------')\n",
    "print('duplicated', duplicate_rows)\n",
    "print('------------')\n",
    "# Resumen estadístico básico para tener una idea inicial de la distribución de cada variable\n",
    "df.describe()"
   ]
  },
  {
   "cell_type": "code",
   "execution_count": 4,
   "id": "7f2ed433-d58c-45b5-a795-6a856030370c",
   "metadata": {
    "ExecuteTime": {
     "end_time": "2023-11-30T11:17:53.623495+00:00",
     "start_time": "2023-11-30T11:17:52.732932+00:00"
    },
    "datalink": {
     "13150709-57dc-44a4-9e0a-802a0a4f6386": {
      "applied_filters": [],
      "dataframe_info": {
       "default_index_used": true,
       "orig_num_cols": 18,
       "orig_num_rows": 1,
       "orig_size_bytes": 152,
       "truncated_num_cols": 18,
       "truncated_num_rows": 1,
       "truncated_size_bytes": 152,
       "truncated_string_columns": []
      },
      "display_id": "13150709-57dc-44a4-9e0a-802a0a4f6386",
      "dx_settings": {
       "ALLOW_NOTEABLE_ATTRS": true,
       "COLUMN_SAMPLING_METHOD": "outer",
       "DB_LOCATION": ":memory:",
       "DEV_MODE": false,
       "DISPLAY_MAX_COLUMNS": 100,
       "DISPLAY_MAX_ROWS": 50000,
       "DISPLAY_MODE": "simple",
       "ENABLE_ASSIGNMENT": true,
       "ENABLE_DATALINK": true,
       "FLATTEN_COLUMN_VALUES": true,
       "FLATTEN_INDEX_VALUES": false,
       "GENERATE_DEX_METADATA": false,
       "HTML_TABLE_SCHEMA": false,
       "LOG_LEVEL": 30,
       "MAX_RENDER_SIZE_BYTES": 104857600,
       "MAX_STRING_LENGTH": 250,
       "NUM_PAST_SAMPLES_TRACKED": 3,
       "RANDOM_STATE": 12648430,
       "RESET_INDEX_VALUES": false,
       "ROW_SAMPLING_METHOD": "random",
       "SAMPLING_FACTOR": 0.1,
       "SAMPLING_METHOD": "random",
       "STRINGIFY_COLUMN_VALUES": true,
       "STRINGIFY_INDEX_VALUES": false
      },
      "sample_history": [],
      "sampling_time": "2023-11-29T15:07:52.428464",
      "user_variable_name": "filas_con_valores_extremos",
      "variable_name": "filas_con_valores_extremos"
     },
     "2fffbd9f-a7a1-4d09-8a91-f27c6e941071": {
      "applied_filters": [],
      "dataframe_info": {
       "default_index_used": true,
       "orig_num_cols": 18,
       "orig_num_rows": 1,
       "orig_size_bytes": 152,
       "truncated_num_cols": 18,
       "truncated_num_rows": 1,
       "truncated_size_bytes": 152,
       "truncated_string_columns": []
      },
      "display_id": "2fffbd9f-a7a1-4d09-8a91-f27c6e941071",
      "dx_settings": {
       "ALLOW_NOTEABLE_ATTRS": true,
       "COLUMN_SAMPLING_METHOD": "outer",
       "DB_LOCATION": ":memory:",
       "DEV_MODE": false,
       "DISPLAY_MAX_COLUMNS": 100,
       "DISPLAY_MAX_ROWS": 50000,
       "DISPLAY_MODE": "simple",
       "ENABLE_ASSIGNMENT": true,
       "ENABLE_DATALINK": true,
       "FLATTEN_COLUMN_VALUES": true,
       "FLATTEN_INDEX_VALUES": false,
       "GENERATE_DEX_METADATA": false,
       "HTML_TABLE_SCHEMA": false,
       "LOG_LEVEL": 30,
       "MAX_RENDER_SIZE_BYTES": 104857600,
       "MAX_STRING_LENGTH": 250,
       "NUM_PAST_SAMPLES_TRACKED": 3,
       "RANDOM_STATE": 12648430,
       "RESET_INDEX_VALUES": false,
       "ROW_SAMPLING_METHOD": "random",
       "SAMPLING_FACTOR": 0.1,
       "SAMPLING_METHOD": "random",
       "STRINGIFY_COLUMN_VALUES": true,
       "STRINGIFY_INDEX_VALUES": false
      },
      "sample_history": [],
      "sampling_time": "2023-11-28T15:24:15.163448",
      "user_variable_name": "filas_con_valores_extremos",
      "variable_name": "filas_con_valores_extremos"
     },
     "33dda88d-fe42-4328-9067-5e4dfb1e999a": {
      "applied_filters": [],
      "dataframe_info": {
       "default_index_used": true,
       "orig_num_cols": 18,
       "orig_num_rows": 1,
       "orig_size_bytes": 152,
       "truncated_num_cols": 18,
       "truncated_num_rows": 1,
       "truncated_size_bytes": 152,
       "truncated_string_columns": []
      },
      "display_id": "33dda88d-fe42-4328-9067-5e4dfb1e999a",
      "dx_settings": {
       "ALLOW_NOTEABLE_ATTRS": true,
       "COLUMN_SAMPLING_METHOD": "outer",
       "DB_LOCATION": ":memory:",
       "DEV_MODE": false,
       "DISPLAY_MAX_COLUMNS": 100,
       "DISPLAY_MAX_ROWS": 50000,
       "DISPLAY_MODE": "simple",
       "ENABLE_ASSIGNMENT": true,
       "ENABLE_DATALINK": true,
       "FLATTEN_COLUMN_VALUES": true,
       "FLATTEN_INDEX_VALUES": false,
       "GENERATE_DEX_METADATA": false,
       "HTML_TABLE_SCHEMA": false,
       "LOG_LEVEL": 30,
       "MAX_RENDER_SIZE_BYTES": 104857600,
       "MAX_STRING_LENGTH": 250,
       "NUM_PAST_SAMPLES_TRACKED": 3,
       "RANDOM_STATE": 12648430,
       "RESET_INDEX_VALUES": false,
       "ROW_SAMPLING_METHOD": "random",
       "SAMPLING_FACTOR": 0.1,
       "SAMPLING_METHOD": "random",
       "STRINGIFY_COLUMN_VALUES": true,
       "STRINGIFY_INDEX_VALUES": false
      },
      "sample_history": [],
      "sampling_time": "2023-11-27T17:35:14.440395",
      "user_variable_name": "filas_con_valores_extremos",
      "variable_name": "filas_con_valores_extremos"
     },
     "3551fbbf-135d-4e4d-843c-ac84102f0516": {
      "applied_filters": [],
      "dataframe_info": {
       "default_index_used": true,
       "orig_num_cols": 18,
       "orig_num_rows": 1,
       "orig_size_bytes": 152,
       "truncated_num_cols": 18,
       "truncated_num_rows": 1,
       "truncated_size_bytes": 152,
       "truncated_string_columns": []
      },
      "display_id": "3551fbbf-135d-4e4d-843c-ac84102f0516",
      "dx_settings": {
       "ALLOW_NOTEABLE_ATTRS": true,
       "COLUMN_SAMPLING_METHOD": "outer",
       "DB_LOCATION": ":memory:",
       "DEV_MODE": false,
       "DISPLAY_MAX_COLUMNS": 100,
       "DISPLAY_MAX_ROWS": 50000,
       "DISPLAY_MODE": "simple",
       "ENABLE_ASSIGNMENT": true,
       "ENABLE_DATALINK": true,
       "FLATTEN_COLUMN_VALUES": true,
       "FLATTEN_INDEX_VALUES": false,
       "GENERATE_DEX_METADATA": false,
       "HTML_TABLE_SCHEMA": false,
       "LOG_LEVEL": 30,
       "MAX_RENDER_SIZE_BYTES": 104857600,
       "MAX_STRING_LENGTH": 250,
       "NUM_PAST_SAMPLES_TRACKED": 3,
       "RANDOM_STATE": 12648430,
       "RESET_INDEX_VALUES": false,
       "ROW_SAMPLING_METHOD": "random",
       "SAMPLING_FACTOR": 0.1,
       "SAMPLING_METHOD": "random",
       "STRINGIFY_COLUMN_VALUES": true,
       "STRINGIFY_INDEX_VALUES": false
      },
      "sample_history": [],
      "sampling_time": "2023-11-26T18:33:52.483803",
      "user_variable_name": "filas_con_valores_extremos",
      "variable_name": "filas_con_valores_extremos"
     },
     "552fe565-6796-4169-90da-4c4f53f1b3b9": {
      "applied_filters": [],
      "dataframe_info": {
       "default_index_used": true,
       "orig_num_cols": 18,
       "orig_num_rows": 1,
       "orig_size_bytes": 152,
       "truncated_num_cols": 18,
       "truncated_num_rows": 1,
       "truncated_size_bytes": 152,
       "truncated_string_columns": []
      },
      "display_id": "552fe565-6796-4169-90da-4c4f53f1b3b9",
      "dx_settings": {
       "ALLOW_NOTEABLE_ATTRS": true,
       "COLUMN_SAMPLING_METHOD": "outer",
       "DB_LOCATION": ":memory:",
       "DEV_MODE": false,
       "DISPLAY_MAX_COLUMNS": 100,
       "DISPLAY_MAX_ROWS": 50000,
       "DISPLAY_MODE": "simple",
       "ENABLE_ASSIGNMENT": true,
       "ENABLE_DATALINK": true,
       "FLATTEN_COLUMN_VALUES": true,
       "FLATTEN_INDEX_VALUES": false,
       "GENERATE_DEX_METADATA": false,
       "HTML_TABLE_SCHEMA": false,
       "LOG_LEVEL": 30,
       "MAX_RENDER_SIZE_BYTES": 104857600,
       "MAX_STRING_LENGTH": 250,
       "NUM_PAST_SAMPLES_TRACKED": 3,
       "RANDOM_STATE": 12648430,
       "RESET_INDEX_VALUES": false,
       "ROW_SAMPLING_METHOD": "random",
       "SAMPLING_FACTOR": 0.1,
       "SAMPLING_METHOD": "random",
       "STRINGIFY_COLUMN_VALUES": true,
       "STRINGIFY_INDEX_VALUES": false
      },
      "sample_history": [],
      "sampling_time": "2023-11-30T11:17:53.462701",
      "user_variable_name": "filas_con_valores_extremos",
      "variable_name": "filas_con_valores_extremos"
     },
     "77c095b2-3b7a-499b-ba86-0a3a744c889d": {
      "applied_filters": [],
      "dataframe_info": {
       "default_index_used": true,
       "orig_num_cols": 18,
       "orig_num_rows": 1,
       "orig_size_bytes": 152,
       "truncated_num_cols": 18,
       "truncated_num_rows": 1,
       "truncated_size_bytes": 152,
       "truncated_string_columns": []
      },
      "display_id": "77c095b2-3b7a-499b-ba86-0a3a744c889d",
      "dx_settings": {
       "ALLOW_NOTEABLE_ATTRS": true,
       "COLUMN_SAMPLING_METHOD": "outer",
       "DB_LOCATION": ":memory:",
       "DEV_MODE": false,
       "DISPLAY_MAX_COLUMNS": 100,
       "DISPLAY_MAX_ROWS": 50000,
       "DISPLAY_MODE": "simple",
       "ENABLE_ASSIGNMENT": true,
       "ENABLE_DATALINK": true,
       "FLATTEN_COLUMN_VALUES": true,
       "FLATTEN_INDEX_VALUES": false,
       "GENERATE_DEX_METADATA": false,
       "HTML_TABLE_SCHEMA": false,
       "LOG_LEVEL": 30,
       "MAX_RENDER_SIZE_BYTES": 104857600,
       "MAX_STRING_LENGTH": 250,
       "NUM_PAST_SAMPLES_TRACKED": 3,
       "RANDOM_STATE": 12648430,
       "RESET_INDEX_VALUES": false,
       "ROW_SAMPLING_METHOD": "random",
       "SAMPLING_FACTOR": 0.1,
       "SAMPLING_METHOD": "random",
       "STRINGIFY_COLUMN_VALUES": true,
       "STRINGIFY_INDEX_VALUES": false
      },
      "sample_history": [],
      "sampling_time": "2023-11-29T14:37:45.905207",
      "user_variable_name": "filas_con_valores_extremos",
      "variable_name": "filas_con_valores_extremos"
     },
     "795275ac-d547-4b67-95f4-4a6c02705da1": {
      "applied_filters": [],
      "dataframe_info": {
       "default_index_used": true,
       "orig_num_cols": 18,
       "orig_num_rows": 1,
       "orig_size_bytes": 152,
       "truncated_num_cols": 18,
       "truncated_num_rows": 1,
       "truncated_size_bytes": 152,
       "truncated_string_columns": []
      },
      "display_id": "795275ac-d547-4b67-95f4-4a6c02705da1",
      "dx_settings": {
       "ALLOW_NOTEABLE_ATTRS": true,
       "COLUMN_SAMPLING_METHOD": "outer",
       "DB_LOCATION": ":memory:",
       "DEV_MODE": false,
       "DISPLAY_MAX_COLUMNS": 100,
       "DISPLAY_MAX_ROWS": 50000,
       "DISPLAY_MODE": "simple",
       "ENABLE_ASSIGNMENT": true,
       "ENABLE_DATALINK": true,
       "FLATTEN_COLUMN_VALUES": true,
       "FLATTEN_INDEX_VALUES": false,
       "GENERATE_DEX_METADATA": false,
       "HTML_TABLE_SCHEMA": false,
       "LOG_LEVEL": 30,
       "MAX_RENDER_SIZE_BYTES": 104857600,
       "MAX_STRING_LENGTH": 250,
       "NUM_PAST_SAMPLES_TRACKED": 3,
       "RANDOM_STATE": 12648430,
       "RESET_INDEX_VALUES": false,
       "ROW_SAMPLING_METHOD": "random",
       "SAMPLING_FACTOR": 0.1,
       "SAMPLING_METHOD": "random",
       "STRINGIFY_COLUMN_VALUES": true,
       "STRINGIFY_INDEX_VALUES": false
      },
      "sample_history": [],
      "sampling_time": "2023-11-27T17:29:57.998725",
      "user_variable_name": "filas_con_valores_extremos",
      "variable_name": "filas_con_valores_extremos"
     },
     "80240663-a656-4e87-8200-e8bcd418f6fe": {
      "applied_filters": [],
      "dataframe_info": {
       "default_index_used": true,
       "orig_num_cols": 18,
       "orig_num_rows": 1,
       "orig_size_bytes": 152,
       "truncated_num_cols": 18,
       "truncated_num_rows": 1,
       "truncated_size_bytes": 152,
       "truncated_string_columns": []
      },
      "display_id": "80240663-a656-4e87-8200-e8bcd418f6fe",
      "dx_settings": {
       "ALLOW_NOTEABLE_ATTRS": true,
       "COLUMN_SAMPLING_METHOD": "outer",
       "DB_LOCATION": ":memory:",
       "DEV_MODE": false,
       "DISPLAY_MAX_COLUMNS": 100,
       "DISPLAY_MAX_ROWS": 50000,
       "DISPLAY_MODE": "simple",
       "ENABLE_ASSIGNMENT": true,
       "ENABLE_DATALINK": true,
       "FLATTEN_COLUMN_VALUES": true,
       "FLATTEN_INDEX_VALUES": false,
       "GENERATE_DEX_METADATA": false,
       "HTML_TABLE_SCHEMA": false,
       "LOG_LEVEL": 30,
       "MAX_RENDER_SIZE_BYTES": 104857600,
       "MAX_STRING_LENGTH": 250,
       "NUM_PAST_SAMPLES_TRACKED": 3,
       "RANDOM_STATE": 12648430,
       "RESET_INDEX_VALUES": false,
       "ROW_SAMPLING_METHOD": "random",
       "SAMPLING_FACTOR": 0.1,
       "SAMPLING_METHOD": "random",
       "STRINGIFY_COLUMN_VALUES": true,
       "STRINGIFY_INDEX_VALUES": false
      },
      "sample_history": [],
      "sampling_time": "2023-11-27T16:46:33.521994",
      "user_variable_name": "filas_con_valores_extremos",
      "variable_name": "filas_con_valores_extremos"
     },
     "c029d6b5-a1bb-47e1-9c2a-9eddc96b7630": {
      "applied_filters": [],
      "dataframe_info": {
       "default_index_used": true,
       "orig_num_cols": 18,
       "orig_num_rows": 1,
       "orig_size_bytes": 152,
       "truncated_num_cols": 18,
       "truncated_num_rows": 1,
       "truncated_size_bytes": 152,
       "truncated_string_columns": []
      },
      "display_id": "c029d6b5-a1bb-47e1-9c2a-9eddc96b7630",
      "dx_settings": {
       "ALLOW_NOTEABLE_ATTRS": true,
       "COLUMN_SAMPLING_METHOD": "outer",
       "DB_LOCATION": ":memory:",
       "DEV_MODE": false,
       "DISPLAY_MAX_COLUMNS": 100,
       "DISPLAY_MAX_ROWS": 50000,
       "DISPLAY_MODE": "simple",
       "ENABLE_ASSIGNMENT": true,
       "ENABLE_DATALINK": true,
       "FLATTEN_COLUMN_VALUES": true,
       "FLATTEN_INDEX_VALUES": false,
       "GENERATE_DEX_METADATA": false,
       "HTML_TABLE_SCHEMA": false,
       "LOG_LEVEL": 30,
       "MAX_RENDER_SIZE_BYTES": 104857600,
       "MAX_STRING_LENGTH": 250,
       "NUM_PAST_SAMPLES_TRACKED": 3,
       "RANDOM_STATE": 12648430,
       "RESET_INDEX_VALUES": false,
       "ROW_SAMPLING_METHOD": "random",
       "SAMPLING_FACTOR": 0.1,
       "SAMPLING_METHOD": "random",
       "STRINGIFY_COLUMN_VALUES": true,
       "STRINGIFY_INDEX_VALUES": false
      },
      "sample_history": [],
      "sampling_time": "2023-11-28T16:04:31.429984",
      "user_variable_name": "filas_con_valores_extremos",
      "variable_name": "filas_con_valores_extremos"
     },
     "e54cd221-3132-4ecd-8d54-6ea07d0cc7d8": {
      "applied_filters": [],
      "dataframe_info": {
       "default_index_used": true,
       "orig_num_cols": 18,
       "orig_num_rows": 1,
       "orig_size_bytes": 152,
       "truncated_num_cols": 18,
       "truncated_num_rows": 1,
       "truncated_size_bytes": 152,
       "truncated_string_columns": []
      },
      "display_id": "e54cd221-3132-4ecd-8d54-6ea07d0cc7d8",
      "dx_settings": {
       "ALLOW_NOTEABLE_ATTRS": true,
       "COLUMN_SAMPLING_METHOD": "outer",
       "DB_LOCATION": ":memory:",
       "DEV_MODE": false,
       "DISPLAY_MAX_COLUMNS": 100,
       "DISPLAY_MAX_ROWS": 50000,
       "DISPLAY_MODE": "simple",
       "ENABLE_ASSIGNMENT": true,
       "ENABLE_DATALINK": true,
       "FLATTEN_COLUMN_VALUES": true,
       "FLATTEN_INDEX_VALUES": false,
       "GENERATE_DEX_METADATA": false,
       "HTML_TABLE_SCHEMA": false,
       "LOG_LEVEL": 30,
       "MAX_RENDER_SIZE_BYTES": 104857600,
       "MAX_STRING_LENGTH": 250,
       "NUM_PAST_SAMPLES_TRACKED": 3,
       "RANDOM_STATE": 12648430,
       "RESET_INDEX_VALUES": false,
       "ROW_SAMPLING_METHOD": "random",
       "SAMPLING_FACTOR": 0.1,
       "SAMPLING_METHOD": "random",
       "STRINGIFY_COLUMN_VALUES": true,
       "STRINGIFY_INDEX_VALUES": false
      },
      "sample_history": [],
      "sampling_time": "2023-11-28T15:56:47.241853",
      "user_variable_name": "filas_con_valores_extremos",
      "variable_name": "filas_con_valores_extremos"
     },
     "e91adfcc-55fa-4dd3-ad7e-0d7906c97846": {
      "applied_filters": [],
      "dataframe_info": {
       "default_index_used": true,
       "orig_num_cols": 18,
       "orig_num_rows": 1,
       "orig_size_bytes": 152,
       "truncated_num_cols": 18,
       "truncated_num_rows": 1,
       "truncated_size_bytes": 152,
       "truncated_string_columns": []
      },
      "display_id": "e91adfcc-55fa-4dd3-ad7e-0d7906c97846",
      "dx_settings": {
       "ALLOW_NOTEABLE_ATTRS": true,
       "COLUMN_SAMPLING_METHOD": "outer",
       "DB_LOCATION": ":memory:",
       "DEV_MODE": false,
       "DISPLAY_MAX_COLUMNS": 100,
       "DISPLAY_MAX_ROWS": 50000,
       "DISPLAY_MODE": "simple",
       "ENABLE_ASSIGNMENT": true,
       "ENABLE_DATALINK": true,
       "FLATTEN_COLUMN_VALUES": true,
       "FLATTEN_INDEX_VALUES": false,
       "GENERATE_DEX_METADATA": false,
       "HTML_TABLE_SCHEMA": false,
       "LOG_LEVEL": 30,
       "MAX_RENDER_SIZE_BYTES": 104857600,
       "MAX_STRING_LENGTH": 250,
       "NUM_PAST_SAMPLES_TRACKED": 3,
       "RANDOM_STATE": 12648430,
       "RESET_INDEX_VALUES": false,
       "ROW_SAMPLING_METHOD": "random",
       "SAMPLING_FACTOR": 0.1,
       "SAMPLING_METHOD": "random",
       "STRINGIFY_COLUMN_VALUES": true,
       "STRINGIFY_INDEX_VALUES": false
      },
      "sample_history": [],
      "sampling_time": "2023-11-27T18:13:54.566055",
      "user_variable_name": "filas_con_valores_extremos",
      "variable_name": "filas_con_valores_extremos"
     },
     "f09c1b62-ab6b-4dc2-9190-1d9c4f920648": {
      "applied_filters": [],
      "dataframe_info": {
       "default_index_used": true,
       "orig_num_cols": 18,
       "orig_num_rows": 1,
       "orig_size_bytes": 152,
       "truncated_num_cols": 18,
       "truncated_num_rows": 1,
       "truncated_size_bytes": 152,
       "truncated_string_columns": []
      },
      "display_id": "f09c1b62-ab6b-4dc2-9190-1d9c4f920648",
      "dx_settings": {
       "ALLOW_NOTEABLE_ATTRS": true,
       "COLUMN_SAMPLING_METHOD": "outer",
       "DB_LOCATION": ":memory:",
       "DEV_MODE": false,
       "DISPLAY_MAX_COLUMNS": 100,
       "DISPLAY_MAX_ROWS": 50000,
       "DISPLAY_MODE": "simple",
       "ENABLE_ASSIGNMENT": true,
       "ENABLE_DATALINK": true,
       "FLATTEN_COLUMN_VALUES": true,
       "FLATTEN_INDEX_VALUES": false,
       "GENERATE_DEX_METADATA": false,
       "HTML_TABLE_SCHEMA": false,
       "LOG_LEVEL": 30,
       "MAX_RENDER_SIZE_BYTES": 104857600,
       "MAX_STRING_LENGTH": 250,
       "NUM_PAST_SAMPLES_TRACKED": 3,
       "RANDOM_STATE": 12648430,
       "RESET_INDEX_VALUES": false,
       "ROW_SAMPLING_METHOD": "random",
       "SAMPLING_FACTOR": 0.1,
       "SAMPLING_METHOD": "random",
       "STRINGIFY_COLUMN_VALUES": true,
       "STRINGIFY_INDEX_VALUES": false
      },
      "sample_history": [],
      "sampling_time": "2023-11-28T17:50:27.482926",
      "user_variable_name": "filas_con_valores_extremos",
      "variable_name": "filas_con_valores_extremos"
     },
     "f42eef9c-faba-4c96-b40a-5292c3a97fbc": {
      "applied_filters": [],
      "dataframe_info": {
       "default_index_used": true,
       "orig_num_cols": 18,
       "orig_num_rows": 1,
       "orig_size_bytes": 152,
       "truncated_num_cols": 18,
       "truncated_num_rows": 1,
       "truncated_size_bytes": 152,
       "truncated_string_columns": []
      },
      "display_id": "f42eef9c-faba-4c96-b40a-5292c3a97fbc",
      "dx_settings": {
       "ALLOW_NOTEABLE_ATTRS": true,
       "COLUMN_SAMPLING_METHOD": "outer",
       "DB_LOCATION": ":memory:",
       "DEV_MODE": false,
       "DISPLAY_MAX_COLUMNS": 100,
       "DISPLAY_MAX_ROWS": 50000,
       "DISPLAY_MODE": "simple",
       "ENABLE_ASSIGNMENT": true,
       "ENABLE_DATALINK": true,
       "FLATTEN_COLUMN_VALUES": true,
       "FLATTEN_INDEX_VALUES": false,
       "GENERATE_DEX_METADATA": false,
       "HTML_TABLE_SCHEMA": false,
       "LOG_LEVEL": 30,
       "MAX_RENDER_SIZE_BYTES": 104857600,
       "MAX_STRING_LENGTH": 250,
       "NUM_PAST_SAMPLES_TRACKED": 3,
       "RANDOM_STATE": 12648430,
       "RESET_INDEX_VALUES": false,
       "ROW_SAMPLING_METHOD": "random",
       "SAMPLING_FACTOR": 0.1,
       "SAMPLING_METHOD": "random",
       "STRINGIFY_COLUMN_VALUES": true,
       "STRINGIFY_INDEX_VALUES": false
      },
      "sample_history": [],
      "sampling_time": "2023-11-29T18:28:16.725417",
      "user_variable_name": "filas_con_valores_extremos",
      "variable_name": "filas_con_valores_extremos"
     },
     "f912a3dd-173b-403e-b680-71815e681e50": {
      "applied_filters": [],
      "dataframe_info": {
       "default_index_used": true,
       "orig_num_cols": 18,
       "orig_num_rows": 1,
       "orig_size_bytes": 152,
       "truncated_num_cols": 18,
       "truncated_num_rows": 1,
       "truncated_size_bytes": 152,
       "truncated_string_columns": []
      },
      "display_id": "f912a3dd-173b-403e-b680-71815e681e50",
      "dx_settings": {
       "ALLOW_NOTEABLE_ATTRS": true,
       "COLUMN_SAMPLING_METHOD": "outer",
       "DB_LOCATION": ":memory:",
       "DEV_MODE": false,
       "DISPLAY_MAX_COLUMNS": 100,
       "DISPLAY_MAX_ROWS": 50000,
       "DISPLAY_MODE": "simple",
       "ENABLE_ASSIGNMENT": true,
       "ENABLE_DATALINK": true,
       "FLATTEN_COLUMN_VALUES": true,
       "FLATTEN_INDEX_VALUES": false,
       "GENERATE_DEX_METADATA": false,
       "HTML_TABLE_SCHEMA": false,
       "LOG_LEVEL": 30,
       "MAX_RENDER_SIZE_BYTES": 104857600,
       "MAX_STRING_LENGTH": 250,
       "NUM_PAST_SAMPLES_TRACKED": 3,
       "RANDOM_STATE": 12648430,
       "RESET_INDEX_VALUES": false,
       "ROW_SAMPLING_METHOD": "random",
       "SAMPLING_FACTOR": 0.1,
       "SAMPLING_METHOD": "random",
       "STRINGIFY_COLUMN_VALUES": true,
       "STRINGIFY_INDEX_VALUES": false
      },
      "sample_history": [],
      "sampling_time": "2023-11-28T15:53:28.078262",
      "user_variable_name": "filas_con_valores_extremos",
      "variable_name": "filas_con_valores_extremos"
     },
     "fe8dff80-8a59-4994-9c01-4f1bdfbba14f": {
      "applied_filters": [],
      "dataframe_info": {
       "default_index_used": true,
       "orig_num_cols": 18,
       "orig_num_rows": 1,
       "orig_size_bytes": 152,
       "truncated_num_cols": 18,
       "truncated_num_rows": 1,
       "truncated_size_bytes": 152,
       "truncated_string_columns": []
      },
      "display_id": "fe8dff80-8a59-4994-9c01-4f1bdfbba14f",
      "dx_settings": {
       "ALLOW_NOTEABLE_ATTRS": true,
       "COLUMN_SAMPLING_METHOD": "outer",
       "DB_LOCATION": ":memory:",
       "DEV_MODE": false,
       "DISPLAY_MAX_COLUMNS": 100,
       "DISPLAY_MAX_ROWS": 50000,
       "DISPLAY_MODE": "simple",
       "ENABLE_ASSIGNMENT": true,
       "ENABLE_DATALINK": true,
       "FLATTEN_COLUMN_VALUES": true,
       "FLATTEN_INDEX_VALUES": false,
       "GENERATE_DEX_METADATA": false,
       "HTML_TABLE_SCHEMA": false,
       "LOG_LEVEL": 30,
       "MAX_RENDER_SIZE_BYTES": 104857600,
       "MAX_STRING_LENGTH": 250,
       "NUM_PAST_SAMPLES_TRACKED": 3,
       "RANDOM_STATE": 12648430,
       "RESET_INDEX_VALUES": false,
       "ROW_SAMPLING_METHOD": "random",
       "SAMPLING_FACTOR": 0.1,
       "SAMPLING_METHOD": "random",
       "STRINGIFY_COLUMN_VALUES": true,
       "STRINGIFY_INDEX_VALUES": false
      },
      "sample_history": [],
      "sampling_time": "2023-11-28T19:06:15.581082",
      "user_variable_name": "filas_con_valores_extremos",
      "variable_name": "filas_con_valores_extremos"
     }
    },
    "dx": {
     "dashboard": {
      "multiViews": []
     },
     "fieldMetadata": {
      "MJD": {
       "columnPosition": 18
      },
      "alpha": {
       "columnPosition": 3
      },
      "cam_col": {
       "columnPosition": 12
      },
      "class": {
       "columnPosition": 15
      },
      "delta": {
       "columnPosition": 4
      },
      "fiber_ID": {
       "columnPosition": 19
      },
      "field_ID": {
       "columnPosition": 13
      },
      "g": {
       "columnPosition": 6
      },
      "i": {
       "columnPosition": 8
      },
      "index": {
       "columnPosition": 1
      },
      "obj_ID": {
       "columnPosition": 2,
       "width": 166.4459228515625
      },
      "plate": {
       "columnPosition": 17
      },
      "r": {
       "columnPosition": 7
      },
      "redshift": {
       "columnPosition": 16
      },
      "rerun_ID": {
       "columnPosition": 11
      },
      "run_ID": {
       "columnPosition": 10
      },
      "spec_obj_ID": {
       "columnPosition": 14
      },
      "u": {
       "columnPosition": 5
      },
      "z": {
       "columnPosition": 9
      }
     },
     "updated": 1701024190326,
     "views": [
      {
       "annotationRules": [],
       "chart": {},
       "chartMode": "grid",
       "confoRules": [],
       "decoration": {
        "footer": "",
        "subtitle": "",
        "title": "Table"
       },
       "facets": [],
       "filterSettings": {
        "SHOW_FILTER_PANEL": true,
        "filters": []
       },
       "id": "first-view",
       "isDefault": true,
       "type": "public",
       "userID": ""
      },
      {
       "annotationRules": [],
       "chart": {},
       "chartMode": "grid",
       "confoRules": [],
       "decoration": {
        "footer": "",
        "subtitle": "",
        "title": "Table"
       },
       "facets": [],
       "filterSettings": {
        "SHOW_FILTER_PANEL": true,
        "filters": []
       },
       "id": "first-view",
       "isDefault": true,
       "isTransitory": true,
       "type": "public",
       "userID": ""
      }
     ]
    },
    "noteable": {
     "cell_type": "python"
    },
    "scrolled": false
   },
   "outputs": [
    {
     "data": {
      "text/html": [
       "<div>\n",
       "<style scoped>\n",
       "    .dataframe tbody tr th:only-of-type {\n",
       "        vertical-align: middle;\n",
       "    }\n",
       "\n",
       "    .dataframe tbody tr th {\n",
       "        vertical-align: top;\n",
       "    }\n",
       "\n",
       "    .dataframe thead th {\n",
       "        text-align: right;\n",
       "    }\n",
       "</style>\n",
       "<table border=\"1\" class=\"dataframe\">\n",
       "  <thead>\n",
       "    <tr style=\"text-align: right;\">\n",
       "      <th></th>\n",
       "      <th>obj_ID</th>\n",
       "      <th>alpha</th>\n",
       "      <th>delta</th>\n",
       "      <th>u</th>\n",
       "      <th>g</th>\n",
       "      <th>r</th>\n",
       "      <th>i</th>\n",
       "      <th>z</th>\n",
       "      <th>run_ID</th>\n",
       "      <th>rerun_ID</th>\n",
       "      <th>cam_col</th>\n",
       "      <th>field_ID</th>\n",
       "      <th>spec_obj_ID</th>\n",
       "      <th>class</th>\n",
       "      <th>redshift</th>\n",
       "      <th>plate</th>\n",
       "      <th>MJD</th>\n",
       "      <th>fiber_ID</th>\n",
       "    </tr>\n",
       "  </thead>\n",
       "  <tbody>\n",
       "    <tr>\n",
       "      <th>79543</th>\n",
       "      <td>1.237649e+18</td>\n",
       "      <td>224.006526</td>\n",
       "      <td>-0.624304</td>\n",
       "      <td>-9999.0</td>\n",
       "      <td>-9999.0</td>\n",
       "      <td>18.1656</td>\n",
       "      <td>18.01675</td>\n",
       "      <td>-9999.0</td>\n",
       "      <td>752</td>\n",
       "      <td>301</td>\n",
       "      <td>2</td>\n",
       "      <td>537</td>\n",
       "      <td>3.731277e+18</td>\n",
       "      <td>STAR</td>\n",
       "      <td>0.000089</td>\n",
       "      <td>3314</td>\n",
       "      <td>54970</td>\n",
       "      <td>162</td>\n",
       "    </tr>\n",
       "  </tbody>\n",
       "</table>\n",
       "</div>"
      ],
      "text/plain": [
       "             obj_ID       alpha     delta       u       g        r         i  \\\n",
       "79543  1.237649e+18  224.006526 -0.624304 -9999.0 -9999.0  18.1656  18.01675   \n",
       "\n",
       "            z  run_ID  rerun_ID  cam_col  field_ID   spec_obj_ID class  \\\n",
       "79543 -9999.0     752       301        2       537  3.731277e+18  STAR   \n",
       "\n",
       "       redshift  plate    MJD  fiber_ID  \n",
       "79543  0.000089   3314  54970       162  "
      ]
     },
     "execution_count": 4,
     "metadata": {},
     "output_type": "execute_result"
    }
   ],
   "source": [
    "# Localizando las filas con valores extremos en 'u' o 'z'\n",
    "filas_con_valores_extremos = df[(df['u'] == -9999) | (df['z'] == -9999)]\n",
    "filas_con_valores_extremos"
   ]
  },
  {
   "cell_type": "markdown",
   "id": "7561dfd8-4a54-4842-a20f-a1864d55fc06",
   "metadata": {
    "noteable": {
     "cell_type": "markdown"
    }
   },
   "source": [
    "## Limpieza de Datos: Eliminación de Valores Extremos\n",
    "\n",
    "He eliminado la fila con los valores extremos en `u` y `z` del conjunto de datos. Tras la eliminación, el conjunto de datos ahora consta de 99,999 filas. El resumen estadístico muestra que los valores extremos de -9999 en las columnas `u` y `z` ya no están presentes, y el resto de las estadísticas parece coherente con el conjunto de datos original.\n"
   ]
  },
  {
   "cell_type": "code",
   "execution_count": 5,
   "id": "b0099fa0-379e-45ee-9366-10c1ce8794ff",
   "metadata": {
    "ExecuteTime": {
     "end_time": "2023-11-30T11:17:55.236849+00:00",
     "start_time": "2023-11-30T11:17:53.630771+00:00"
    },
    "datalink": {
     "23d9c496-e302-4e1b-beb7-719bd2c70da4": {
      "applied_filters": [],
      "dataframe_info": {
       "default_index_used": false,
       "orig_num_cols": 17,
       "orig_num_rows": 8,
       "orig_size_bytes": 1152,
       "truncated_num_cols": 17,
       "truncated_num_rows": 8,
       "truncated_size_bytes": 1152,
       "truncated_string_columns": []
      },
      "display_id": "23d9c496-e302-4e1b-beb7-719bd2c70da4",
      "dx_settings": {
       "ALLOW_NOTEABLE_ATTRS": true,
       "COLUMN_SAMPLING_METHOD": "outer",
       "DB_LOCATION": ":memory:",
       "DEV_MODE": false,
       "DISPLAY_MAX_COLUMNS": 100,
       "DISPLAY_MAX_ROWS": 50000,
       "DISPLAY_MODE": "simple",
       "ENABLE_ASSIGNMENT": true,
       "ENABLE_DATALINK": true,
       "FLATTEN_COLUMN_VALUES": true,
       "FLATTEN_INDEX_VALUES": false,
       "GENERATE_DEX_METADATA": false,
       "HTML_TABLE_SCHEMA": false,
       "LOG_LEVEL": 30,
       "MAX_RENDER_SIZE_BYTES": 104857600,
       "MAX_STRING_LENGTH": 250,
       "NUM_PAST_SAMPLES_TRACKED": 3,
       "RANDOM_STATE": 12648430,
       "RESET_INDEX_VALUES": false,
       "ROW_SAMPLING_METHOD": "random",
       "SAMPLING_FACTOR": 0.1,
       "SAMPLING_METHOD": "random",
       "STRINGIFY_COLUMN_VALUES": true,
       "STRINGIFY_INDEX_VALUES": false
      },
      "sample_history": [],
      "sampling_time": "2023-11-26T18:41:39.509730",
      "user_variable_name": "statistical_summary",
      "variable_name": "statistical_summary"
     },
     "240772af-4b68-42dc-9cf3-f34cd18f0364": {
      "applied_filters": [],
      "dataframe_info": {
       "default_index_used": false,
       "orig_num_cols": 17,
       "orig_num_rows": 8,
       "orig_size_bytes": 1152,
       "truncated_num_cols": 17,
       "truncated_num_rows": 8,
       "truncated_size_bytes": 1152,
       "truncated_string_columns": []
      },
      "display_id": "240772af-4b68-42dc-9cf3-f34cd18f0364",
      "dx_settings": {
       "ALLOW_NOTEABLE_ATTRS": true,
       "COLUMN_SAMPLING_METHOD": "outer",
       "DB_LOCATION": ":memory:",
       "DEV_MODE": false,
       "DISPLAY_MAX_COLUMNS": 100,
       "DISPLAY_MAX_ROWS": 50000,
       "DISPLAY_MODE": "simple",
       "ENABLE_ASSIGNMENT": true,
       "ENABLE_DATALINK": true,
       "FLATTEN_COLUMN_VALUES": true,
       "FLATTEN_INDEX_VALUES": false,
       "GENERATE_DEX_METADATA": false,
       "HTML_TABLE_SCHEMA": false,
       "LOG_LEVEL": 30,
       "MAX_RENDER_SIZE_BYTES": 104857600,
       "MAX_STRING_LENGTH": 250,
       "NUM_PAST_SAMPLES_TRACKED": 3,
       "RANDOM_STATE": 12648430,
       "RESET_INDEX_VALUES": false,
       "ROW_SAMPLING_METHOD": "random",
       "SAMPLING_FACTOR": 0.1,
       "SAMPLING_METHOD": "random",
       "STRINGIFY_COLUMN_VALUES": true,
       "STRINGIFY_INDEX_VALUES": false
      },
      "sample_history": [],
      "sampling_time": "2023-11-27T18:13:56.187223",
      "user_variable_name": null,
      "variable_name": "unk_dataframe_978cab6d47d54ac08a56bd8b05e94fed"
     },
     "24626b61-a2aa-4ac9-a243-9c82e749c865": {
      "applied_filters": [],
      "dataframe_info": {
       "default_index_used": false,
       "orig_num_cols": 17,
       "orig_num_rows": 8,
       "orig_size_bytes": 1152,
       "truncated_num_cols": 17,
       "truncated_num_rows": 8,
       "truncated_size_bytes": 1152,
       "truncated_string_columns": []
      },
      "display_id": "24626b61-a2aa-4ac9-a243-9c82e749c865",
      "dx_settings": {
       "ALLOW_NOTEABLE_ATTRS": true,
       "COLUMN_SAMPLING_METHOD": "outer",
       "DB_LOCATION": ":memory:",
       "DEV_MODE": false,
       "DISPLAY_MAX_COLUMNS": 100,
       "DISPLAY_MAX_ROWS": 50000,
       "DISPLAY_MODE": "simple",
       "ENABLE_ASSIGNMENT": true,
       "ENABLE_DATALINK": true,
       "FLATTEN_COLUMN_VALUES": true,
       "FLATTEN_INDEX_VALUES": false,
       "GENERATE_DEX_METADATA": false,
       "HTML_TABLE_SCHEMA": false,
       "LOG_LEVEL": 30,
       "MAX_RENDER_SIZE_BYTES": 104857600,
       "MAX_STRING_LENGTH": 250,
       "NUM_PAST_SAMPLES_TRACKED": 3,
       "RANDOM_STATE": 12648430,
       "RESET_INDEX_VALUES": false,
       "ROW_SAMPLING_METHOD": "random",
       "SAMPLING_FACTOR": 0.1,
       "SAMPLING_METHOD": "random",
       "STRINGIFY_COLUMN_VALUES": true,
       "STRINGIFY_INDEX_VALUES": false
      },
      "sample_history": [],
      "sampling_time": "2023-11-26T18:42:17.248152",
      "user_variable_name": null,
      "variable_name": "unk_dataframe_e05544aeffbd4c9dacd0504b28d39fe4"
     },
     "2d80254e-80f9-44bf-b527-07afa33aaf46": {
      "applied_filters": [],
      "dataframe_info": {
       "default_index_used": false,
       "orig_num_cols": 17,
       "orig_num_rows": 8,
       "orig_size_bytes": 1152,
       "truncated_num_cols": 17,
       "truncated_num_rows": 8,
       "truncated_size_bytes": 1152,
       "truncated_string_columns": []
      },
      "display_id": "2d80254e-80f9-44bf-b527-07afa33aaf46",
      "dx_settings": {
       "ALLOW_NOTEABLE_ATTRS": true,
       "COLUMN_SAMPLING_METHOD": "outer",
       "DB_LOCATION": ":memory:",
       "DEV_MODE": false,
       "DISPLAY_MAX_COLUMNS": 100,
       "DISPLAY_MAX_ROWS": 50000,
       "DISPLAY_MODE": "simple",
       "ENABLE_ASSIGNMENT": true,
       "ENABLE_DATALINK": true,
       "FLATTEN_COLUMN_VALUES": true,
       "FLATTEN_INDEX_VALUES": false,
       "GENERATE_DEX_METADATA": false,
       "HTML_TABLE_SCHEMA": false,
       "LOG_LEVEL": 30,
       "MAX_RENDER_SIZE_BYTES": 104857600,
       "MAX_STRING_LENGTH": 250,
       "NUM_PAST_SAMPLES_TRACKED": 3,
       "RANDOM_STATE": 12648430,
       "RESET_INDEX_VALUES": false,
       "ROW_SAMPLING_METHOD": "random",
       "SAMPLING_FACTOR": 0.1,
       "SAMPLING_METHOD": "random",
       "STRINGIFY_COLUMN_VALUES": true,
       "STRINGIFY_INDEX_VALUES": false
      },
      "sample_history": [],
      "sampling_time": "2023-11-28T15:53:33.211587",
      "user_variable_name": null,
      "variable_name": "unk_dataframe_ecb9685d2c894112a56d441416f1b263"
     },
     "498aaea0-ac73-4d4b-b8fc-8a11e2f65a72": {
      "applied_filters": [],
      "dataframe_info": {
       "default_index_used": false,
       "orig_num_cols": 17,
       "orig_num_rows": 8,
       "orig_size_bytes": 1152,
       "truncated_num_cols": 17,
       "truncated_num_rows": 8,
       "truncated_size_bytes": 1152,
       "truncated_string_columns": []
      },
      "display_id": "498aaea0-ac73-4d4b-b8fc-8a11e2f65a72",
      "dx_settings": {
       "ALLOW_NOTEABLE_ATTRS": true,
       "COLUMN_SAMPLING_METHOD": "outer",
       "DB_LOCATION": ":memory:",
       "DEV_MODE": false,
       "DISPLAY_MAX_COLUMNS": 100,
       "DISPLAY_MAX_ROWS": 50000,
       "DISPLAY_MODE": "simple",
       "ENABLE_ASSIGNMENT": true,
       "ENABLE_DATALINK": true,
       "FLATTEN_COLUMN_VALUES": true,
       "FLATTEN_INDEX_VALUES": false,
       "GENERATE_DEX_METADATA": false,
       "HTML_TABLE_SCHEMA": false,
       "LOG_LEVEL": 30,
       "MAX_RENDER_SIZE_BYTES": 104857600,
       "MAX_STRING_LENGTH": 250,
       "NUM_PAST_SAMPLES_TRACKED": 3,
       "RANDOM_STATE": 12648430,
       "RESET_INDEX_VALUES": false,
       "ROW_SAMPLING_METHOD": "random",
       "SAMPLING_FACTOR": 0.1,
       "SAMPLING_METHOD": "random",
       "STRINGIFY_COLUMN_VALUES": true,
       "STRINGIFY_INDEX_VALUES": false
      },
      "sample_history": [],
      "sampling_time": "2023-11-26T18:38:42.858758",
      "user_variable_name": "statistical_summary",
      "variable_name": "statistical_summary"
     },
     "4da3f858-0a78-4ddb-be77-153d4f561069": {
      "applied_filters": [],
      "dataframe_info": {
       "default_index_used": false,
       "orig_num_cols": 17,
       "orig_num_rows": 8,
       "orig_size_bytes": 1152,
       "truncated_num_cols": 17,
       "truncated_num_rows": 8,
       "truncated_size_bytes": 1152,
       "truncated_string_columns": []
      },
      "display_id": "4da3f858-0a78-4ddb-be77-153d4f561069",
      "dx_settings": {
       "ALLOW_NOTEABLE_ATTRS": true,
       "COLUMN_SAMPLING_METHOD": "outer",
       "DB_LOCATION": ":memory:",
       "DEV_MODE": false,
       "DISPLAY_MAX_COLUMNS": 100,
       "DISPLAY_MAX_ROWS": 50000,
       "DISPLAY_MODE": "simple",
       "ENABLE_ASSIGNMENT": true,
       "ENABLE_DATALINK": true,
       "FLATTEN_COLUMN_VALUES": true,
       "FLATTEN_INDEX_VALUES": false,
       "GENERATE_DEX_METADATA": false,
       "HTML_TABLE_SCHEMA": false,
       "LOG_LEVEL": 30,
       "MAX_RENDER_SIZE_BYTES": 104857600,
       "MAX_STRING_LENGTH": 250,
       "NUM_PAST_SAMPLES_TRACKED": 3,
       "RANDOM_STATE": 12648430,
       "RESET_INDEX_VALUES": false,
       "ROW_SAMPLING_METHOD": "random",
       "SAMPLING_FACTOR": 0.1,
       "SAMPLING_METHOD": "random",
       "STRINGIFY_COLUMN_VALUES": true,
       "STRINGIFY_INDEX_VALUES": false
      },
      "sample_history": [],
      "sampling_time": "2023-11-30T11:17:55.075456",
      "user_variable_name": null,
      "variable_name": "unk_dataframe_965af0ce42ee4acb84f3a234db9b9627"
     },
     "4fb6a4a8-b955-465c-8dfb-0440516c0e24": {
      "applied_filters": [],
      "dataframe_info": {
       "default_index_used": false,
       "orig_num_cols": 17,
       "orig_num_rows": 8,
       "orig_size_bytes": 1152,
       "truncated_num_cols": 17,
       "truncated_num_rows": 8,
       "truncated_size_bytes": 1152,
       "truncated_string_columns": []
      },
      "display_id": "4fb6a4a8-b955-465c-8dfb-0440516c0e24",
      "dx_settings": {
       "ALLOW_NOTEABLE_ATTRS": true,
       "COLUMN_SAMPLING_METHOD": "outer",
       "DB_LOCATION": ":memory:",
       "DEV_MODE": false,
       "DISPLAY_MAX_COLUMNS": 100,
       "DISPLAY_MAX_ROWS": 50000,
       "DISPLAY_MODE": "simple",
       "ENABLE_ASSIGNMENT": true,
       "ENABLE_DATALINK": true,
       "FLATTEN_COLUMN_VALUES": true,
       "FLATTEN_INDEX_VALUES": false,
       "GENERATE_DEX_METADATA": false,
       "HTML_TABLE_SCHEMA": false,
       "LOG_LEVEL": 30,
       "MAX_RENDER_SIZE_BYTES": 104857600,
       "MAX_STRING_LENGTH": 250,
       "NUM_PAST_SAMPLES_TRACKED": 3,
       "RANDOM_STATE": 12648430,
       "RESET_INDEX_VALUES": false,
       "ROW_SAMPLING_METHOD": "random",
       "SAMPLING_FACTOR": 0.1,
       "SAMPLING_METHOD": "random",
       "STRINGIFY_COLUMN_VALUES": true,
       "STRINGIFY_INDEX_VALUES": false
      },
      "sample_history": [],
      "sampling_time": "2023-11-29T18:28:18.262669",
      "user_variable_name": null,
      "variable_name": "unk_dataframe_6cb49518760d4ea4a473901a428d1bca"
     },
     "5ccbc1c2-7093-461c-bf26-53169e03baf8": {
      "applied_filters": [],
      "dataframe_info": {
       "default_index_used": false,
       "orig_num_cols": 17,
       "orig_num_rows": 8,
       "orig_size_bytes": 1152,
       "truncated_num_cols": 17,
       "truncated_num_rows": 8,
       "truncated_size_bytes": 1152,
       "truncated_string_columns": []
      },
      "display_id": "5ccbc1c2-7093-461c-bf26-53169e03baf8",
      "dx_settings": {
       "ALLOW_NOTEABLE_ATTRS": true,
       "COLUMN_SAMPLING_METHOD": "outer",
       "DB_LOCATION": ":memory:",
       "DEV_MODE": false,
       "DISPLAY_MAX_COLUMNS": 100,
       "DISPLAY_MAX_ROWS": 50000,
       "DISPLAY_MODE": "simple",
       "ENABLE_ASSIGNMENT": true,
       "ENABLE_DATALINK": true,
       "FLATTEN_COLUMN_VALUES": true,
       "FLATTEN_INDEX_VALUES": false,
       "GENERATE_DEX_METADATA": false,
       "HTML_TABLE_SCHEMA": false,
       "LOG_LEVEL": 30,
       "MAX_RENDER_SIZE_BYTES": 104857600,
       "MAX_STRING_LENGTH": 250,
       "NUM_PAST_SAMPLES_TRACKED": 3,
       "RANDOM_STATE": 12648430,
       "RESET_INDEX_VALUES": false,
       "ROW_SAMPLING_METHOD": "random",
       "SAMPLING_FACTOR": 0.1,
       "SAMPLING_METHOD": "random",
       "STRINGIFY_COLUMN_VALUES": true,
       "STRINGIFY_INDEX_VALUES": false
      },
      "sample_history": [],
      "sampling_time": "2023-11-28T17:50:29.022793",
      "user_variable_name": null,
      "variable_name": "unk_dataframe_eada9ca242ad407c9e070f3b191054f8"
     },
     "63e33071-e4a3-4cf1-b5b2-27a335d1955c": {
      "applied_filters": [],
      "dataframe_info": {
       "default_index_used": false,
       "orig_num_cols": 17,
       "orig_num_rows": 8,
       "orig_size_bytes": 1152,
       "truncated_num_cols": 17,
       "truncated_num_rows": 8,
       "truncated_size_bytes": 1152,
       "truncated_string_columns": []
      },
      "display_id": "63e33071-e4a3-4cf1-b5b2-27a335d1955c",
      "dx_settings": {
       "ALLOW_NOTEABLE_ATTRS": true,
       "COLUMN_SAMPLING_METHOD": "outer",
       "DB_LOCATION": ":memory:",
       "DEV_MODE": false,
       "DISPLAY_MAX_COLUMNS": 100,
       "DISPLAY_MAX_ROWS": 50000,
       "DISPLAY_MODE": "simple",
       "ENABLE_ASSIGNMENT": true,
       "ENABLE_DATALINK": true,
       "FLATTEN_COLUMN_VALUES": true,
       "FLATTEN_INDEX_VALUES": false,
       "GENERATE_DEX_METADATA": false,
       "HTML_TABLE_SCHEMA": false,
       "LOG_LEVEL": 30,
       "MAX_RENDER_SIZE_BYTES": 104857600,
       "MAX_STRING_LENGTH": 250,
       "NUM_PAST_SAMPLES_TRACKED": 3,
       "RANDOM_STATE": 12648430,
       "RESET_INDEX_VALUES": false,
       "ROW_SAMPLING_METHOD": "random",
       "SAMPLING_FACTOR": 0.1,
       "SAMPLING_METHOD": "random",
       "STRINGIFY_COLUMN_VALUES": true,
       "STRINGIFY_INDEX_VALUES": false
      },
      "sample_history": [],
      "sampling_time": "2023-11-27T17:35:16.022798",
      "user_variable_name": null,
      "variable_name": "unk_dataframe_7bef4d3c6e61428295c79b414246b0ff"
     },
     "817566bd-cf4b-49ba-865d-c108c76b61bd": {
      "applied_filters": [],
      "dataframe_info": {
       "default_index_used": false,
       "orig_num_cols": 17,
       "orig_num_rows": 8,
       "orig_size_bytes": 1152,
       "truncated_num_cols": 17,
       "truncated_num_rows": 8,
       "truncated_size_bytes": 1152,
       "truncated_string_columns": []
      },
      "display_id": "817566bd-cf4b-49ba-865d-c108c76b61bd",
      "dx_settings": {
       "ALLOW_NOTEABLE_ATTRS": true,
       "COLUMN_SAMPLING_METHOD": "outer",
       "DB_LOCATION": ":memory:",
       "DEV_MODE": false,
       "DISPLAY_MAX_COLUMNS": 100,
       "DISPLAY_MAX_ROWS": 50000,
       "DISPLAY_MODE": "simple",
       "ENABLE_ASSIGNMENT": true,
       "ENABLE_DATALINK": true,
       "FLATTEN_COLUMN_VALUES": true,
       "FLATTEN_INDEX_VALUES": false,
       "GENERATE_DEX_METADATA": false,
       "HTML_TABLE_SCHEMA": false,
       "LOG_LEVEL": 30,
       "MAX_RENDER_SIZE_BYTES": 104857600,
       "MAX_STRING_LENGTH": 250,
       "NUM_PAST_SAMPLES_TRACKED": 3,
       "RANDOM_STATE": 12648430,
       "RESET_INDEX_VALUES": false,
       "ROW_SAMPLING_METHOD": "random",
       "SAMPLING_FACTOR": 0.1,
       "SAMPLING_METHOD": "random",
       "STRINGIFY_COLUMN_VALUES": true,
       "STRINGIFY_INDEX_VALUES": false
      },
      "sample_history": [],
      "sampling_time": "2023-11-27T17:29:59.581415",
      "user_variable_name": null,
      "variable_name": "unk_dataframe_5346af40aaa34b26b2f4bc4b1e2ab41f"
     },
     "8665167a-def5-47db-bd7a-e8b5f9abf623": {
      "applied_filters": [],
      "dataframe_info": {
       "default_index_used": false,
       "orig_num_cols": 17,
       "orig_num_rows": 8,
       "orig_size_bytes": 1152,
       "truncated_num_cols": 17,
       "truncated_num_rows": 8,
       "truncated_size_bytes": 1152,
       "truncated_string_columns": []
      },
      "display_id": "8665167a-def5-47db-bd7a-e8b5f9abf623",
      "dx_settings": {
       "ALLOW_NOTEABLE_ATTRS": true,
       "COLUMN_SAMPLING_METHOD": "outer",
       "DB_LOCATION": ":memory:",
       "DEV_MODE": false,
       "DISPLAY_MAX_COLUMNS": 100,
       "DISPLAY_MAX_ROWS": 50000,
       "DISPLAY_MODE": "simple",
       "ENABLE_ASSIGNMENT": true,
       "ENABLE_DATALINK": true,
       "FLATTEN_COLUMN_VALUES": true,
       "FLATTEN_INDEX_VALUES": false,
       "GENERATE_DEX_METADATA": false,
       "HTML_TABLE_SCHEMA": false,
       "LOG_LEVEL": 30,
       "MAX_RENDER_SIZE_BYTES": 104857600,
       "MAX_STRING_LENGTH": 250,
       "NUM_PAST_SAMPLES_TRACKED": 3,
       "RANDOM_STATE": 12648430,
       "RESET_INDEX_VALUES": false,
       "ROW_SAMPLING_METHOD": "random",
       "SAMPLING_FACTOR": 0.1,
       "SAMPLING_METHOD": "random",
       "STRINGIFY_COLUMN_VALUES": true,
       "STRINGIFY_INDEX_VALUES": false
      },
      "sample_history": [],
      "sampling_time": "2023-11-28T15:56:48.857974",
      "user_variable_name": null,
      "variable_name": "unk_dataframe_90c35a3232694cb995fa3596bb2d42dc"
     },
     "90282d6c-a191-4ae5-859d-2111ad32ef86": {
      "applied_filters": [],
      "dataframe_info": {
       "default_index_used": false,
       "orig_num_cols": 17,
       "orig_num_rows": 8,
       "orig_size_bytes": 1152,
       "truncated_num_cols": 17,
       "truncated_num_rows": 8,
       "truncated_size_bytes": 1152,
       "truncated_string_columns": []
      },
      "display_id": "90282d6c-a191-4ae5-859d-2111ad32ef86",
      "dx_settings": {
       "ALLOW_NOTEABLE_ATTRS": true,
       "COLUMN_SAMPLING_METHOD": "outer",
       "DB_LOCATION": ":memory:",
       "DEV_MODE": false,
       "DISPLAY_MAX_COLUMNS": 100,
       "DISPLAY_MAX_ROWS": 50000,
       "DISPLAY_MODE": "simple",
       "ENABLE_ASSIGNMENT": true,
       "ENABLE_DATALINK": true,
       "FLATTEN_COLUMN_VALUES": true,
       "FLATTEN_INDEX_VALUES": false,
       "GENERATE_DEX_METADATA": false,
       "HTML_TABLE_SCHEMA": false,
       "LOG_LEVEL": 30,
       "MAX_RENDER_SIZE_BYTES": 104857600,
       "MAX_STRING_LENGTH": 250,
       "NUM_PAST_SAMPLES_TRACKED": 3,
       "RANDOM_STATE": 12648430,
       "RESET_INDEX_VALUES": false,
       "ROW_SAMPLING_METHOD": "random",
       "SAMPLING_FACTOR": 0.1,
       "SAMPLING_METHOD": "random",
       "STRINGIFY_COLUMN_VALUES": true,
       "STRINGIFY_INDEX_VALUES": false
      },
      "sample_history": [],
      "sampling_time": "2023-11-29T14:37:47.581612",
      "user_variable_name": null,
      "variable_name": "unk_dataframe_8d8ecb705595470598206afe265946f6"
     },
     "aec0ad69-ef2b-4717-95a3-07495924ae3f": {
      "applied_filters": [],
      "dataframe_info": {
       "default_index_used": false,
       "orig_num_cols": 17,
       "orig_num_rows": 8,
       "orig_size_bytes": 1152,
       "truncated_num_cols": 17,
       "truncated_num_rows": 8,
       "truncated_size_bytes": 1152,
       "truncated_string_columns": []
      },
      "display_id": "aec0ad69-ef2b-4717-95a3-07495924ae3f",
      "dx_settings": {
       "ALLOW_NOTEABLE_ATTRS": true,
       "COLUMN_SAMPLING_METHOD": "outer",
       "DB_LOCATION": ":memory:",
       "DEV_MODE": false,
       "DISPLAY_MAX_COLUMNS": 100,
       "DISPLAY_MAX_ROWS": 50000,
       "DISPLAY_MODE": "simple",
       "ENABLE_ASSIGNMENT": true,
       "ENABLE_DATALINK": true,
       "FLATTEN_COLUMN_VALUES": true,
       "FLATTEN_INDEX_VALUES": false,
       "GENERATE_DEX_METADATA": false,
       "HTML_TABLE_SCHEMA": false,
       "LOG_LEVEL": 30,
       "MAX_RENDER_SIZE_BYTES": 104857600,
       "MAX_STRING_LENGTH": 250,
       "NUM_PAST_SAMPLES_TRACKED": 3,
       "RANDOM_STATE": 12648430,
       "RESET_INDEX_VALUES": false,
       "ROW_SAMPLING_METHOD": "random",
       "SAMPLING_FACTOR": 0.1,
       "SAMPLING_METHOD": "random",
       "STRINGIFY_COLUMN_VALUES": true,
       "STRINGIFY_INDEX_VALUES": false
      },
      "sample_history": [],
      "sampling_time": "2023-11-29T15:07:54.413395",
      "user_variable_name": null,
      "variable_name": "unk_dataframe_10857e81078e4aaaa450b36775da9614"
     },
     "bf5cc5db-7c4f-463d-838d-eb1a39a55d88": {
      "applied_filters": [],
      "dataframe_info": {
       "default_index_used": false,
       "orig_num_cols": 17,
       "orig_num_rows": 8,
       "orig_size_bytes": 1152,
       "truncated_num_cols": 17,
       "truncated_num_rows": 8,
       "truncated_size_bytes": 1152,
       "truncated_string_columns": []
      },
      "display_id": "bf5cc5db-7c4f-463d-838d-eb1a39a55d88",
      "dx_settings": {
       "ALLOW_NOTEABLE_ATTRS": true,
       "COLUMN_SAMPLING_METHOD": "outer",
       "DB_LOCATION": ":memory:",
       "DEV_MODE": false,
       "DISPLAY_MAX_COLUMNS": 100,
       "DISPLAY_MAX_ROWS": 50000,
       "DISPLAY_MODE": "simple",
       "ENABLE_ASSIGNMENT": true,
       "ENABLE_DATALINK": true,
       "FLATTEN_COLUMN_VALUES": true,
       "FLATTEN_INDEX_VALUES": false,
       "GENERATE_DEX_METADATA": false,
       "HTML_TABLE_SCHEMA": false,
       "LOG_LEVEL": 30,
       "MAX_RENDER_SIZE_BYTES": 104857600,
       "MAX_STRING_LENGTH": 250,
       "NUM_PAST_SAMPLES_TRACKED": 3,
       "RANDOM_STATE": 12648430,
       "RESET_INDEX_VALUES": false,
       "ROW_SAMPLING_METHOD": "random",
       "SAMPLING_FACTOR": 0.1,
       "SAMPLING_METHOD": "random",
       "STRINGIFY_COLUMN_VALUES": true,
       "STRINGIFY_INDEX_VALUES": false
      },
      "sample_history": [],
      "sampling_time": "2023-11-27T16:46:35.208413",
      "user_variable_name": null,
      "variable_name": "unk_dataframe_40ff587828fc433bb6fcae3b8b58ff93"
     },
     "dce154af-2e37-42b3-ba54-21c0cf1097b5": {
      "applied_filters": [],
      "dataframe_info": {
       "default_index_used": false,
       "orig_num_cols": 17,
       "orig_num_rows": 8,
       "orig_size_bytes": 1152,
       "truncated_num_cols": 17,
       "truncated_num_rows": 8,
       "truncated_size_bytes": 1152,
       "truncated_string_columns": []
      },
      "display_id": "dce154af-2e37-42b3-ba54-21c0cf1097b5",
      "dx_settings": {
       "ALLOW_NOTEABLE_ATTRS": true,
       "COLUMN_SAMPLING_METHOD": "outer",
       "DB_LOCATION": ":memory:",
       "DEV_MODE": false,
       "DISPLAY_MAX_COLUMNS": 100,
       "DISPLAY_MAX_ROWS": 50000,
       "DISPLAY_MODE": "simple",
       "ENABLE_ASSIGNMENT": true,
       "ENABLE_DATALINK": true,
       "FLATTEN_COLUMN_VALUES": true,
       "FLATTEN_INDEX_VALUES": false,
       "GENERATE_DEX_METADATA": false,
       "HTML_TABLE_SCHEMA": false,
       "LOG_LEVEL": 30,
       "MAX_RENDER_SIZE_BYTES": 104857600,
       "MAX_STRING_LENGTH": 250,
       "NUM_PAST_SAMPLES_TRACKED": 3,
       "RANDOM_STATE": 12648430,
       "RESET_INDEX_VALUES": false,
       "ROW_SAMPLING_METHOD": "random",
       "SAMPLING_FACTOR": 0.1,
       "SAMPLING_METHOD": "random",
       "STRINGIFY_COLUMN_VALUES": true,
       "STRINGIFY_INDEX_VALUES": false
      },
      "sample_history": [],
      "sampling_time": "2023-11-28T15:24:17.210369",
      "user_variable_name": null,
      "variable_name": "unk_dataframe_8566f780afa140f2927ae6ecb2873de4"
     },
     "f3e4ff9a-5731-4373-9704-228352396997": {
      "applied_filters": [],
      "dataframe_info": {
       "default_index_used": false,
       "orig_num_cols": 17,
       "orig_num_rows": 8,
       "orig_size_bytes": 1152,
       "truncated_num_cols": 17,
       "truncated_num_rows": 8,
       "truncated_size_bytes": 1152,
       "truncated_string_columns": []
      },
      "display_id": "f3e4ff9a-5731-4373-9704-228352396997",
      "dx_settings": {
       "ALLOW_NOTEABLE_ATTRS": true,
       "COLUMN_SAMPLING_METHOD": "outer",
       "DB_LOCATION": ":memory:",
       "DEV_MODE": false,
       "DISPLAY_MAX_COLUMNS": 100,
       "DISPLAY_MAX_ROWS": 50000,
       "DISPLAY_MODE": "simple",
       "ENABLE_ASSIGNMENT": true,
       "ENABLE_DATALINK": true,
       "FLATTEN_COLUMN_VALUES": true,
       "FLATTEN_INDEX_VALUES": false,
       "GENERATE_DEX_METADATA": false,
       "HTML_TABLE_SCHEMA": false,
       "LOG_LEVEL": 30,
       "MAX_RENDER_SIZE_BYTES": 104857600,
       "MAX_STRING_LENGTH": 250,
       "NUM_PAST_SAMPLES_TRACKED": 3,
       "RANDOM_STATE": 12648430,
       "RESET_INDEX_VALUES": false,
       "ROW_SAMPLING_METHOD": "random",
       "SAMPLING_FACTOR": 0.1,
       "SAMPLING_METHOD": "random",
       "STRINGIFY_COLUMN_VALUES": true,
       "STRINGIFY_INDEX_VALUES": false
      },
      "sample_history": [],
      "sampling_time": "2023-11-28T19:06:17.433217",
      "user_variable_name": null,
      "variable_name": "unk_dataframe_c8520c5b80814c36ab4b4fb0243f8a85"
     },
     "f9c3c736-1abb-44b9-899d-cb18474c41c8": {
      "applied_filters": [],
      "dataframe_info": {
       "default_index_used": false,
       "orig_num_cols": 17,
       "orig_num_rows": 8,
       "orig_size_bytes": 1152,
       "truncated_num_cols": 17,
       "truncated_num_rows": 8,
       "truncated_size_bytes": 1152,
       "truncated_string_columns": []
      },
      "display_id": "f9c3c736-1abb-44b9-899d-cb18474c41c8",
      "dx_settings": {
       "ALLOW_NOTEABLE_ATTRS": true,
       "COLUMN_SAMPLING_METHOD": "outer",
       "DB_LOCATION": ":memory:",
       "DEV_MODE": false,
       "DISPLAY_MAX_COLUMNS": 100,
       "DISPLAY_MAX_ROWS": 50000,
       "DISPLAY_MODE": "simple",
       "ENABLE_ASSIGNMENT": true,
       "ENABLE_DATALINK": true,
       "FLATTEN_COLUMN_VALUES": true,
       "FLATTEN_INDEX_VALUES": false,
       "GENERATE_DEX_METADATA": false,
       "HTML_TABLE_SCHEMA": false,
       "LOG_LEVEL": 30,
       "MAX_RENDER_SIZE_BYTES": 104857600,
       "MAX_STRING_LENGTH": 250,
       "NUM_PAST_SAMPLES_TRACKED": 3,
       "RANDOM_STATE": 12648430,
       "RESET_INDEX_VALUES": false,
       "ROW_SAMPLING_METHOD": "random",
       "SAMPLING_FACTOR": 0.1,
       "SAMPLING_METHOD": "random",
       "STRINGIFY_COLUMN_VALUES": true,
       "STRINGIFY_INDEX_VALUES": false
      },
      "sample_history": [],
      "sampling_time": "2023-11-28T16:04:33.342037",
      "user_variable_name": null,
      "variable_name": "unk_dataframe_3d228ac9b08b43f9a05924724528808c"
     }
    },
    "dx": {
     "dashboard": {
      "multiViews": []
     },
     "fieldMetadata": {
      "MJD": {
       "columnPosition": 17
      },
      "alpha": {
       "columnPosition": 3
      },
      "cam_col": {
       "columnPosition": 12
      },
      "delta": {
       "columnPosition": 4
      },
      "fiber_ID": {
       "columnPosition": 18
      },
      "field_ID": {
       "columnPosition": 13
      },
      "g": {
       "columnPosition": 6
      },
      "i": {
       "columnPosition": 8
      },
      "index": {
       "columnPosition": 1,
       "frozen": true
      },
      "obj_ID": {
       "columnPosition": 2
      },
      "plate": {
       "columnPosition": 16
      },
      "r": {
       "columnPosition": 7
      },
      "redshift": {
       "columnPosition": 15
      },
      "rerun_ID": {
       "columnPosition": 11
      },
      "run_ID": {
       "columnPosition": 10
      },
      "spec_obj_ID": {
       "columnPosition": 14
      },
      "u": {
       "columnPosition": 5
      },
      "z": {
       "columnPosition": 9
      }
     },
     "updated": 1701102257573,
     "views": [
      {
       "annotationRules": [],
       "chart": {},
       "chartMode": "grid",
       "confoRules": [],
       "decoration": {
        "footer": "",
        "subtitle": "",
        "title": "Table"
       },
       "facets": [],
       "filterSettings": {
        "SHOW_FILTER_PANEL": true,
        "filters": []
       },
       "id": "first-view",
       "isDefault": true,
       "type": "public",
       "userID": ""
      },
      {
       "annotationRules": [],
       "chart": {},
       "chartMode": "grid",
       "confoRules": [],
       "decoration": {
        "footer": "",
        "subtitle": "",
        "title": "Table"
       },
       "facets": [],
       "filterSettings": {
        "SHOW_FILTER_PANEL": true,
        "filters": []
       },
       "id": "first-view",
       "isDefault": true,
       "isTransitory": true,
       "type": "public",
       "userID": ""
      }
     ]
    },
    "jupyter": {
     "outputs_hidden": false,
     "source_hidden": false
    },
    "noteable": {
     "cell_type": "code"
    },
    "scrolled": true
   },
   "outputs": [
    {
     "data": {
      "text/html": [
       "<div>\n",
       "<style scoped>\n",
       "    .dataframe tbody tr th:only-of-type {\n",
       "        vertical-align: middle;\n",
       "    }\n",
       "\n",
       "    .dataframe tbody tr th {\n",
       "        vertical-align: top;\n",
       "    }\n",
       "\n",
       "    .dataframe thead th {\n",
       "        text-align: right;\n",
       "    }\n",
       "</style>\n",
       "<table border=\"1\" class=\"dataframe\">\n",
       "  <thead>\n",
       "    <tr style=\"text-align: right;\">\n",
       "      <th></th>\n",
       "      <th>obj_ID</th>\n",
       "      <th>alpha</th>\n",
       "      <th>delta</th>\n",
       "      <th>u</th>\n",
       "      <th>g</th>\n",
       "      <th>r</th>\n",
       "      <th>i</th>\n",
       "      <th>z</th>\n",
       "      <th>run_ID</th>\n",
       "      <th>rerun_ID</th>\n",
       "      <th>cam_col</th>\n",
       "      <th>field_ID</th>\n",
       "      <th>spec_obj_ID</th>\n",
       "      <th>redshift</th>\n",
       "      <th>plate</th>\n",
       "      <th>MJD</th>\n",
       "      <th>fiber_ID</th>\n",
       "    </tr>\n",
       "  </thead>\n",
       "  <tbody>\n",
       "    <tr>\n",
       "      <th>count</th>\n",
       "      <td>9.999900e+04</td>\n",
       "      <td>99999.000000</td>\n",
       "      <td>99999.000000</td>\n",
       "      <td>99999.000000</td>\n",
       "      <td>99999.000000</td>\n",
       "      <td>99999.000000</td>\n",
       "      <td>99999.000000</td>\n",
       "      <td>99999.000000</td>\n",
       "      <td>99999.000000</td>\n",
       "      <td>99999.0</td>\n",
       "      <td>99999.000000</td>\n",
       "      <td>99999.000000</td>\n",
       "      <td>9.999900e+04</td>\n",
       "      <td>99999.000000</td>\n",
       "      <td>99999.000000</td>\n",
       "      <td>99999.000000</td>\n",
       "      <td>99999.000000</td>\n",
       "    </tr>\n",
       "    <tr>\n",
       "      <th>mean</th>\n",
       "      <td>1.237665e+18</td>\n",
       "      <td>177.628653</td>\n",
       "      <td>24.135552</td>\n",
       "      <td>22.080679</td>\n",
       "      <td>20.631583</td>\n",
       "      <td>19.645777</td>\n",
       "      <td>19.084865</td>\n",
       "      <td>18.768988</td>\n",
       "      <td>4481.403354</td>\n",
       "      <td>301.0</td>\n",
       "      <td>3.511625</td>\n",
       "      <td>186.127011</td>\n",
       "      <td>5.783903e+18</td>\n",
       "      <td>0.576667</td>\n",
       "      <td>5137.027890</td>\n",
       "      <td>55588.653687</td>\n",
       "      <td>449.315613</td>\n",
       "    </tr>\n",
       "    <tr>\n",
       "      <th>std</th>\n",
       "      <td>8.438450e+12</td>\n",
       "      <td>96.502612</td>\n",
       "      <td>19.644608</td>\n",
       "      <td>2.251068</td>\n",
       "      <td>2.037384</td>\n",
       "      <td>1.854763</td>\n",
       "      <td>1.757900</td>\n",
       "      <td>1.765982</td>\n",
       "      <td>1964.739021</td>\n",
       "      <td>0.0</td>\n",
       "      <td>1.586913</td>\n",
       "      <td>149.007687</td>\n",
       "      <td>3.324026e+18</td>\n",
       "      <td>0.730709</td>\n",
       "      <td>2952.312485</td>\n",
       "      <td>1808.492217</td>\n",
       "      <td>272.498252</td>\n",
       "    </tr>\n",
       "    <tr>\n",
       "      <th>min</th>\n",
       "      <td>1.237646e+18</td>\n",
       "      <td>0.005528</td>\n",
       "      <td>-18.785328</td>\n",
       "      <td>10.996230</td>\n",
       "      <td>10.498200</td>\n",
       "      <td>9.822070</td>\n",
       "      <td>9.469903</td>\n",
       "      <td>9.612333</td>\n",
       "      <td>109.000000</td>\n",
       "      <td>301.0</td>\n",
       "      <td>1.000000</td>\n",
       "      <td>11.000000</td>\n",
       "      <td>2.995191e+17</td>\n",
       "      <td>-0.009971</td>\n",
       "      <td>266.000000</td>\n",
       "      <td>51608.000000</td>\n",
       "      <td>1.000000</td>\n",
       "    </tr>\n",
       "    <tr>\n",
       "      <th>25%</th>\n",
       "      <td>1.237659e+18</td>\n",
       "      <td>127.517698</td>\n",
       "      <td>5.147477</td>\n",
       "      <td>20.352410</td>\n",
       "      <td>18.965240</td>\n",
       "      <td>18.135795</td>\n",
       "      <td>17.732280</td>\n",
       "      <td>17.460830</td>\n",
       "      <td>3187.000000</td>\n",
       "      <td>301.0</td>\n",
       "      <td>2.000000</td>\n",
       "      <td>82.000000</td>\n",
       "      <td>2.844137e+18</td>\n",
       "      <td>0.054522</td>\n",
       "      <td>2526.000000</td>\n",
       "      <td>54234.000000</td>\n",
       "      <td>221.000000</td>\n",
       "    </tr>\n",
       "    <tr>\n",
       "      <th>50%</th>\n",
       "      <td>1.237663e+18</td>\n",
       "      <td>180.900527</td>\n",
       "      <td>23.646462</td>\n",
       "      <td>22.179140</td>\n",
       "      <td>21.099930</td>\n",
       "      <td>20.125310</td>\n",
       "      <td>19.405150</td>\n",
       "      <td>19.004600</td>\n",
       "      <td>4188.000000</td>\n",
       "      <td>301.0</td>\n",
       "      <td>4.000000</td>\n",
       "      <td>146.000000</td>\n",
       "      <td>5.614896e+18</td>\n",
       "      <td>0.424176</td>\n",
       "      <td>4987.000000</td>\n",
       "      <td>55869.000000</td>\n",
       "      <td>433.000000</td>\n",
       "    </tr>\n",
       "    <tr>\n",
       "      <th>75%</th>\n",
       "      <td>1.237668e+18</td>\n",
       "      <td>233.895005</td>\n",
       "      <td>39.901582</td>\n",
       "      <td>23.687480</td>\n",
       "      <td>22.123775</td>\n",
       "      <td>21.044790</td>\n",
       "      <td>20.396510</td>\n",
       "      <td>19.921120</td>\n",
       "      <td>5326.000000</td>\n",
       "      <td>301.0</td>\n",
       "      <td>5.000000</td>\n",
       "      <td>241.000000</td>\n",
       "      <td>8.332365e+18</td>\n",
       "      <td>0.704172</td>\n",
       "      <td>7400.500000</td>\n",
       "      <td>56777.000000</td>\n",
       "      <td>645.000000</td>\n",
       "    </tr>\n",
       "    <tr>\n",
       "      <th>max</th>\n",
       "      <td>1.237681e+18</td>\n",
       "      <td>359.999810</td>\n",
       "      <td>83.000519</td>\n",
       "      <td>32.781390</td>\n",
       "      <td>31.602240</td>\n",
       "      <td>29.571860</td>\n",
       "      <td>32.141470</td>\n",
       "      <td>29.383740</td>\n",
       "      <td>8162.000000</td>\n",
       "      <td>301.0</td>\n",
       "      <td>6.000000</td>\n",
       "      <td>989.000000</td>\n",
       "      <td>1.412694e+19</td>\n",
       "      <td>7.011245</td>\n",
       "      <td>12547.000000</td>\n",
       "      <td>58932.000000</td>\n",
       "      <td>1000.000000</td>\n",
       "    </tr>\n",
       "  </tbody>\n",
       "</table>\n",
       "</div>"
      ],
      "text/plain": [
       "             obj_ID         alpha         delta             u             g  \\\n",
       "count  9.999900e+04  99999.000000  99999.000000  99999.000000  99999.000000   \n",
       "mean   1.237665e+18    177.628653     24.135552     22.080679     20.631583   \n",
       "std    8.438450e+12     96.502612     19.644608      2.251068      2.037384   \n",
       "min    1.237646e+18      0.005528    -18.785328     10.996230     10.498200   \n",
       "25%    1.237659e+18    127.517698      5.147477     20.352410     18.965240   \n",
       "50%    1.237663e+18    180.900527     23.646462     22.179140     21.099930   \n",
       "75%    1.237668e+18    233.895005     39.901582     23.687480     22.123775   \n",
       "max    1.237681e+18    359.999810     83.000519     32.781390     31.602240   \n",
       "\n",
       "                  r             i             z        run_ID  rerun_ID  \\\n",
       "count  99999.000000  99999.000000  99999.000000  99999.000000   99999.0   \n",
       "mean      19.645777     19.084865     18.768988   4481.403354     301.0   \n",
       "std        1.854763      1.757900      1.765982   1964.739021       0.0   \n",
       "min        9.822070      9.469903      9.612333    109.000000     301.0   \n",
       "25%       18.135795     17.732280     17.460830   3187.000000     301.0   \n",
       "50%       20.125310     19.405150     19.004600   4188.000000     301.0   \n",
       "75%       21.044790     20.396510     19.921120   5326.000000     301.0   \n",
       "max       29.571860     32.141470     29.383740   8162.000000     301.0   \n",
       "\n",
       "            cam_col      field_ID   spec_obj_ID      redshift         plate  \\\n",
       "count  99999.000000  99999.000000  9.999900e+04  99999.000000  99999.000000   \n",
       "mean       3.511625    186.127011  5.783903e+18      0.576667   5137.027890   \n",
       "std        1.586913    149.007687  3.324026e+18      0.730709   2952.312485   \n",
       "min        1.000000     11.000000  2.995191e+17     -0.009971    266.000000   \n",
       "25%        2.000000     82.000000  2.844137e+18      0.054522   2526.000000   \n",
       "50%        4.000000    146.000000  5.614896e+18      0.424176   4987.000000   \n",
       "75%        5.000000    241.000000  8.332365e+18      0.704172   7400.500000   \n",
       "max        6.000000    989.000000  1.412694e+19      7.011245  12547.000000   \n",
       "\n",
       "                MJD      fiber_ID  \n",
       "count  99999.000000  99999.000000  \n",
       "mean   55588.653687    449.315613  \n",
       "std     1808.492217    272.498252  \n",
       "min    51608.000000      1.000000  \n",
       "25%    54234.000000    221.000000  \n",
       "50%    55869.000000    433.000000  \n",
       "75%    56777.000000    645.000000  \n",
       "max    58932.000000   1000.000000  "
      ]
     },
     "execution_count": 5,
     "metadata": {},
     "output_type": "execute_result"
    }
   ],
   "source": [
    "# Encontrar el índice de la fila con valores extremos en 'u' o 'z'\n",
    "indices_extremos = df[(df['u'] == -9999) | (df['z'] == -9999)].index\n",
    "\n",
    "# Eliminar la fila\n",
    "df_filter1=df.drop(indices_extremos)\n",
    "\n",
    "# Verificando el resultado\n",
    "df_filter1.describe()"
   ]
  },
  {
   "cell_type": "markdown",
   "id": "d0e273c0-3514-412f-83ae-e828419690d3",
   "metadata": {
    "noteable": {
     "cell_type": "markdown"
    }
   },
   "source": [
    "## Cuantificación por clases"
   ]
  },
  {
   "cell_type": "code",
   "execution_count": 6,
   "id": "48f6c776-e7d4-40ce-88b8-405019dee6e1",
   "metadata": {
    "ExecuteTime": {
     "end_time": "2023-11-30T11:17:56.734211+00:00",
     "start_time": "2023-11-30T11:17:55.242768+00:00"
    },
    "datalink": {
     "00a18b56-5094-4371-9fe2-d711b1aeb957": {
      "applied_filters": [],
      "dataframe_info": {
       "default_index_used": false,
       "orig_num_cols": 1,
       "orig_num_rows": 3,
       "orig_size_bytes": 48,
       "truncated_num_cols": 1,
       "truncated_num_rows": 3,
       "truncated_size_bytes": 48,
       "truncated_string_columns": []
      },
      "display_id": "00a18b56-5094-4371-9fe2-d711b1aeb957",
      "dx_settings": {
       "ALLOW_NOTEABLE_ATTRS": true,
       "COLUMN_SAMPLING_METHOD": "outer",
       "DB_LOCATION": ":memory:",
       "DEV_MODE": false,
       "DISPLAY_MAX_COLUMNS": 100,
       "DISPLAY_MAX_ROWS": 50000,
       "DISPLAY_MODE": "simple",
       "ENABLE_ASSIGNMENT": true,
       "ENABLE_DATALINK": true,
       "FLATTEN_COLUMN_VALUES": true,
       "FLATTEN_INDEX_VALUES": false,
       "GENERATE_DEX_METADATA": false,
       "HTML_TABLE_SCHEMA": false,
       "LOG_LEVEL": 30,
       "MAX_RENDER_SIZE_BYTES": 104857600,
       "MAX_STRING_LENGTH": 250,
       "NUM_PAST_SAMPLES_TRACKED": 3,
       "RANDOM_STATE": 12648430,
       "RESET_INDEX_VALUES": false,
       "ROW_SAMPLING_METHOD": "random",
       "SAMPLING_FACTOR": 0.1,
       "SAMPLING_METHOD": "random",
       "STRINGIFY_COLUMN_VALUES": true,
       "STRINGIFY_INDEX_VALUES": false
      },
      "sample_history": [],
      "sampling_time": "2023-11-27T18:13:57.842445",
      "user_variable_name": null,
      "variable_name": "unk_dataframe_65f7c7dd4fe5443bb6243769e61c95fc"
     },
     "0b3a2122-932f-4101-b561-8166f409d0a2": {
      "applied_filters": [],
      "dataframe_info": {
       "default_index_used": false,
       "orig_num_cols": 1,
       "orig_num_rows": 3,
       "orig_size_bytes": 48,
       "truncated_num_cols": 1,
       "truncated_num_rows": 3,
       "truncated_size_bytes": 48,
       "truncated_string_columns": []
      },
      "display_id": "0b3a2122-932f-4101-b561-8166f409d0a2",
      "dx_settings": {
       "ALLOW_NOTEABLE_ATTRS": true,
       "COLUMN_SAMPLING_METHOD": "outer",
       "DB_LOCATION": ":memory:",
       "DEV_MODE": false,
       "DISPLAY_MAX_COLUMNS": 100,
       "DISPLAY_MAX_ROWS": 50000,
       "DISPLAY_MODE": "simple",
       "ENABLE_ASSIGNMENT": true,
       "ENABLE_DATALINK": true,
       "FLATTEN_COLUMN_VALUES": true,
       "FLATTEN_INDEX_VALUES": false,
       "GENERATE_DEX_METADATA": false,
       "HTML_TABLE_SCHEMA": false,
       "LOG_LEVEL": 30,
       "MAX_RENDER_SIZE_BYTES": 104857600,
       "MAX_STRING_LENGTH": 250,
       "NUM_PAST_SAMPLES_TRACKED": 3,
       "RANDOM_STATE": 12648430,
       "RESET_INDEX_VALUES": false,
       "ROW_SAMPLING_METHOD": "random",
       "SAMPLING_FACTOR": 0.1,
       "SAMPLING_METHOD": "random",
       "STRINGIFY_COLUMN_VALUES": true,
       "STRINGIFY_INDEX_VALUES": false
      },
      "sample_history": [],
      "sampling_time": "2023-11-27T17:35:17.649586",
      "user_variable_name": null,
      "variable_name": "unk_dataframe_ff584f5a83a94fd2b5f50bae4e3539de"
     },
     "21923239-c16c-4448-9209-1f98fe772af6": {
      "applied_filters": [],
      "dataframe_info": {
       "default_index_used": false,
       "orig_num_cols": 1,
       "orig_num_rows": 3,
       "orig_size_bytes": 48,
       "truncated_num_cols": 1,
       "truncated_num_rows": 3,
       "truncated_size_bytes": 48,
       "truncated_string_columns": []
      },
      "display_id": "21923239-c16c-4448-9209-1f98fe772af6",
      "dx_settings": {
       "ALLOW_NOTEABLE_ATTRS": true,
       "COLUMN_SAMPLING_METHOD": "outer",
       "DB_LOCATION": ":memory:",
       "DEV_MODE": false,
       "DISPLAY_MAX_COLUMNS": 100,
       "DISPLAY_MAX_ROWS": 50000,
       "DISPLAY_MODE": "simple",
       "ENABLE_ASSIGNMENT": true,
       "ENABLE_DATALINK": true,
       "FLATTEN_COLUMN_VALUES": true,
       "FLATTEN_INDEX_VALUES": false,
       "GENERATE_DEX_METADATA": false,
       "HTML_TABLE_SCHEMA": false,
       "LOG_LEVEL": 30,
       "MAX_RENDER_SIZE_BYTES": 104857600,
       "MAX_STRING_LENGTH": 250,
       "NUM_PAST_SAMPLES_TRACKED": 3,
       "RANDOM_STATE": 12648430,
       "RESET_INDEX_VALUES": false,
       "ROW_SAMPLING_METHOD": "random",
       "SAMPLING_FACTOR": 0.1,
       "SAMPLING_METHOD": "random",
       "STRINGIFY_COLUMN_VALUES": true,
       "STRINGIFY_INDEX_VALUES": false
      },
      "sample_history": [],
      "sampling_time": "2023-11-27T16:46:36.749271",
      "user_variable_name": null,
      "variable_name": "unk_dataframe_f17ad44052374a78a3b4ef329db9c70c"
     },
     "332f1b1f-634d-4754-a7f2-3dd9c57a3c6b": {
      "applied_filters": [],
      "dataframe_info": {
       "default_index_used": false,
       "orig_num_cols": 1,
       "orig_num_rows": 3,
       "orig_size_bytes": 48,
       "truncated_num_cols": 1,
       "truncated_num_rows": 3,
       "truncated_size_bytes": 48,
       "truncated_string_columns": []
      },
      "display_id": "332f1b1f-634d-4754-a7f2-3dd9c57a3c6b",
      "dx_settings": {
       "ALLOW_NOTEABLE_ATTRS": true,
       "COLUMN_SAMPLING_METHOD": "outer",
       "DB_LOCATION": ":memory:",
       "DEV_MODE": false,
       "DISPLAY_MAX_COLUMNS": 100,
       "DISPLAY_MAX_ROWS": 50000,
       "DISPLAY_MODE": "simple",
       "ENABLE_ASSIGNMENT": true,
       "ENABLE_DATALINK": true,
       "FLATTEN_COLUMN_VALUES": true,
       "FLATTEN_INDEX_VALUES": false,
       "GENERATE_DEX_METADATA": false,
       "HTML_TABLE_SCHEMA": false,
       "LOG_LEVEL": 30,
       "MAX_RENDER_SIZE_BYTES": 104857600,
       "MAX_STRING_LENGTH": 250,
       "NUM_PAST_SAMPLES_TRACKED": 3,
       "RANDOM_STATE": 12648430,
       "RESET_INDEX_VALUES": false,
       "ROW_SAMPLING_METHOD": "random",
       "SAMPLING_FACTOR": 0.1,
       "SAMPLING_METHOD": "random",
       "STRINGIFY_COLUMN_VALUES": true,
       "STRINGIFY_INDEX_VALUES": false
      },
      "sample_history": [],
      "sampling_time": "2023-11-28T15:53:40.353991",
      "user_variable_name": null,
      "variable_name": "unk_dataframe_18c6a9c9058a4702855827090105b7df"
     },
     "43fff31c-a3f0-43c1-8c1c-0f4dafccd700": {
      "applied_filters": [],
      "dataframe_info": {
       "default_index_used": false,
       "orig_num_cols": 1,
       "orig_num_rows": 3,
       "orig_size_bytes": 48,
       "truncated_num_cols": 1,
       "truncated_num_rows": 3,
       "truncated_size_bytes": 48,
       "truncated_string_columns": []
      },
      "display_id": "43fff31c-a3f0-43c1-8c1c-0f4dafccd700",
      "dx_settings": {
       "ALLOW_NOTEABLE_ATTRS": true,
       "COLUMN_SAMPLING_METHOD": "outer",
       "DB_LOCATION": ":memory:",
       "DEV_MODE": false,
       "DISPLAY_MAX_COLUMNS": 100,
       "DISPLAY_MAX_ROWS": 50000,
       "DISPLAY_MODE": "simple",
       "ENABLE_ASSIGNMENT": true,
       "ENABLE_DATALINK": true,
       "FLATTEN_COLUMN_VALUES": true,
       "FLATTEN_INDEX_VALUES": false,
       "GENERATE_DEX_METADATA": false,
       "HTML_TABLE_SCHEMA": false,
       "LOG_LEVEL": 30,
       "MAX_RENDER_SIZE_BYTES": 104857600,
       "MAX_STRING_LENGTH": 250,
       "NUM_PAST_SAMPLES_TRACKED": 3,
       "RANDOM_STATE": 12648430,
       "RESET_INDEX_VALUES": false,
       "ROW_SAMPLING_METHOD": "random",
       "SAMPLING_FACTOR": 0.1,
       "SAMPLING_METHOD": "random",
       "STRINGIFY_COLUMN_VALUES": true,
       "STRINGIFY_INDEX_VALUES": false
      },
      "sample_history": [],
      "sampling_time": "2023-11-28T15:24:18.680074",
      "user_variable_name": null,
      "variable_name": "unk_dataframe_703e8fba45d746ecbeef95002aeb81e9"
     },
     "45c2afc3-8867-4daa-9530-dfc93dc970fa": {
      "applied_filters": [],
      "dataframe_info": {
       "default_index_used": false,
       "orig_num_cols": 1,
       "orig_num_rows": 3,
       "orig_size_bytes": 48,
       "truncated_num_cols": 1,
       "truncated_num_rows": 3,
       "truncated_size_bytes": 48,
       "truncated_string_columns": []
      },
      "display_id": "45c2afc3-8867-4daa-9530-dfc93dc970fa",
      "dx_settings": {
       "ALLOW_NOTEABLE_ATTRS": true,
       "COLUMN_SAMPLING_METHOD": "outer",
       "DB_LOCATION": ":memory:",
       "DEV_MODE": false,
       "DISPLAY_MAX_COLUMNS": 100,
       "DISPLAY_MAX_ROWS": 50000,
       "DISPLAY_MODE": "simple",
       "ENABLE_ASSIGNMENT": true,
       "ENABLE_DATALINK": true,
       "FLATTEN_COLUMN_VALUES": true,
       "FLATTEN_INDEX_VALUES": false,
       "GENERATE_DEX_METADATA": false,
       "HTML_TABLE_SCHEMA": false,
       "LOG_LEVEL": 30,
       "MAX_RENDER_SIZE_BYTES": 104857600,
       "MAX_STRING_LENGTH": 250,
       "NUM_PAST_SAMPLES_TRACKED": 3,
       "RANDOM_STATE": 12648430,
       "RESET_INDEX_VALUES": false,
       "ROW_SAMPLING_METHOD": "random",
       "SAMPLING_FACTOR": 0.1,
       "SAMPLING_METHOD": "random",
       "STRINGIFY_COLUMN_VALUES": true,
       "STRINGIFY_INDEX_VALUES": false
      },
      "sample_history": [],
      "sampling_time": "2023-11-30T11:17:56.575891",
      "user_variable_name": null,
      "variable_name": "unk_dataframe_40aa678ac79644bab71a61213912b278"
     },
     "50af10c8-62e6-473a-a737-242aaa28ea4b": {
      "applied_filters": [],
      "dataframe_info": {
       "default_index_used": false,
       "orig_num_cols": 1,
       "orig_num_rows": 3,
       "orig_size_bytes": 48,
       "truncated_num_cols": 1,
       "truncated_num_rows": 3,
       "truncated_size_bytes": 48,
       "truncated_string_columns": []
      },
      "display_id": "50af10c8-62e6-473a-a737-242aaa28ea4b",
      "dx_settings": {
       "ALLOW_NOTEABLE_ATTRS": true,
       "COLUMN_SAMPLING_METHOD": "outer",
       "DB_LOCATION": ":memory:",
       "DEV_MODE": false,
       "DISPLAY_MAX_COLUMNS": 100,
       "DISPLAY_MAX_ROWS": 50000,
       "DISPLAY_MODE": "simple",
       "ENABLE_ASSIGNMENT": true,
       "ENABLE_DATALINK": true,
       "FLATTEN_COLUMN_VALUES": true,
       "FLATTEN_INDEX_VALUES": false,
       "GENERATE_DEX_METADATA": false,
       "HTML_TABLE_SCHEMA": false,
       "LOG_LEVEL": 30,
       "MAX_RENDER_SIZE_BYTES": 104857600,
       "MAX_STRING_LENGTH": 250,
       "NUM_PAST_SAMPLES_TRACKED": 3,
       "RANDOM_STATE": 12648430,
       "RESET_INDEX_VALUES": false,
       "ROW_SAMPLING_METHOD": "random",
       "SAMPLING_FACTOR": 0.1,
       "SAMPLING_METHOD": "random",
       "STRINGIFY_COLUMN_VALUES": true,
       "STRINGIFY_INDEX_VALUES": false
      },
      "sample_history": [],
      "sampling_time": "2023-11-28T16:04:34.798344",
      "user_variable_name": null,
      "variable_name": "unk_dataframe_9fec4656aa6c40d6836bc0b6268a5fdf"
     },
     "57319ef9-5c72-455f-a1ec-ebb265977df1": {
      "applied_filters": [],
      "dataframe_info": {
       "default_index_used": false,
       "orig_num_cols": 1,
       "orig_num_rows": 3,
       "orig_size_bytes": 48,
       "truncated_num_cols": 1,
       "truncated_num_rows": 3,
       "truncated_size_bytes": 48,
       "truncated_string_columns": []
      },
      "display_id": "57319ef9-5c72-455f-a1ec-ebb265977df1",
      "dx_settings": {
       "ALLOW_NOTEABLE_ATTRS": true,
       "COLUMN_SAMPLING_METHOD": "outer",
       "DB_LOCATION": ":memory:",
       "DEV_MODE": false,
       "DISPLAY_MAX_COLUMNS": 100,
       "DISPLAY_MAX_ROWS": 50000,
       "DISPLAY_MODE": "simple",
       "ENABLE_ASSIGNMENT": true,
       "ENABLE_DATALINK": true,
       "FLATTEN_COLUMN_VALUES": true,
       "FLATTEN_INDEX_VALUES": false,
       "GENERATE_DEX_METADATA": false,
       "HTML_TABLE_SCHEMA": false,
       "LOG_LEVEL": 30,
       "MAX_RENDER_SIZE_BYTES": 104857600,
       "MAX_STRING_LENGTH": 250,
       "NUM_PAST_SAMPLES_TRACKED": 3,
       "RANDOM_STATE": 12648430,
       "RESET_INDEX_VALUES": false,
       "ROW_SAMPLING_METHOD": "random",
       "SAMPLING_FACTOR": 0.1,
       "SAMPLING_METHOD": "random",
       "STRINGIFY_COLUMN_VALUES": true,
       "STRINGIFY_INDEX_VALUES": false
      },
      "sample_history": [],
      "sampling_time": "2023-11-29T15:07:56.364032",
      "user_variable_name": null,
      "variable_name": "unk_dataframe_bc26c0e2d8784a23bc8422c904661444"
     },
     "6de02b42-425e-48e8-bee3-ebd6b4ef38dd": {
      "applied_filters": [],
      "dataframe_info": {
       "default_index_used": false,
       "orig_num_cols": 1,
       "orig_num_rows": 3,
       "orig_size_bytes": 48,
       "truncated_num_cols": 1,
       "truncated_num_rows": 3,
       "truncated_size_bytes": 48,
       "truncated_string_columns": []
      },
      "display_id": "6de02b42-425e-48e8-bee3-ebd6b4ef38dd",
      "dx_settings": {
       "ALLOW_NOTEABLE_ATTRS": true,
       "COLUMN_SAMPLING_METHOD": "outer",
       "DB_LOCATION": ":memory:",
       "DEV_MODE": false,
       "DISPLAY_MAX_COLUMNS": 100,
       "DISPLAY_MAX_ROWS": 50000,
       "DISPLAY_MODE": "simple",
       "ENABLE_ASSIGNMENT": true,
       "ENABLE_DATALINK": true,
       "FLATTEN_COLUMN_VALUES": true,
       "FLATTEN_INDEX_VALUES": false,
       "GENERATE_DEX_METADATA": false,
       "HTML_TABLE_SCHEMA": false,
       "LOG_LEVEL": 30,
       "MAX_RENDER_SIZE_BYTES": 104857600,
       "MAX_STRING_LENGTH": 250,
       "NUM_PAST_SAMPLES_TRACKED": 3,
       "RANDOM_STATE": 12648430,
       "RESET_INDEX_VALUES": false,
       "ROW_SAMPLING_METHOD": "random",
       "SAMPLING_FACTOR": 0.1,
       "SAMPLING_METHOD": "random",
       "STRINGIFY_COLUMN_VALUES": true,
       "STRINGIFY_INDEX_VALUES": false
      },
      "sample_history": [],
      "sampling_time": "2023-11-28T19:06:19.560312",
      "user_variable_name": null,
      "variable_name": "unk_dataframe_91cc48088b504e08a21086f3a5bee0b7"
     },
     "7763af08-6a91-441d-8202-aae288f951d2": {
      "applied_filters": [],
      "dataframe_info": {
       "default_index_used": false,
       "orig_num_cols": 1,
       "orig_num_rows": 3,
       "orig_size_bytes": 48,
       "truncated_num_cols": 1,
       "truncated_num_rows": 3,
       "truncated_size_bytes": 48,
       "truncated_string_columns": []
      },
      "display_id": "7763af08-6a91-441d-8202-aae288f951d2",
      "dx_settings": {
       "ALLOW_NOTEABLE_ATTRS": true,
       "COLUMN_SAMPLING_METHOD": "outer",
       "DB_LOCATION": ":memory:",
       "DEV_MODE": false,
       "DISPLAY_MAX_COLUMNS": 100,
       "DISPLAY_MAX_ROWS": 50000,
       "DISPLAY_MODE": "simple",
       "ENABLE_ASSIGNMENT": true,
       "ENABLE_DATALINK": true,
       "FLATTEN_COLUMN_VALUES": true,
       "FLATTEN_INDEX_VALUES": false,
       "GENERATE_DEX_METADATA": false,
       "HTML_TABLE_SCHEMA": false,
       "LOG_LEVEL": 30,
       "MAX_RENDER_SIZE_BYTES": 104857600,
       "MAX_STRING_LENGTH": 250,
       "NUM_PAST_SAMPLES_TRACKED": 3,
       "RANDOM_STATE": 12648430,
       "RESET_INDEX_VALUES": false,
       "ROW_SAMPLING_METHOD": "random",
       "SAMPLING_FACTOR": 0.1,
       "SAMPLING_METHOD": "random",
       "STRINGIFY_COLUMN_VALUES": true,
       "STRINGIFY_INDEX_VALUES": false
      },
      "sample_history": [],
      "sampling_time": "2023-11-26T17:23:21.640915",
      "user_variable_name": null,
      "variable_name": "unk_dataframe_6a2e52f94c854c09bdbf3cfb38182b86"
     },
     "7d4fdde4-2a72-46d4-be41-2f914d4074b8": {
      "applied_filters": [],
      "dataframe_info": {
       "default_index_used": false,
       "orig_num_cols": 1,
       "orig_num_rows": 3,
       "orig_size_bytes": 48,
       "truncated_num_cols": 1,
       "truncated_num_rows": 3,
       "truncated_size_bytes": 48,
       "truncated_string_columns": []
      },
      "display_id": "7d4fdde4-2a72-46d4-be41-2f914d4074b8",
      "dx_settings": {
       "ALLOW_NOTEABLE_ATTRS": true,
       "COLUMN_SAMPLING_METHOD": "outer",
       "DB_LOCATION": ":memory:",
       "DEV_MODE": false,
       "DISPLAY_MAX_COLUMNS": 100,
       "DISPLAY_MAX_ROWS": 50000,
       "DISPLAY_MODE": "simple",
       "ENABLE_ASSIGNMENT": true,
       "ENABLE_DATALINK": true,
       "FLATTEN_COLUMN_VALUES": true,
       "FLATTEN_INDEX_VALUES": false,
       "GENERATE_DEX_METADATA": false,
       "HTML_TABLE_SCHEMA": false,
       "LOG_LEVEL": 30,
       "MAX_RENDER_SIZE_BYTES": 104857600,
       "MAX_STRING_LENGTH": 250,
       "NUM_PAST_SAMPLES_TRACKED": 3,
       "RANDOM_STATE": 12648430,
       "RESET_INDEX_VALUES": false,
       "ROW_SAMPLING_METHOD": "random",
       "SAMPLING_FACTOR": 0.1,
       "SAMPLING_METHOD": "random",
       "STRINGIFY_COLUMN_VALUES": true,
       "STRINGIFY_INDEX_VALUES": false
      },
      "sample_history": [],
      "sampling_time": "2023-11-26T16:55:05.690017",
      "user_variable_name": null,
      "variable_name": "unk_dataframe_8bef05757f46457ea63bc3c4fefa145f"
     },
     "7fc83471-87be-4e83-95c4-26ce0a24b967": {
      "applied_filters": [],
      "dataframe_info": {
       "default_index_used": false,
       "orig_num_cols": 1,
       "orig_num_rows": 3,
       "orig_size_bytes": 48,
       "truncated_num_cols": 1,
       "truncated_num_rows": 3,
       "truncated_size_bytes": 48,
       "truncated_string_columns": []
      },
      "display_id": "7fc83471-87be-4e83-95c4-26ce0a24b967",
      "dx_settings": {
       "ALLOW_NOTEABLE_ATTRS": true,
       "COLUMN_SAMPLING_METHOD": "outer",
       "DB_LOCATION": ":memory:",
       "DEV_MODE": false,
       "DISPLAY_MAX_COLUMNS": 100,
       "DISPLAY_MAX_ROWS": 50000,
       "DISPLAY_MODE": "simple",
       "ENABLE_ASSIGNMENT": true,
       "ENABLE_DATALINK": true,
       "FLATTEN_COLUMN_VALUES": true,
       "FLATTEN_INDEX_VALUES": false,
       "GENERATE_DEX_METADATA": false,
       "HTML_TABLE_SCHEMA": false,
       "LOG_LEVEL": 30,
       "MAX_RENDER_SIZE_BYTES": 104857600,
       "MAX_STRING_LENGTH": 250,
       "NUM_PAST_SAMPLES_TRACKED": 3,
       "RANDOM_STATE": 12648430,
       "RESET_INDEX_VALUES": false,
       "ROW_SAMPLING_METHOD": "random",
       "SAMPLING_FACTOR": 0.1,
       "SAMPLING_METHOD": "random",
       "STRINGIFY_COLUMN_VALUES": true,
       "STRINGIFY_INDEX_VALUES": false
      },
      "sample_history": [],
      "sampling_time": "2023-11-28T17:50:30.512531",
      "user_variable_name": null,
      "variable_name": "unk_dataframe_fac27eb9d2d94087a362a23d9bf207a8"
     },
     "865fcd53-7236-404e-b1a4-61d1e30d7db1": {
      "applied_filters": [],
      "dataframe_info": {
       "default_index_used": false,
       "orig_num_cols": 1,
       "orig_num_rows": 3,
       "orig_size_bytes": 48,
       "truncated_num_cols": 1,
       "truncated_num_rows": 3,
       "truncated_size_bytes": 48,
       "truncated_string_columns": []
      },
      "display_id": "865fcd53-7236-404e-b1a4-61d1e30d7db1",
      "dx_settings": {
       "ALLOW_NOTEABLE_ATTRS": true,
       "COLUMN_SAMPLING_METHOD": "outer",
       "DB_LOCATION": ":memory:",
       "DEV_MODE": false,
       "DISPLAY_MAX_COLUMNS": 100,
       "DISPLAY_MAX_ROWS": 50000,
       "DISPLAY_MODE": "simple",
       "ENABLE_ASSIGNMENT": true,
       "ENABLE_DATALINK": true,
       "FLATTEN_COLUMN_VALUES": true,
       "FLATTEN_INDEX_VALUES": false,
       "GENERATE_DEX_METADATA": false,
       "HTML_TABLE_SCHEMA": false,
       "LOG_LEVEL": 30,
       "MAX_RENDER_SIZE_BYTES": 104857600,
       "MAX_STRING_LENGTH": 250,
       "NUM_PAST_SAMPLES_TRACKED": 3,
       "RANDOM_STATE": 12648430,
       "RESET_INDEX_VALUES": false,
       "ROW_SAMPLING_METHOD": "random",
       "SAMPLING_FACTOR": 0.1,
       "SAMPLING_METHOD": "random",
       "STRINGIFY_COLUMN_VALUES": true,
       "STRINGIFY_INDEX_VALUES": false
      },
      "sample_history": [],
      "sampling_time": "2023-11-27T17:30:01.234059",
      "user_variable_name": null,
      "variable_name": "unk_dataframe_8d4dbf2facc34f618ef6308573dfe34d"
     },
     "9babe678-34bf-46cd-94a1-3d06cf9360d2": {
      "applied_filters": [],
      "dataframe_info": {
       "default_index_used": false,
       "orig_num_cols": 1,
       "orig_num_rows": 3,
       "orig_size_bytes": 48,
       "truncated_num_cols": 1,
       "truncated_num_rows": 3,
       "truncated_size_bytes": 48,
       "truncated_string_columns": []
      },
      "display_id": "9babe678-34bf-46cd-94a1-3d06cf9360d2",
      "dx_settings": {
       "ALLOW_NOTEABLE_ATTRS": true,
       "COLUMN_SAMPLING_METHOD": "outer",
       "DB_LOCATION": ":memory:",
       "DEV_MODE": false,
       "DISPLAY_MAX_COLUMNS": 100,
       "DISPLAY_MAX_ROWS": 50000,
       "DISPLAY_MODE": "simple",
       "ENABLE_ASSIGNMENT": true,
       "ENABLE_DATALINK": true,
       "FLATTEN_COLUMN_VALUES": true,
       "FLATTEN_INDEX_VALUES": false,
       "GENERATE_DEX_METADATA": false,
       "HTML_TABLE_SCHEMA": false,
       "LOG_LEVEL": 30,
       "MAX_RENDER_SIZE_BYTES": 104857600,
       "MAX_STRING_LENGTH": 250,
       "NUM_PAST_SAMPLES_TRACKED": 3,
       "RANDOM_STATE": 12648430,
       "RESET_INDEX_VALUES": false,
       "ROW_SAMPLING_METHOD": "random",
       "SAMPLING_FACTOR": 0.1,
       "SAMPLING_METHOD": "random",
       "STRINGIFY_COLUMN_VALUES": true,
       "STRINGIFY_INDEX_VALUES": false
      },
      "sample_history": [],
      "sampling_time": "2023-11-29T14:37:49.163548",
      "user_variable_name": null,
      "variable_name": "unk_dataframe_fe7643090e35424b90063940816c0d62"
     },
     "c63ffc5a-ca1e-43cb-9eab-fd0452bc6215": {
      "applied_filters": [],
      "dataframe_info": {
       "default_index_used": false,
       "orig_num_cols": 1,
       "orig_num_rows": 3,
       "orig_size_bytes": 48,
       "truncated_num_cols": 1,
       "truncated_num_rows": 3,
       "truncated_size_bytes": 48,
       "truncated_string_columns": []
      },
      "display_id": "c63ffc5a-ca1e-43cb-9eab-fd0452bc6215",
      "dx_settings": {
       "ALLOW_NOTEABLE_ATTRS": true,
       "COLUMN_SAMPLING_METHOD": "outer",
       "DB_LOCATION": ":memory:",
       "DEV_MODE": false,
       "DISPLAY_MAX_COLUMNS": 100,
       "DISPLAY_MAX_ROWS": 50000,
       "DISPLAY_MODE": "simple",
       "ENABLE_ASSIGNMENT": true,
       "ENABLE_DATALINK": true,
       "FLATTEN_COLUMN_VALUES": true,
       "FLATTEN_INDEX_VALUES": false,
       "GENERATE_DEX_METADATA": false,
       "HTML_TABLE_SCHEMA": false,
       "LOG_LEVEL": 30,
       "MAX_RENDER_SIZE_BYTES": 104857600,
       "MAX_STRING_LENGTH": 250,
       "NUM_PAST_SAMPLES_TRACKED": 3,
       "RANDOM_STATE": 12648430,
       "RESET_INDEX_VALUES": false,
       "ROW_SAMPLING_METHOD": "random",
       "SAMPLING_FACTOR": 0.1,
       "SAMPLING_METHOD": "random",
       "STRINGIFY_COLUMN_VALUES": true,
       "STRINGIFY_INDEX_VALUES": false
      },
      "sample_history": [],
      "sampling_time": "2023-11-26T17:02:43.524080",
      "user_variable_name": null,
      "variable_name": "unk_dataframe_dbfc3fdd5e4b455cac580eb4c40e226b"
     },
     "cbd7af8c-1eb2-43e9-9bb7-e448877443c1": {
      "applied_filters": [],
      "dataframe_info": {
       "default_index_used": false,
       "orig_num_cols": 1,
       "orig_num_rows": 3,
       "orig_size_bytes": 48,
       "truncated_num_cols": 1,
       "truncated_num_rows": 3,
       "truncated_size_bytes": 48,
       "truncated_string_columns": []
      },
      "display_id": "cbd7af8c-1eb2-43e9-9bb7-e448877443c1",
      "dx_settings": {
       "ALLOW_NOTEABLE_ATTRS": true,
       "COLUMN_SAMPLING_METHOD": "outer",
       "DB_LOCATION": ":memory:",
       "DEV_MODE": false,
       "DISPLAY_MAX_COLUMNS": 100,
       "DISPLAY_MAX_ROWS": 50000,
       "DISPLAY_MODE": "simple",
       "ENABLE_ASSIGNMENT": true,
       "ENABLE_DATALINK": true,
       "FLATTEN_COLUMN_VALUES": true,
       "FLATTEN_INDEX_VALUES": false,
       "GENERATE_DEX_METADATA": false,
       "HTML_TABLE_SCHEMA": false,
       "LOG_LEVEL": 30,
       "MAX_RENDER_SIZE_BYTES": 104857600,
       "MAX_STRING_LENGTH": 250,
       "NUM_PAST_SAMPLES_TRACKED": 3,
       "RANDOM_STATE": 12648430,
       "RESET_INDEX_VALUES": false,
       "ROW_SAMPLING_METHOD": "random",
       "SAMPLING_FACTOR": 0.1,
       "SAMPLING_METHOD": "random",
       "STRINGIFY_COLUMN_VALUES": true,
       "STRINGIFY_INDEX_VALUES": false
      },
      "sample_history": [],
      "sampling_time": "2023-11-28T15:56:50.365409",
      "user_variable_name": null,
      "variable_name": "unk_dataframe_691d0590b3b64aec88d112c98fea4fac"
     },
     "dc3679ff-64ec-437e-a95f-4a2762264c2b": {
      "applied_filters": [],
      "dataframe_info": {
       "default_index_used": false,
       "orig_num_cols": 1,
       "orig_num_rows": 3,
       "orig_size_bytes": 48,
       "truncated_num_cols": 1,
       "truncated_num_rows": 3,
       "truncated_size_bytes": 48,
       "truncated_string_columns": []
      },
      "display_id": "dc3679ff-64ec-437e-a95f-4a2762264c2b",
      "dx_settings": {
       "ALLOW_NOTEABLE_ATTRS": true,
       "COLUMN_SAMPLING_METHOD": "outer",
       "DB_LOCATION": ":memory:",
       "DEV_MODE": false,
       "DISPLAY_MAX_COLUMNS": 100,
       "DISPLAY_MAX_ROWS": 50000,
       "DISPLAY_MODE": "simple",
       "ENABLE_ASSIGNMENT": true,
       "ENABLE_DATALINK": true,
       "FLATTEN_COLUMN_VALUES": true,
       "FLATTEN_INDEX_VALUES": false,
       "GENERATE_DEX_METADATA": false,
       "HTML_TABLE_SCHEMA": false,
       "LOG_LEVEL": 30,
       "MAX_RENDER_SIZE_BYTES": 104857600,
       "MAX_STRING_LENGTH": 250,
       "NUM_PAST_SAMPLES_TRACKED": 3,
       "RANDOM_STATE": 12648430,
       "RESET_INDEX_VALUES": false,
       "ROW_SAMPLING_METHOD": "random",
       "SAMPLING_FACTOR": 0.1,
       "SAMPLING_METHOD": "random",
       "STRINGIFY_COLUMN_VALUES": true,
       "STRINGIFY_INDEX_VALUES": false
      },
      "sample_history": [],
      "sampling_time": "2023-11-26T18:52:56.090104",
      "user_variable_name": null,
      "variable_name": "unk_dataframe_0b1b83c8d5be47d1a81b75446247da7b"
     },
     "ded500a8-b6e2-4fd3-b485-c89e6903c7a9": {
      "applied_filters": [],
      "dataframe_info": {
       "default_index_used": false,
       "orig_num_cols": 1,
       "orig_num_rows": 3,
       "orig_size_bytes": 48,
       "truncated_num_cols": 1,
       "truncated_num_rows": 3,
       "truncated_size_bytes": 48,
       "truncated_string_columns": []
      },
      "display_id": "ded500a8-b6e2-4fd3-b485-c89e6903c7a9",
      "dx_settings": {
       "ALLOW_NOTEABLE_ATTRS": true,
       "COLUMN_SAMPLING_METHOD": "outer",
       "DB_LOCATION": ":memory:",
       "DEV_MODE": false,
       "DISPLAY_MAX_COLUMNS": 100,
       "DISPLAY_MAX_ROWS": 50000,
       "DISPLAY_MODE": "simple",
       "ENABLE_ASSIGNMENT": true,
       "ENABLE_DATALINK": true,
       "FLATTEN_COLUMN_VALUES": true,
       "FLATTEN_INDEX_VALUES": false,
       "GENERATE_DEX_METADATA": false,
       "HTML_TABLE_SCHEMA": false,
       "LOG_LEVEL": 30,
       "MAX_RENDER_SIZE_BYTES": 104857600,
       "MAX_STRING_LENGTH": 250,
       "NUM_PAST_SAMPLES_TRACKED": 3,
       "RANDOM_STATE": 12648430,
       "RESET_INDEX_VALUES": false,
       "ROW_SAMPLING_METHOD": "random",
       "SAMPLING_FACTOR": 0.1,
       "SAMPLING_METHOD": "random",
       "STRINGIFY_COLUMN_VALUES": true,
       "STRINGIFY_INDEX_VALUES": false
      },
      "sample_history": [],
      "sampling_time": "2023-11-29T18:28:19.769985",
      "user_variable_name": null,
      "variable_name": "unk_dataframe_aed7fc89acf445a4a92b860d62f00fd5"
     },
     "f81ae2ea-901a-461b-8c13-1ebc86196b3c": {
      "applied_filters": [],
      "dataframe_info": {
       "default_index_used": false,
       "orig_num_cols": 1,
       "orig_num_rows": 3,
       "orig_size_bytes": 48,
       "truncated_num_cols": 1,
       "truncated_num_rows": 3,
       "truncated_size_bytes": 48,
       "truncated_string_columns": []
      },
      "display_id": "f81ae2ea-901a-461b-8c13-1ebc86196b3c",
      "dx_settings": {
       "ALLOW_NOTEABLE_ATTRS": true,
       "COLUMN_SAMPLING_METHOD": "outer",
       "DB_LOCATION": ":memory:",
       "DEV_MODE": false,
       "DISPLAY_MAX_COLUMNS": 100,
       "DISPLAY_MAX_ROWS": 50000,
       "DISPLAY_MODE": "simple",
       "ENABLE_ASSIGNMENT": true,
       "ENABLE_DATALINK": true,
       "FLATTEN_COLUMN_VALUES": true,
       "FLATTEN_INDEX_VALUES": false,
       "GENERATE_DEX_METADATA": false,
       "HTML_TABLE_SCHEMA": false,
       "LOG_LEVEL": 30,
       "MAX_RENDER_SIZE_BYTES": 104857600,
       "MAX_STRING_LENGTH": 250,
       "NUM_PAST_SAMPLES_TRACKED": 3,
       "RANDOM_STATE": 12648430,
       "RESET_INDEX_VALUES": false,
       "ROW_SAMPLING_METHOD": "random",
       "SAMPLING_FACTOR": 0.1,
       "SAMPLING_METHOD": "random",
       "STRINGIFY_COLUMN_VALUES": true,
       "STRINGIFY_INDEX_VALUES": false
      },
      "sample_history": [],
      "sampling_time": "2023-11-26T17:10:07.002094",
      "user_variable_name": null,
      "variable_name": "unk_dataframe_59ef5293d2c9499e92e8eda38f178077"
     }
    },
    "jupyter": {
     "outputs_hidden": false,
     "source_hidden": false
    },
    "noteable": {
     "cell_type": "code"
    }
   },
   "outputs": [
    {
     "data": {
      "text/plain": [
       "GALAXY    59445\n",
       "STAR      21594\n",
       "QSO       18961\n",
       "Name: class, dtype: int64"
      ]
     },
     "execution_count": 6,
     "metadata": {},
     "output_type": "execute_result"
    }
   ],
   "source": [
    "df[\"class\"].value_counts()"
   ]
  },
  {
   "cell_type": "code",
   "execution_count": 7,
   "id": "93ba5842-f749-47e4-af10-2ef7e4ed7ae2",
   "metadata": {
    "ExecuteTime": {
     "end_time": "2023-11-30T11:17:57.226946+00:00",
     "start_time": "2023-11-30T11:17:56.740108+00:00"
    },
    "jupyter": {
     "outputs_hidden": false,
     "source_hidden": false
    },
    "noteable": {
     "cell_type": "code"
    },
    "scrolled": false
   },
   "outputs": [
    {
     "data": {
      "image/png": "[encoded data removed]",
      "text/plain": [
       "<Figure size 432x288 with 1 Axes>"
      ]
     },
     "metadata": {
      "needs_background": "light"
     },
     "output_type": "display_data"
    }
   ],
   "source": [
    "sns.countplot(x=df[\"class\"])\n",
    "plt.title(\"Class \")\n",
    "plt.show()"
   ]
  },
  {
   "cell_type": "markdown",
   "id": "4039aeb2-9da3-451f-9968-d84cc1190754",
   "metadata": {
    "noteable": {
     "cell_type": "markdown"
    }
   },
   "source": [
    "## Selección de variables\n",
    "\n",
    "Vamos a intentar entender más a fondo que describe cada una de las variables y así poder seleccionar aquellas que aporten información relevante:\n",
    "\n",
    "1. **obj_ID**: Identificador del objeto. Parece ser un identificador único para cada estrella y, por lo tanto, probablemente no sea útil para el análisis predictivo. Lo descartamos.\n",
    "\n",
    "2. **alpha** y **delta**: Coordenadas astronómicas (ascensión recta y declinación). Estas podrían ser relevantes si la posición en el cielo está correlacionada con el tipo de estrella, aunque esto es menos común en la clasificación estelar. Las estudiaremos más adelante.\n",
    "\n",
    "3. **u, g, r, i, z**: Magnitudes en diferentes bandas del espectro (ultravioleta, verde, rojo, infrarrojo cercano e infrarrojo). Estas son mediciones de la intensidad de la luz en diferentes longitudes de onda y son muy importantes en la clasificación estelar.\n",
    "\n",
    "4. **run_ID, rerun_ID, cam_col, field_ID**: Estos parecen ser identificadores y configuraciones relacionadas con la observación astronómica (como la cámara y el campo de visión). Estos datos son más técnicos y probablemente no sean relevantes para la clasificación estelar. Los descartamos.\n",
    "\n",
    "5. **spec_obj_ID**: Un identificador para el espectro del objeto. Al igual que con obj_ID, esto es más probable que sea un identificador único y no contribuya al análisis predictivo. Lo descartamos\n",
    "\n",
    "6. **class**: Esta es la variable objetivo, indicando la clasificación de la estrella.\n",
    "\n",
    "7. **redshift**: Desplazamiento hacia el rojo, una medida de cómo la expansión del universo ha estirado la luz de la estrella. Puede ser muy relevante para la clasificación, especialmente para distinguir galaxias.\n",
    "\n",
    "8. **plate, MJD, fiber_ID**: Estos son identificadores relacionados con la observación del espectro. No son útiles para la clasificación estelar. Los descartamos\n",
    "\n",
    "Para la clasificación, las magnitudes en diferentes bandas del espectro `(u, g, r, i, z)` y posiblemente el `redshift` son las más relevantes. Las demás variables parecen ser mayormente identificadores técnicos o relacionados con la observación y no son útiles para el análisis predictivo. Mantenemos `alpha` y `delta` para ver si hay alguna correlción, aunque no debería si consideramos el espacio uniforme.\n",
    "\n"
   ]
  },
  {
   "cell_type": "code",
   "execution_count": 8,
   "id": "7adf4a93-7a10-4b1b-9fc8-704ad5ee83cc",
   "metadata": {
    "ExecuteTime": {
     "end_time": "2023-11-30T11:17:57.591995+00:00",
     "start_time": "2023-11-30T11:17:57.434868+00:00"
    },
    "jupyter": {
     "outputs_hidden": false,
     "source_hidden": false
    },
    "noteable": {
     "cell_type": "python"
    }
   },
   "outputs": [],
   "source": [
    "df_filter1 = df_filter1.drop(['obj_ID','run_ID','rerun_ID','cam_col','field_ID','fiber_ID','spec_obj_ID', 'plate', 'MJD'], axis = 1)"
   ]
  },
  {
   "cell_type": "code",
   "execution_count": 9,
   "id": "5ab911df-895c-459c-944b-c6a0e5bbd532",
   "metadata": {
    "ExecuteTime": {
     "end_time": "2023-11-30T11:17:57.764930+00:00",
     "start_time": "2023-11-30T11:17:57.597093+00:00"
    },
    "jupyter": {
     "outputs_hidden": false,
     "source_hidden": false
    },
    "noteable": {
     "cell_type": "code"
    }
   },
   "outputs": [
    {
     "name": "stdout",
     "output_type": "stream",
     "text": [
      "<class 'pandas.core.frame.DataFrame'>\n",
      "Int64Index: 99999 entries, 0 to 99999\n",
      "Data columns (total 9 columns):\n",
      " #   Column    Non-Null Count  Dtype  \n",
      "---  ------    --------------  -----  \n",
      " 0   alpha     99999 non-null  float64\n",
      " 1   delta     99999 non-null  float64\n",
      " 2   u         99999 non-null  float64\n",
      " 3   g         99999 non-null  float64\n",
      " 4   r         99999 non-null  float64\n",
      " 5   i         99999 non-null  float64\n",
      " 6   z         99999 non-null  float64\n",
      " 7   class     99999 non-null  object \n",
      " 8   redshift  99999 non-null  float64\n",
      "dtypes: float64(8), object(1)\n",
      "memory usage: 7.6+ MB\n"
     ]
    }
   ],
   "source": [
    "df_filter1.info()"
   ]
  },
  {
   "cell_type": "markdown",
   "id": "a7aa5833-0489-45bc-9773-fce7a2c17888",
   "metadata": {
    "noteable": {
     "cell_type": "markdown"
    }
   },
   "source": [
    "## Visualización de Datos\n",
    "\n",
    "### Gráficos de densidad \n",
    "Para cada una de las variables fotométricas (u, g, r, i, z), así como para redshift, alpha (ascensión recta) y delta (declinación), segmentados por la clase del objeto astronómico (GALAXY, QSO, STAR). \n",
    "\n",
    "Cada gráfico muestra la distribución de la variable correspondiente para cada tipo de objeto, lo que te permite observar diferencias y similitudes entre las clases."
   ]
  },
  {
   "cell_type": "code",
   "execution_count": 10,
   "id": "f92fc816-63a2-4da0-99c7-30c1a87cbfe5",
   "metadata": {
    "ExecuteTime": {
     "end_time": "2023-11-30T11:18:10.216584+00:00",
     "start_time": "2023-11-30T11:17:57.770944+00:00"
    },
    "jupyter": {
     "outputs_hidden": false,
     "source_hidden": false
    },
    "noteable": {
     "cell_type": "code"
    },
    "scrolled": false
   },
   "outputs": [
    {
     "data": {
      "image/png": "[encoded data removed]",
      "text/plain": [
       "<Figure size 720x2880 with 8 Axes>"
      ]
     },
     "metadata": {},
     "output_type": "display_data"
    }
   ],
   "source": [
    "# Configuración para las visualizaciones\n",
    "sns.set(style=\"whitegrid\")\n",
    "\n",
    "# Lista de variables fotométricas y astronómicas para visualizar (todas menos class)\n",
    "variables_to_plot = ['u', 'g', 'r', 'i', 'z', 'redshift', 'alpha', 'delta']\n",
    "\n",
    "# Crear una figura y un conjunto de subtramas\n",
    "fig, axes = plt.subplots(len(variables_to_plot), 1, figsize=(10, 5 * len(variables_to_plot)))\n",
    "\n",
    "# Graficar un gráfico de densidad para cada variable, segmentado por la clase de objeto astronómico\n",
    "for i, var in enumerate(variables_to_plot):\n",
    "    sns.kdeplot(data=df_filter1, x=var, hue=\"class\", ax=axes[i], common_norm=False)\n",
    "    axes[i].set_title(f'Density Plot of {var} by Class')\n",
    "    axes[i].set_xlabel(var)\n",
    "    axes[i].set_ylabel('Density')\n",
    "\n",
    "# Ajustar el layout\n",
    "plt.tight_layout()\n",
    "plt.show()\n"
   ]
  },
  {
   "cell_type": "markdown",
   "id": "a445e492-80bd-4589-96dd-f1b5312b5552",
   "metadata": {
    "noteable": {
     "cell_type": "markdown"
    }
   },
   "source": [
    "## Problemas de visualización de `redshift`\n",
    "\n",
    "En la gráfica de densidad de `redshift` podemos ver que esta se ecuentra dominada por los valores extremadamente bajos. Esto hace que sea difícil discernir cualquier detalle de la distribución, ya que todos los datos se aglomeran en un pico estrecho y alto cerca de cero.\n",
    "\n",
    "La transformación logarítmica hace que los valores altos se compriman y los valores bajos se expandan, mejorando así la interpretabilidad del gráfico.\n"
   ]
  },
  {
   "cell_type": "code",
   "execution_count": 11,
   "id": "cdc82944-83f2-4e04-be42-a8ee96d98684",
   "metadata": {
    "ExecuteTime": {
     "end_time": "2023-11-30T11:18:11.850051+00:00",
     "start_time": "2023-11-30T11:18:10.362013+00:00"
    },
    "jupyter": {
     "outputs_hidden": false,
     "source_hidden": false
    },
    "noteable": {
     "cell_type": "code"
    },
    "scrolled": false
   },
   "outputs": [
    {
     "name": "stderr",
     "output_type": "stream",
     "text": [
      "/Users/alvarogonzalezgonzalez/opt/anaconda3/lib/python3.9/site-packages/pandas/core/arraylike.py:397: RuntimeWarning: divide by zero encountered in log\n",
      "  result = getattr(ufunc, method)(*inputs, **kwargs)\n",
      "/Users/alvarogonzalezgonzalez/opt/anaconda3/lib/python3.9/site-packages/pandas/core/arraylike.py:397: RuntimeWarning: invalid value encountered in log\n",
      "  result = getattr(ufunc, method)(*inputs, **kwargs)\n"
     ]
    },
    {
     "data": {
      "image/png": "[encoded data removed]",
      "text/plain": [
       "<Figure size 864x432 with 1 Axes>"
      ]
     },
     "metadata": {},
     "output_type": "display_data"
    }
   ],
   "source": [
    "# Aplicar el logaritmo natural a la columna 'redshift'\n",
    "df_filter1['log_redshift'] = np.log(df_filter1['redshift'])\n",
    "\n",
    "# Crear el gráfico de densidad con la columna transformada\n",
    "plt.figure(figsize=(12, 6))\n",
    "sns.kdeplot(data=df_filter1, x='log_redshift', hue=\"class\", common_norm=False)\n",
    "plt.title('Density Plot of Log Redshift by Class with Adjusted Bandwidth')\n",
    "plt.xlabel('Log Redshift')\n",
    "plt.ylabel('Density')\n",
    "plt.show()\n"
   ]
  },
  {
   "cell_type": "code",
   "execution_count": 12,
   "id": "c8b14680-71ea-468d-a710-d5ba0f3e9a53",
   "metadata": {
    "ExecuteTime": {
     "end_time": "2023-11-30T11:18:12.227911+00:00",
     "start_time": "2023-11-30T11:18:12.070509+00:00"
    },
    "jupyter": {
     "outputs_hidden": false,
     "source_hidden": false
    },
    "noteable": {
     "cell_type": "python"
    }
   },
   "outputs": [],
   "source": [
    "df_filter1 = df_filter1.drop(['log_redshift'], axis = 1)"
   ]
  },
  {
   "cell_type": "markdown",
   "id": "1ac92bb0-478f-4df8-b960-998bd0fbaf01",
   "metadata": {
    "noteable": {
     "cell_type": "markdown"
    }
   },
   "source": [
    "## Análisis de Correlación\n",
    "- Se transformó la columna `class` a valores numéricos para análisis de correlación.\n",
    "\n",
    "- Se generará un mapa de calor para visualizar las correlaciones entre las diferentes variables, incluyendo la correlación con la clase del objeto."
   ]
  },
  {
   "cell_type": "code",
   "execution_count": 13,
   "id": "2e8256ff-f091-4b8c-9b43-c909a11e2ca6",
   "metadata": {
    "ExecuteTime": {
     "end_time": "2023-11-30T11:18:12.410889+00:00",
     "start_time": "2023-11-30T11:18:12.234785+00:00"
    },
    "jupyter": {
     "outputs_hidden": false,
     "source_hidden": false
    },
    "noteable": {
     "cell_type": "code"
    }
   },
   "outputs": [],
   "source": [
    "df_filter1[\"class\"]=[0 if i == \"GALAXY\" else 1 if i == \"STAR\" else 2 for i in df_filter1[\"class\"]]\n"
   ]
  },
  {
   "cell_type": "code",
   "execution_count": 14,
   "id": "27b91e68-1ceb-4cf2-b05f-11c5efd046ba",
   "metadata": {
    "ExecuteTime": {
     "end_time": "2023-11-30T11:18:13.000153+00:00",
     "start_time": "2023-11-30T11:18:12.417565+00:00"
    },
    "jupyter": {
     "outputs_hidden": false,
     "source_hidden": false
    },
    "noteable": {
     "cell_type": "code"
    }
   },
   "outputs": [
    {
     "data": {
      "image/png": "[encoded data removed]",
      "text/plain": [
       "<Figure size 864x576 with 2 Axes>"
      ]
     },
     "metadata": {},
     "output_type": "display_data"
    }
   ],
   "source": [
    "import seaborn as sns\n",
    "f,ax = plt.subplots(figsize=(12,8))\n",
    "sns.heatmap(df_filter1.corr(), cmap=\"coolwarm\", annot=True, linewidths=0.5, fmt= '.2f',ax=ax)\n",
    "plt.show()"
   ]
  },
  {
   "cell_type": "code",
   "execution_count": 15,
   "id": "a4f58756-ea15-4bd5-a849-b142e8fb4613",
   "metadata": {
    "ExecuteTime": {
     "end_time": "2023-11-30T11:18:13.360850+00:00",
     "start_time": "2023-11-30T11:18:13.188034+00:00"
    },
    "datalink": {
     "4f309b04-c5d3-43f2-9939-106c273a7577": {
      "applied_filters": [],
      "dataframe_info": {
       "default_index_used": false,
       "orig_num_cols": 1,
       "orig_num_rows": 18,
       "orig_size_bytes": 288,
       "truncated_num_cols": 1,
       "truncated_num_rows": 18,
       "truncated_size_bytes": 288,
       "truncated_string_columns": []
      },
      "display_id": "4f309b04-c5d3-43f2-9939-106c273a7577",
      "dx_settings": {
       "ALLOW_NOTEABLE_ATTRS": true,
       "COLUMN_SAMPLING_METHOD": "outer",
       "DB_LOCATION": ":memory:",
       "DEV_MODE": false,
       "DISPLAY_MAX_COLUMNS": 100,
       "DISPLAY_MAX_ROWS": 50000,
       "DISPLAY_MODE": "simple",
       "ENABLE_ASSIGNMENT": true,
       "ENABLE_DATALINK": true,
       "FLATTEN_COLUMN_VALUES": true,
       "FLATTEN_INDEX_VALUES": false,
       "GENERATE_DEX_METADATA": false,
       "HTML_TABLE_SCHEMA": false,
       "LOG_LEVEL": 30,
       "MAX_RENDER_SIZE_BYTES": 104857600,
       "MAX_STRING_LENGTH": 250,
       "NUM_PAST_SAMPLES_TRACKED": 3,
       "RANDOM_STATE": 12648430,
       "RESET_INDEX_VALUES": false,
       "ROW_SAMPLING_METHOD": "random",
       "SAMPLING_FACTOR": 0.1,
       "SAMPLING_METHOD": "random",
       "STRINGIFY_COLUMN_VALUES": true,
       "STRINGIFY_INDEX_VALUES": false
      },
      "sample_history": [],
      "sampling_time": "2023-11-26T17:24:20.161722",
      "user_variable_name": null,
      "variable_name": "unk_dataframe_64672f1d0ae34e13a828f31d7a7a1a07"
     },
     "87a4572f-baf4-46d4-b1a1-aa98de5a9d48": {
      "applied_filters": [],
      "dataframe_info": {
       "default_index_used": false,
       "orig_num_cols": 1,
       "orig_num_rows": 18,
       "orig_size_bytes": 288,
       "truncated_num_cols": 1,
       "truncated_num_rows": 18,
       "truncated_size_bytes": 288,
       "truncated_string_columns": []
      },
      "display_id": "87a4572f-baf4-46d4-b1a1-aa98de5a9d48",
      "dx_settings": {
       "ALLOW_NOTEABLE_ATTRS": true,
       "COLUMN_SAMPLING_METHOD": "outer",
       "DB_LOCATION": ":memory:",
       "DEV_MODE": false,
       "DISPLAY_MAX_COLUMNS": 100,
       "DISPLAY_MAX_ROWS": 50000,
       "DISPLAY_MODE": "simple",
       "ENABLE_ASSIGNMENT": true,
       "ENABLE_DATALINK": true,
       "FLATTEN_COLUMN_VALUES": true,
       "FLATTEN_INDEX_VALUES": false,
       "GENERATE_DEX_METADATA": false,
       "HTML_TABLE_SCHEMA": false,
       "LOG_LEVEL": 30,
       "MAX_RENDER_SIZE_BYTES": 104857600,
       "MAX_STRING_LENGTH": 250,
       "NUM_PAST_SAMPLES_TRACKED": 3,
       "RANDOM_STATE": 12648430,
       "RESET_INDEX_VALUES": false,
       "ROW_SAMPLING_METHOD": "random",
       "SAMPLING_FACTOR": 0.1,
       "SAMPLING_METHOD": "random",
       "STRINGIFY_COLUMN_VALUES": true,
       "STRINGIFY_INDEX_VALUES": false
      },
      "sample_history": [],
      "sampling_time": "2023-11-26T17:19:05.372345",
      "user_variable_name": null,
      "variable_name": "unk_dataframe_ab545e76ddfa4649b01971566ea57e14"
     }
    },
    "jupyter": {
     "outputs_hidden": false,
     "source_hidden": false
    },
    "noteable": {
     "cell_type": "code"
    }
   },
   "outputs": [
    {
     "name": "stdout",
     "output_type": "stream",
     "text": [
      "Correlación de Pearson:\n",
      "\n",
      "u          -0.226930\n",
      "g          -0.066894\n",
      "alpha       0.004549\n",
      "delta       0.056650\n",
      "r           0.150696\n",
      "i           0.284400\n",
      "z           0.340914\n",
      "redshift    0.536829\n",
      "class       1.000000\n",
      "Name: class, dtype: float64\n"
     ]
    }
   ],
   "source": [
    "print('Correlación de Pearson:')\n",
    "print('')\n",
    "corr = df_filter1.corr()\n",
    "print(corr[\"class\"].sort_values())\n"
   ]
  },
  {
   "cell_type": "markdown",
   "id": "75b6c8f1-55bb-4363-a4f1-f829f71e1983",
   "metadata": {
    "noteable": {
     "cell_type": "markdown"
    }
   },
   "source": [
    "## Ampliación del Análisis de Correlación\n",
    "\n",
    "En esta sección, ampliaremos el análisis de correlación para incluir no solo la correlación lineal (coeficiente de Pearson), sino también otros tipos de correlaciones que pueden capturar relaciones no lineales. Esto incluirá el coeficiente de correlación de Spearman y Kendall."
   ]
  },
  {
   "cell_type": "code",
   "execution_count": 16,
   "id": "4fbb6746-4315-4600-9573-d7b56cd4f1ae",
   "metadata": {
    "ExecuteTime": {
     "end_time": "2023-11-30T11:18:16.475362+00:00",
     "start_time": "2023-11-30T11:18:13.366004+00:00"
    },
    "noteable": {
     "cell_type": "code"
    },
    "scrolled": false
   },
   "outputs": [
    {
     "data": {
      "image/png": "[encoded data removed]",
      "text/plain": [
       "<Figure size 1440x1440 with 4 Axes>"
      ]
     },
     "metadata": {},
     "output_type": "display_data"
    },
    {
     "name": "stdout",
     "output_type": "stream",
     "text": [
      "Correlación de Spearman:\n",
      "\n",
      "u          -0.264588\n",
      "g          -0.160547\n",
      "alpha      -0.000381\n",
      "delta       0.054690\n",
      "r           0.109301\n",
      "redshift    0.122873\n",
      "i           0.267532\n",
      "z           0.329356\n",
      "class       1.000000\n",
      "Name: class, dtype: float64\n",
      "\n",
      "Correlación de Kendall:\n",
      "\n",
      "u          -0.199659\n",
      "g          -0.114941\n",
      "alpha      -0.000465\n",
      "redshift    0.038241\n",
      "delta       0.042552\n",
      "r           0.086103\n",
      "i           0.204739\n",
      "z           0.251733\n",
      "class       1.000000\n",
      "Name: class, dtype: float64\n"
     ]
    }
   ],
   "source": [
    "# Calculando correlaciones de Spearman y Kendall\n",
    "correlation_pearson = df_filter1.corr()\n",
    "correlation_spearman = df_filter1.corr(method='spearman')\n",
    "correlation_kendall = df_filter1.corr(method='kendall')\n",
    "\n",
    "# Visualización de las correlaciones\n",
    "import seaborn as sns\n",
    "import matplotlib.pyplot as plt\n",
    "\n",
    "plt.figure(figsize=(20, 20))\n",
    "\n",
    "\n",
    "plt.subplot(3, 1, 1)\n",
    "sns.heatmap(correlation_spearman, annot=True, cmap='coolwarm')\n",
    "plt.title('Correlación de Spearman')\n",
    "\n",
    "plt.subplot(3, 1, 2)\n",
    "sns.heatmap(correlation_kendall, annot=True, cmap='coolwarm')\n",
    "plt.title('Correlación de Kendall')\n",
    "plt.tight_layout()\n",
    "plt.show()\n",
    "\n",
    "print('Correlación de Spearman:')\n",
    "print('')\n",
    "corr = df_filter1.corr(method='spearman')\n",
    "print(corr[\"class\"].sort_values())\n",
    "print('')\n",
    "print('Correlación de Kendall:')\n",
    "print('')\n",
    "corr = df_filter1.corr(method='kendall')\n",
    "print(corr[\"class\"].sort_values())"
   ]
  },
  {
   "cell_type": "markdown",
   "id": "8fc8d1fd-4fdc-437d-9838-dc0873e6aada",
   "metadata": {
    "noteable": {
     "cell_type": "markdown"
    }
   },
   "source": [
    "## Conclusiones del Análisis de Correlación\n",
    "\n",
    "- Correlaciones Negativas con `u` y `g`: Los valores negativos en las correlaciones de `u` y `g` con la clase indican que a medida que aumentan estas magnitudes en el espectro ultravioleta y verde, respectivamente, hay una tendencia a cambiar la clasificación de la estrella. Esto sugiere que estas bandas espectrales tienen un papel inverso en la determinación de la clase de estrella.\n",
    "\n",
    "- Correlaciones Positivas con `r`, `i`, `z`: Esto implica que las estrellas con mayor intensidad en estas bandas espectrales tienden a pertenecer a categorías específicas, diferenciándose así de otras clases.\n",
    "\n",
    "- Redshift: La variable `redshift` muestra una correlación positiva significativa, especialmente en la correlación de Pearson, lo que indica que esta medida es importante para clasificar las estrellas. Un mayor desplazamiento hacia el rojo podría estar asociado con características específicas de las estrellas que afectan su clasificación.\n",
    "\n",
    "- Baja Relevancia de Coordenadas Astronómicas: Las coordenadas astronómicas `alpha` y `delta` muestran correlaciones muy bajas con la clase, lo que indica que la posición de las estrellas en el cielo no es un factor determinante para su clasificación en este conjunto de datos. Las descartamos."
   ]
  },
  {
   "cell_type": "code",
   "execution_count": 17,
   "id": "3d16a73f-3f7e-429d-8759-72d541078c0f",
   "metadata": {
    "ExecuteTime": {
     "end_time": "2023-11-30T11:18:16.636365+00:00",
     "start_time": "2023-11-30T11:18:16.481471+00:00"
    },
    "jupyter": {
     "outputs_hidden": false,
     "source_hidden": false
    },
    "noteable": {
     "cell_type": "python"
    }
   },
   "outputs": [],
   "source": [
    "df_filter1 = df_filter1.drop(['alpha', 'delta'], axis = 1)"
   ]
  },
  {
   "cell_type": "code",
   "execution_count": 18,
   "id": "3342a79f-2754-40ec-b5de-dd1003d21a88",
   "metadata": {
    "ExecuteTime": {
     "end_time": "2023-11-30T11:18:16.818759+00:00",
     "start_time": "2023-11-30T11:18:16.660108+00:00"
    },
    "collapsed": true,
    "jupyter": {
     "outputs_hidden": false,
     "source_hidden": false
    },
    "noteable": {
     "cell_type": "code"
    }
   },
   "outputs": [
    {
     "name": "stdout",
     "output_type": "stream",
     "text": [
      "<class 'pandas.core.frame.DataFrame'>\n",
      "Int64Index: 99999 entries, 0 to 99999\n",
      "Data columns (total 7 columns):\n",
      " #   Column    Non-Null Count  Dtype  \n",
      "---  ------    --------------  -----  \n",
      " 0   u         99999 non-null  float64\n",
      " 1   g         99999 non-null  float64\n",
      " 2   r         99999 non-null  float64\n",
      " 3   i         99999 non-null  float64\n",
      " 4   z         99999 non-null  float64\n",
      " 5   class     99999 non-null  int64  \n",
      " 6   redshift  99999 non-null  float64\n",
      "dtypes: float64(6), int64(1)\n",
      "memory usage: 6.1 MB\n"
     ]
    }
   ],
   "source": [
    "df_filter1.info()"
   ]
  },
  {
   "cell_type": "markdown",
   "id": "5d15c225-7e56-4665-9daf-ae43aa059c3a",
   "metadata": {
    "noteable": {
     "cell_type": "markdown"
    }
   },
   "source": [
    "## Modelado de Datos\n",
    "\n",
    "La elección del método de **regresión logística multinomial** para este proyecto de clasificación estelar se justifica por las siguientes razones:\n",
    "\n",
    "1. **Naturaleza de la Variable Objetivo**: La variable objetivo, `class`, es categórica y nominal, con más de dos categorías. La regresión logística multinomial es específicamente diseñada para tratar con variables dependientes nominales multiclase, lo que la hace adecuada para este tipo de datos.\n",
    "\n",
    "2. **Modelado de Probabilidades**: A diferencia de otros métodos de clasificación, la regresión logística multinomial no solo clasifica las observaciones en distintas categorías, sino que también proporciona probabilidades para cada categoría. Esto es útil para entender no solo la clasificación más probable, sino también qué tan seguros podemos estar de esa clasificación.\n",
    "\n",
    "3. **Interpretabilidad**: Los modelos de regresión logística ofrecen una alta interpretabilidad. Puedes entender el efecto de cada variable independiente en la probabilidad de que una observación pertenezca a una categoría específica. Esto es valioso en el ámbito científico y de investigación, donde no solo se busca predecir sino también entender las relaciones subyacentes.\n",
    "\n",
    "4. **Flexibilidad con Variables Independientes**: Este método puede manejar tanto variables independientes continuas (como las magnitudes en diferentes bandas del espectro y el redshift) como categóricas. Además, no se requiere que las relaciones entre las variables independientes y la dependiente sean lineales, lo que proporciona una flexibilidad adicional.\n",
    "\n",
    "5. **Buen Desempeño con Tamaños de Muestra Grandes**: La regresión logística tiende a funcionar bien en situaciones con tamaños de muestra grandes, que es a menudo el caso en los estudios astronómicos.\n",
    "\n",
    "6. **Prevención del Sobreajuste**: A través de técnicas como la regularización, la regresión logística multinomial puede ser ajustada para prevenir el sobreajuste, lo que es crucial para garantizar que el modelo generalice bien a nuevos datos.\n",
    "\n",
    "En resumen, la regresión logística multinomial es una opción sólida y justificada para la clasificación estelar en este proyecto, dada la naturaleza de la variable objetivo, la necesidad de interpretabilidad y la naturaleza de las variables independientes.\n"
   ]
  },
  {
   "cell_type": "markdown",
   "id": "f91ae6d1-c0d3-4b7f-9470-6432714c8cd2",
   "metadata": {
    "noteable": {
     "cell_type": "markdown"
    }
   },
   "source": [
    "## División del Conjunto de Datos\n",
    "Vamos a normalizar las características usando `StandardScaler` para mejorar el rendimiento de los algoritmos de aprendizaje automático. Después dividimos el conjunto de datos en subconjuntos de entrenamiento y prueba, asignando el 30% de los datos al conjunto de prueba y el 70% al conjunto de entrenamiento."
   ]
  },
  {
   "cell_type": "code",
   "execution_count": 19,
   "id": "5b29c25c-8fe0-4c09-81ce-b47c52aa5786",
   "metadata": {
    "ExecuteTime": {
     "end_time": "2023-11-30T11:18:16.994954+00:00",
     "start_time": "2023-11-30T11:18:16.839972+00:00"
    },
    "jupyter": {
     "outputs_hidden": false,
     "source_hidden": false
    },
    "noteable": {
     "cell_type": "code"
    }
   },
   "outputs": [],
   "source": [
    "x = df_filter1.drop(['class'], axis = 1)\n",
    "y = df_filter1['class']"
   ]
  },
  {
   "cell_type": "code",
   "execution_count": 20,
   "id": "5795f77d-76f3-4b92-b88a-1587c676b562",
   "metadata": {
    "ExecuteTime": {
     "end_time": "2023-11-30T11:18:17.240921+00:00",
     "start_time": "2023-11-30T11:18:17.000264+00:00"
    },
    "datalink": {
     "6afc23a3-eab7-4f0b-bac8-cfe0bd784260": {
      "applied_filters": [],
      "dataframe_info": {
       "default_index_used": false,
       "orig_num_cols": 1,
       "orig_num_rows": 8,
       "orig_size_bytes": 128,
       "truncated_num_cols": 1,
       "truncated_num_rows": 8,
       "truncated_size_bytes": 128,
       "truncated_string_columns": []
      },
      "display_id": "6afc23a3-eab7-4f0b-bac8-cfe0bd784260",
      "dx_settings": {
       "ALLOW_NOTEABLE_ATTRS": true,
       "COLUMN_SAMPLING_METHOD": "outer",
       "DB_LOCATION": ":memory:",
       "DEV_MODE": false,
       "DISPLAY_MAX_COLUMNS": 100,
       "DISPLAY_MAX_ROWS": 50000,
       "DISPLAY_MODE": "simple",
       "ENABLE_ASSIGNMENT": true,
       "ENABLE_DATALINK": true,
       "FLATTEN_COLUMN_VALUES": true,
       "FLATTEN_INDEX_VALUES": false,
       "GENERATE_DEX_METADATA": false,
       "HTML_TABLE_SCHEMA": false,
       "LOG_LEVEL": 30,
       "MAX_RENDER_SIZE_BYTES": 104857600,
       "MAX_STRING_LENGTH": 250,
       "NUM_PAST_SAMPLES_TRACKED": 3,
       "RANDOM_STATE": 12648430,
       "RESET_INDEX_VALUES": false,
       "ROW_SAMPLING_METHOD": "random",
       "SAMPLING_FACTOR": 0.1,
       "SAMPLING_METHOD": "random",
       "STRINGIFY_COLUMN_VALUES": true,
       "STRINGIFY_INDEX_VALUES": false
      },
      "sample_history": [],
      "sampling_time": "2023-11-28T16:49:53.457292",
      "user_variable_name": null,
      "variable_name": "unk_dataframe_35d874083cf04c8a8d726487c0d46c4b"
     },
     "99a79a38-580f-4af6-b18d-f427491fa1c1": {
      "applied_filters": [],
      "dataframe_info": {
       "default_index_used": true,
       "orig_num_cols": 1,
       "orig_num_rows": 99999,
       "orig_size_bytes": 1599984,
       "truncated_num_cols": 1,
       "truncated_num_rows": 50000,
       "truncated_size_bytes": 800000,
       "truncated_string_columns": []
      },
      "display_id": "99a79a38-580f-4af6-b18d-f427491fa1c1",
      "dx_settings": {
       "ALLOW_NOTEABLE_ATTRS": true,
       "COLUMN_SAMPLING_METHOD": "outer",
       "DB_LOCATION": ":memory:",
       "DEV_MODE": false,
       "DISPLAY_MAX_COLUMNS": 100,
       "DISPLAY_MAX_ROWS": 50000,
       "DISPLAY_MODE": "simple",
       "ENABLE_ASSIGNMENT": true,
       "ENABLE_DATALINK": true,
       "FLATTEN_COLUMN_VALUES": true,
       "FLATTEN_INDEX_VALUES": false,
       "GENERATE_DEX_METADATA": false,
       "HTML_TABLE_SCHEMA": false,
       "LOG_LEVEL": 30,
       "MAX_RENDER_SIZE_BYTES": 104857600,
       "MAX_STRING_LENGTH": 250,
       "NUM_PAST_SAMPLES_TRACKED": 3,
       "RANDOM_STATE": 12648430,
       "RESET_INDEX_VALUES": false,
       "ROW_SAMPLING_METHOD": "random",
       "SAMPLING_FACTOR": 0.1,
       "SAMPLING_METHOD": "random",
       "STRINGIFY_COLUMN_VALUES": true,
       "STRINGIFY_INDEX_VALUES": false
      },
      "sample_history": [],
      "sampling_time": "2023-11-28T16:46:26.074266",
      "user_variable_name": "y",
      "variable_name": "y"
     }
    },
    "dx": {
     "dashboard": {
      "multiViews": []
     },
     "fieldMetadata": {},
     "updated": 1701189996867,
     "views": [
      {
       "annotationRules": [],
       "chart": {},
       "chartMode": "grid",
       "confoRules": [],
       "decoration": {
        "footer": "",
        "subtitle": "",
        "title": "Table"
       },
       "facets": [],
       "filterSettings": {
        "SHOW_FILTER_PANEL": true,
        "filters": []
       },
       "id": "first-view",
       "isDefault": true,
       "type": "public",
       "userID": ""
      },
      {
       "annotationRules": [],
       "chart": {
        "tableSparklines": true
       },
       "chartMode": "grid",
       "confoRules": [],
       "decoration": {
        "footer": "",
        "subtitle": "",
        "title": "Table"
       },
       "facets": [],
       "filterSettings": {
        "SHOW_FILTER_PANEL": true,
        "filters": []
       },
       "id": "first-view",
       "isDefault": true,
       "isTransitory": true,
       "type": "public",
       "userID": ""
      }
     ]
    },
    "jupyter": {
     "outputs_hidden": false,
     "source_hidden": false
    },
    "noteable": {
     "cell_type": "python"
    }
   },
   "outputs": [],
   "source": [
    "from sklearn.model_selection import train_test_split\n",
    "x_train, x_test, y_train, y_test = train_test_split(x, y, test_size=0.3)\n",
    "\n",
    "from sklearn.preprocessing import StandardScaler\n",
    "scaler=StandardScaler()\n",
    "x_train_scaled=scaler.fit_transform(x_train)\n",
    "x_test_scaled=scaler.transform(x_test)\n"
   ]
  },
  {
   "cell_type": "markdown",
   "id": "ec459017-3f9d-40a4-ac16-3eb15552ff66",
   "metadata": {
    "noteable": {
     "cell_type": "markdown"
    }
   },
   "source": [
    "> *Nota: Cómo usar `StandardScaler` correctamente:*\n",
    "> 1. *Es importante ajustar el escalador (fit) solo en el conjunto de entrenamiento y no en el conjunto de prueba completo. Esto es para evitar el \"data leakage\", es decir, la fuga de información del conjunto de prueba al modelo durante el entrenamiento.*\n",
    "> 2. *Después de ajustar el escalador en el conjunto de entrenamiento, lo usas para transformar tanto el conjunto de entrenamiento como el de prueba.* "
   ]
  },
  {
   "cell_type": "markdown",
   "id": "feea782f-e37f-4de3-b4ab-585e07cdfd26",
   "metadata": {
    "noteable": {
     "cell_type": "markdown"
    }
   },
   "source": [
    "## Entrenamiento y evaluación del modelo\n",
    " Calculamos el rendimiento del modelo. Vemos que es de un 95%."
   ]
  },
  {
   "cell_type": "code",
   "execution_count": null,
   "id": "f99952d7-4645-4e5a-9c05-929c1f6ece01",
   "metadata": {
    "ExecuteTime": {
     "end_time": "2023-11-30T11:18:36.620713+00:00",
     "start_time": "2023-11-30T11:18:17.248116+00:00"
    },
    "jupyter": {
     "outputs_hidden": false,
     "source_hidden": false
    },
    "noteable": {
     "cell_type": "python"
    }
   },
   "outputs": [],
   "source": [
    "from sklearn.linear_model import LogisticRegression\n",
    "from sklearn.metrics import accuracy_score\n",
    "\n",
    "# Crear y entrenar el modelo de regresión logística\n",
    "logistic_model = LogisticRegression(max_iter=1000) # Con menos iteraciones tenemos problemas de convergencia.\n",
    "logistic_model.fit(x_train_scaled, y_train)\n",
    "\n",
    "# Realizar predicciones\n",
    "y_pred = logistic_model.predict(x_test_scaled)\n",
    "\n",
    "# Evaluar el modelo\n",
    "accuracy = accuracy_score(y_test, y_pred)\n",
    "print(f\"Accuracy: {accuracy}\")\n"
   ]
  },
  {
   "cell_type": "code",
   "execution_count": 32,
   "id": "695fe79b-9bb4-4cf0-8ff4-465f1242cbe2",
   "metadata": {
    "ExecuteTime": {
     "end_time": "2023-11-30T11:18:36.982772+00:00",
     "start_time": "2023-11-30T11:18:36.626797+00:00"
    },
    "jupyter": {
     "outputs_hidden": false,
     "source_hidden": false
    },
    "noteable": {
     "cell_type": "code"
    }
   },
   "outputs": [
    {
     "name": "stdout",
     "output_type": "stream",
     "text": [
      "Train Accuracy: 0.9550422148887842\n",
      "Test Accuracy: 0.9567\n"
     ]
    }
   ],
   "source": [
    "from sklearn.metrics import accuracy_score\n",
    "\n",
    "# Evaluar en el conjunto de entrenamiento\n",
    "y_train_pred = logistic_model.predict(x_train_scaled)\n",
    "train_accuracy = accuracy_score(y_train, y_train_pred)\n",
    "\n",
    "# Evaluar en el conjunto de prueba\n",
    "y_test_pred = logistic_model.predict(x_test_scaled)\n",
    "test_accuracy = accuracy_score(y_test, y_test_pred)\n",
    "\n",
    "print(f\"Train Accuracy: {train_accuracy}\")\n",
    "print(f\"Test Accuracy: {test_accuracy}\")\n"
   ]
  },
  {
   "cell_type": "markdown",
   "id": "42e3be74-a4e0-4562-972b-2510b20025a9",
   "metadata": {
    "noteable": {
     "cell_type": "markdown"
    }
   },
   "source": [
    "Parece que el modelo está funcionando bien y no muestra signos claros de sobreajuste o ajuste insuficiente:\n",
    "\n",
    "1. **Sin Sobreajuste Significativo**:\n",
    "El modelo tiene un rendimiento similar en los conjuntos de entrenamiento y prueba. Esto es una buena señal, ya que sugiere que el modelo generaliza bien a nuevos datos, es decir, no ha aprendido el \"ruido\" específico del conjunto de entrenamiento.\n",
    "\n",
    "2. **Sin Ajuste Insuficiente**:\n",
    "Las altas puntuaciones de precisión en ambos conjuntos indican que el modelo es lo suficientemente complejo como para capturar las tendencias subyacentes en los datos."
   ]
  },
  {
   "cell_type": "code",
   "execution_count": 33,
   "id": "f1a7d9a0-325f-4564-bdc0-cbc1bf50c8da",
   "metadata": {
    "ExecuteTime": {
     "end_time": "2023-11-30T11:22:16.162965+00:00",
     "start_time": "2023-11-30T11:18:37.025127+00:00"
    },
    "jupyter": {
     "outputs_hidden": false,
     "source_hidden": false
    },
    "noteable": {
     "cell_type": "python"
    },
    "scrolled": true
   },
   "outputs": [
    {
     "data": {
      "image/png": "[encoded data removed]",
      "text/plain": [
       "<Figure size 432x288 with 1 Axes>"
      ]
     },
     "metadata": {},
     "output_type": "display_data"
    }
   ],
   "source": [
    "import numpy as np\n",
    "import matplotlib.pyplot as plt\n",
    "from sklearn.model_selection import learning_curve\n",
    "\n",
    "train_sizes, train_scores, test_scores = learning_curve(\n",
    "    logistic_model, x_train_scaled, y_train, cv=5, n_jobs=-1, \n",
    "    train_sizes=np.linspace(0.1, 1.0, 10))\n",
    "\n",
    "# Calcular media y desviación estándar del score de entrenamiento y de prueba\n",
    "train_mean = np.mean(train_scores, axis=1)\n",
    "train_std = np.std(train_scores, axis=1)\n",
    "test_mean = np.mean(test_scores, axis=1)\n",
    "test_std = np.std(test_scores, axis=1)\n",
    "\n",
    "# Dibujar curvas\n",
    "plt.fill_between(train_sizes, train_mean - train_std, train_mean + train_std, alpha=0.1, color=\"r\")\n",
    "plt.fill_between(train_sizes, test_mean - test_std, test_mean + test_std, alpha=0.1, color=\"g\")\n",
    "plt.plot(train_sizes, train_mean, 'o-', color=\"r\", label=\"Training score\")\n",
    "plt.plot(train_sizes, test_mean, 'o-', color=\"g\", label=\"Cross-validation score\")\n",
    "\n",
    "plt.title(\"Curvas de Aprendizaje\")\n",
    "plt.xlabel(\"Tamaño del Conjunto de Entrenamiento\")\n",
    "plt.ylabel(\"Precisión\")\n",
    "plt.legend(loc=\"best\")\n",
    "plt.show()"
   ]
  },
  {
   "cell_type": "markdown",
   "id": "21b81c2e-e5da-47c5-8bd4-1c0d998e7bd2",
   "metadata": {
    "noteable": {
     "cell_type": "markdown"
    }
   },
   "source": [
    "### Análisis de la Curva de Aprendizaje\n",
    "\n",
    "- **Convergencia y Estabilidad**: La convergencia de las curvas de entrenamiento y validación cruzada, junto con la pequeña y consistente brecha entre ellas, sugiere un buen equilibrio entre sesgo y varianza. El modelo muestra estabilidad y rendimiento consistente con una precisión cercana al 96%, indicando que no hay sobreajuste significativo.\n",
    "\n",
    "- **Rendimiento con Más Datos**: La precisión mejora con los primeros incrementos en el tamaño del conjunto de entrenamiento, pero se estabiliza rápidamente, lo que implica un potencial limitado de mejora con la adición de más datos. Esto sugiere que el modelo ha aprendido las tendencias principales y que aumentar el conjunto de datos probablemente no llevará a ganancias significativas en precisión.\n",
    "\n",
    "\n"
   ]
  },
  {
   "cell_type": "markdown",
   "id": "b15aaade-73fc-46d1-ade0-87d351386aa6",
   "metadata": {
    "noteable": {
     "cell_type": "markdown"
    }
   },
   "source": [
    "## Ajuste de hiperparámetros\n",
    "El ajuste de hiperparámetros es un proceso crucial en el aprendizaje automático para mejorar el rendimiento de un modelo. En Scikit-learn, esto se puede hacer de manera eficiente utilizando herramientas como GridSearchCV\n",
    "\n",
    "### Hiperparámetros a Considerar:\n",
    "\n",
    "- C: Este es el parámetro de regularización inversa. Valores más bajos indican más regularización.\n",
    "- solver: El algoritmo utilizado para la optimización.\n",
    "- penalty: El tipo de regularización (l1, l2, etc.).\n",
    "- max_iter: Número máximo de iteraciones tomadas para que los solucionadores converjan."
   ]
  },
  {
   "cell_type": "code",
   "execution_count": 39,
   "id": "a90507ce-92a5-42e8-a755-8353e5f66d24",
   "metadata": {
    "ExecuteTime": null,
    "jupyter": {
     "outputs_hidden": false,
     "source_hidden": false
    },
    "noteable": {
     "cell_type": "python"
    },
    "scrolled": true
   },
   "outputs": [
    {
     "name": "stdout",
     "output_type": "stream",
     "text": [
      "Fitting 5 folds for each of 10 candidates, totalling 50 fits\n"
     ]
    },
    {
     "name": "stderr",
     "output_type": "stream",
     "text": [
      "/Users/alvarogonzalezgonzalez/opt/anaconda3/lib/python3.9/site-packages/sklearn/linear_model/_sag.py:352: ConvergenceWarning: The max_iter was reached which means the coef_ did not converge\n",
      "  warnings.warn(\n",
      "/Users/alvarogonzalezgonzalez/opt/anaconda3/lib/python3.9/site-packages/sklearn/linear_model/_sag.py:352: ConvergenceWarning: The max_iter was reached which means the coef_ did not converge\n",
      "  warnings.warn(\n",
      "/Users/alvarogonzalezgonzalez/opt/anaconda3/lib/python3.9/site-packages/sklearn/linear_model/_logistic.py:1483: UserWarning: Setting penalty='none' will ignore the C and l1_ratio parameters\n",
      "  warnings.warn(\n",
      "/Users/alvarogonzalezgonzalez/opt/anaconda3/lib/python3.9/site-packages/sklearn/linear_model/_sag.py:352: ConvergenceWarning: The max_iter was reached which means the coef_ did not converge\n",
      "  warnings.warn(\n",
      "/Users/alvarogonzalezgonzalez/opt/anaconda3/lib/python3.9/site-packages/sklearn/linear_model/_logistic.py:1483: UserWarning: Setting penalty='none' will ignore the C and l1_ratio parameters\n",
      "  warnings.warn(\n",
      "/Users/alvarogonzalezgonzalez/opt/anaconda3/lib/python3.9/site-packages/sklearn/linear_model/_sag.py:352: ConvergenceWarning: The max_iter was reached which means the coef_ did not converge\n",
      "  warnings.warn(\n",
      "/Users/alvarogonzalezgonzalez/opt/anaconda3/lib/python3.9/site-packages/sklearn/linear_model/_logistic.py:1483: UserWarning: Setting penalty='none' will ignore the C and l1_ratio parameters\n",
      "  warnings.warn(\n",
      "/Users/alvarogonzalezgonzalez/opt/anaconda3/lib/python3.9/site-packages/sklearn/linear_model/_sag.py:352: ConvergenceWarning: The max_iter was reached which means the coef_ did not converge\n",
      "  warnings.warn(\n",
      "/Users/alvarogonzalezgonzalez/opt/anaconda3/lib/python3.9/site-packages/sklearn/linear_model/_logistic.py:1483: UserWarning: Setting penalty='none' will ignore the C and l1_ratio parameters\n",
      "  warnings.warn(\n",
      "/Users/alvarogonzalezgonzalez/opt/anaconda3/lib/python3.9/site-packages/sklearn/linear_model/_sag.py:352: ConvergenceWarning: The max_iter was reached which means the coef_ did not converge\n",
      "  warnings.warn(\n",
      "/Users/alvarogonzalezgonzalez/opt/anaconda3/lib/python3.9/site-packages/sklearn/linear_model/_logistic.py:1483: UserWarning: Setting penalty='none' will ignore the C and l1_ratio parameters\n",
      "  warnings.warn(\n",
      "/Users/alvarogonzalezgonzalez/opt/anaconda3/lib/python3.9/site-packages/sklearn/linear_model/_sag.py:352: ConvergenceWarning: The max_iter was reached which means the coef_ did not converge\n",
      "  warnings.warn(\n",
      "/Users/alvarogonzalezgonzalez/opt/anaconda3/lib/python3.9/site-packages/sklearn/linear_model/_sag.py:352: ConvergenceWarning: The max_iter was reached which means the coef_ did not converge\n",
      "  warnings.warn(\n",
      "/Users/alvarogonzalezgonzalez/opt/anaconda3/lib/python3.9/site-packages/sklearn/linear_model/_logistic.py:1483: UserWarning: Setting penalty='none' will ignore the C and l1_ratio parameters\n",
      "  warnings.warn(\n",
      "/Users/alvarogonzalezgonzalez/opt/anaconda3/lib/python3.9/site-packages/sklearn/linear_model/_logistic.py:1483: UserWarning: Setting penalty='none' will ignore the C and l1_ratio parameters\n",
      "  warnings.warn(\n",
      "/Users/alvarogonzalezgonzalez/opt/anaconda3/lib/python3.9/site-packages/sklearn/linear_model/_sag.py:352: ConvergenceWarning: The max_iter was reached which means the coef_ did not converge\n",
      "  warnings.warn(\n",
      "/Users/alvarogonzalezgonzalez/opt/anaconda3/lib/python3.9/site-packages/sklearn/linear_model/_logistic.py:1483: UserWarning: Setting penalty='none' will ignore the C and l1_ratio parameters\n",
      "  warnings.warn(\n",
      "/Users/alvarogonzalezgonzalez/opt/anaconda3/lib/python3.9/site-packages/sklearn/linear_model/_sag.py:352: ConvergenceWarning: The max_iter was reached which means the coef_ did not converge\n",
      "  warnings.warn(\n",
      "/Users/alvarogonzalezgonzalez/opt/anaconda3/lib/python3.9/site-packages/sklearn/linear_model/_logistic.py:1483: UserWarning: Setting penalty='none' will ignore the C and l1_ratio parameters\n",
      "  warnings.warn(\n",
      "/Users/alvarogonzalezgonzalez/opt/anaconda3/lib/python3.9/site-packages/sklearn/linear_model/_sag.py:352: ConvergenceWarning: The max_iter was reached which means the coef_ did not converge\n",
      "  warnings.warn(\n",
      "/Users/alvarogonzalezgonzalez/opt/anaconda3/lib/python3.9/site-packages/sklearn/linear_model/_logistic.py:1483: UserWarning: Setting penalty='none' will ignore the C and l1_ratio parameters\n",
      "  warnings.warn(\n",
      "/Users/alvarogonzalezgonzalez/opt/anaconda3/lib/python3.9/site-packages/sklearn/linear_model/_sag.py:352: ConvergenceWarning: The max_iter was reached which means the coef_ did not converge\n",
      "  warnings.warn(\n",
      "/Users/alvarogonzalezgonzalez/opt/anaconda3/lib/python3.9/site-packages/sklearn/linear_model/_logistic.py:1483: UserWarning: Setting penalty='none' will ignore the C and l1_ratio parameters\n",
      "  warnings.warn(\n",
      "/Users/alvarogonzalezgonzalez/opt/anaconda3/lib/python3.9/site-packages/sklearn/linear_model/_logistic.py:1483: UserWarning: Setting penalty='none' will ignore the C and l1_ratio parameters\n",
      "  warnings.warn(\n",
      "/Users/alvarogonzalezgonzalez/opt/anaconda3/lib/python3.9/site-packages/sklearn/linear_model/_logistic.py:1483: UserWarning: Setting penalty='none' will ignore the C and l1_ratio parameters\n",
      "  warnings.warn(\n",
      "/Users/alvarogonzalezgonzalez/opt/anaconda3/lib/python3.9/site-packages/sklearn/linear_model/_logistic.py:1483: UserWarning: Setting penalty='none' will ignore the C and l1_ratio parameters\n",
      "  warnings.warn(\n",
      "/Users/alvarogonzalezgonzalez/opt/anaconda3/lib/python3.9/site-packages/sklearn/linear_model/_logistic.py:1483: UserWarning: Setting penalty='none' will ignore the C and l1_ratio parameters\n",
      "  warnings.warn(\n",
      "/Users/alvarogonzalezgonzalez/opt/anaconda3/lib/python3.9/site-packages/sklearn/linear_model/_logistic.py:1483: UserWarning: Setting penalty='none' will ignore the C and l1_ratio parameters\n",
      "  warnings.warn(\n",
      "/Users/alvarogonzalezgonzalez/opt/anaconda3/lib/python3.9/site-packages/sklearn/linear_model/_logistic.py:1483: UserWarning: Setting penalty='none' will ignore the C and l1_ratio parameters\n",
      "  warnings.warn(\n",
      "/Users/alvarogonzalezgonzalez/opt/anaconda3/lib/python3.9/site-packages/sklearn/linear_model/_logistic.py:1483: UserWarning: Setting penalty='none' will ignore the C and l1_ratio parameters\n",
      "  warnings.warn(\n",
      "/Users/alvarogonzalezgonzalez/opt/anaconda3/lib/python3.9/site-packages/sklearn/linear_model/_logistic.py:1483: UserWarning: Setting penalty='none' will ignore the C and l1_ratio parameters\n",
      "  warnings.warn(\n",
      "/Users/alvarogonzalezgonzalez/opt/anaconda3/lib/python3.9/site-packages/sklearn/linear_model/_logistic.py:1483: UserWarning: Setting penalty='none' will ignore the C and l1_ratio parameters\n",
      "  warnings.warn(\n",
      "/Users/alvarogonzalezgonzalez/opt/anaconda3/lib/python3.9/site-packages/sklearn/linear_model/_logistic.py:1483: UserWarning: Setting penalty='none' will ignore the C and l1_ratio parameters\n",
      "  warnings.warn(\n",
      "/Users/alvarogonzalezgonzalez/opt/anaconda3/lib/python3.9/site-packages/sklearn/linear_model/_logistic.py:1483: UserWarning: Setting penalty='none' will ignore the C and l1_ratio parameters\n",
      "  warnings.warn(\n",
      "/Users/alvarogonzalezgonzalez/opt/anaconda3/lib/python3.9/site-packages/sklearn/linear_model/_logistic.py:1483: UserWarning: Setting penalty='none' will ignore the C and l1_ratio parameters\n",
      "  warnings.warn(\n",
      "/Users/alvarogonzalezgonzalez/opt/anaconda3/lib/python3.9/site-packages/sklearn/linear_model/_logistic.py:1483: UserWarning: Setting penalty='none' will ignore the C and l1_ratio parameters\n",
      "  warnings.warn(\n",
      "/Users/alvarogonzalezgonzalez/opt/anaconda3/lib/python3.9/site-packages/sklearn/linear_model/_logistic.py:1483: UserWarning: Setting penalty='none' will ignore the C and l1_ratio parameters\n",
      "  warnings.warn(\n",
      "/Users/alvarogonzalezgonzalez/opt/anaconda3/lib/python3.9/site-packages/sklearn/linear_model/_sag.py:352: ConvergenceWarning: The max_iter was reached which means the coef_ did not converge\n",
      "  warnings.warn(\n",
      "/Users/alvarogonzalezgonzalez/opt/anaconda3/lib/python3.9/site-packages/sklearn/linear_model/_sag.py:352: ConvergenceWarning: The max_iter was reached which means the coef_ did not converge\n",
      "  warnings.warn(\n",
      "/Users/alvarogonzalezgonzalez/opt/anaconda3/lib/python3.9/site-packages/sklearn/linear_model/_sag.py:352: ConvergenceWarning: The max_iter was reached which means the coef_ did not converge\n",
      "  warnings.warn(\n"
     ]
    },
    {
     "name": "stdout",
     "output_type": "stream",
     "text": [
      "Mejores hiperparámetros: {'solver': 'lbfgs', 'penalty': 'none', 'max_iter': 1000, 'C': 1}\n",
      "Mejor precisión de prueba: 0.9625\n"
     ]
    }
   ],
   "source": [
    "from sklearn.model_selection import RandomizedSearchCV\n",
    "from sklearn.linear_model import LogisticRegression\n",
    "from sklearn.metrics import accuracy_score\n",
    "\n",
    "# Definición del espacio de búsqueda\n",
    "param_distributions = {\n",
    "    'C': [0.01, 0.1, 1, 10, 100],\n",
    "    'solver': ['newton-cg', 'lbfgs', 'sag'],  # Estos solucionadores son compatibles con 'l2' y 'none'.\n",
    "    'penalty': ['l2', 'none'],  # Solo incluimos penalizaciones compatibles con los solucionadores seleccionados.\n",
    "    'max_iter': [1000, 2000]  # Valores más altos para asegurar la convergencia.\n",
    "}\n",
    "\n",
    "# Configuración de RandomizedSearchCV\n",
    "random_search = RandomizedSearchCV(\n",
    "    LogisticRegression(),\n",
    "    param_distributions=param_distributions,\n",
    "    n_iter=10,  # Puedes ajustar este número en función de cuánto tiempo quieras dedicar a la búsqueda.\n",
    "    cv=5,\n",
    "    scoring='accuracy',\n",
    "    n_jobs=-1,\n",
    "    verbose=1,\n",
    "    random_state=0\n",
    ")\n",
    "\n",
    "# Ejecución de RandomizedSearchCV\n",
    "random_search.fit(x_train_scaled, y_train)\n",
    "\n",
    "# Resultados de RandomizedSearchCV\n",
    "print(\"Mejores hiperparámetros:\", random_search.best_params_)\n",
    "best_model = random_search.best_estimator_\n",
    "\n",
    "# Evaluar el mejor modelo en el conjunto de prueba\n",
    "y_pred = best_model.predict(x_test_scaled)\n",
    "best_accuracy = accuracy_score(y_test, y_pred)\n",
    "print(f\"Mejor precisión de prueba: {best_accuracy}\")\n",
    "\n"
   ]
  },
  {
   "cell_type": "markdown",
   "id": "ae4226ea",
   "metadata": {},
   "source": [
    "## Importancia y Correlación de las Características\n",
    " \n",
    " - La **correlación** simplemente mide la relación lineal entre dos variables. En estadísticas, los coeficientes de correlación varían entre -1 y 1\n",
    "\n",
    " - La **importancia** de una característica en un modelo de aprendizaje automático se refiere a cuánto contribuye la característica a la capacidad predictiva del modelo. En un modelo de regresión logística, por ejemplo, se mide por el tamaño del coeficiente asociado a esa característica.\n",
    "\n",
    " - A diferencia de la **correlación**, que es una medida estadística general, la **importancia** de una característica está directamente relacionada con un modelo específico y cómo se utiliza esa característica dentro del modelo para hacer predicciones.\n",
    "\n",
    " - La **importancia** puede capturar la utilidad de una característica en presencia de otras características, incluyendo interacciones que la **correlación** por sí sola no puede detectar."
   ]
  },
  {
   "cell_type": "code",
   "execution_count": 41,
   "id": "7140ca33",
   "metadata": {},
   "outputs": [
    {
     "name": "stdout",
     "output_type": "stream",
     "text": [
      "Coeficientes del modelo: [[ 2.74192962e-01  9.63099851e-01  1.25297449e-01 -6.17847812e-01\n",
      "  -1.06198619e-01  1.92121341e+02]\n",
      " [ 6.25416310e-01  9.68011368e-02  4.81856206e-01 -8.24390978e-01\n",
      "  -2.33226544e-01 -3.88193452e+02]\n",
      " [-8.99609272e-01 -1.05990099e+00 -6.07153655e-01  1.44223879e+00\n",
      "   3.39425163e-01  1.96072110e+02]]\n",
      "Importancia de las características: [1.79921854e+00 2.11980197e+00 1.21430731e+00 2.88447758e+00\n",
      " 6.78850326e-01 7.76386903e+02]\n"
     ]
    }
   ],
   "source": [
    "# Obteniendo probabilidades para cada clase\n",
    "probabilidades = best_model.predict_proba(x_test_scaled)\n",
    "\n",
    "# Obteniendo los coeficientes del modelo\n",
    "coeficientes = best_model.coef_\n",
    "\n",
    "\n",
    "importancia_caracteristicas = np.sum(np.abs(coeficientes), axis=0)\n",
    "\n",
    "# Imprimir los coeficientes o la importancia de las características\n",
    "print(\"Coeficientes del modelo:\", coeficientes)\n",
    "print(\"Importancia de las características:\", importancia_caracteristicas)\n"
   ]
  },
  {
   "cell_type": "code",
   "execution_count": 42,
   "id": "4b55fae2",
   "metadata": {
    "scrolled": false
   },
   "outputs": [
    {
     "name": "stdout",
     "output_type": "stream",
     "text": [
      "  Caracteristica  Importancia\n",
      "5       redshift   776.386903\n",
      "3              i     2.884478\n",
      "1              g     2.119802\n",
      "0              u     1.799219\n",
      "2              r     1.214307\n",
      "4              z     0.678850\n"
     ]
    }
   ],
   "source": [
    "nombres_caracteristicas = x_train.columns\n",
    "\n",
    "# Ahora crea un DataFrame para visualizar la importancia de cada característica\n",
    "importancia_caracteristicas = np.sum(np.abs(coeficientes), axis=0)\n",
    "importancias_df = pd.DataFrame({\n",
    "    'Caracteristica': nombres_caracteristicas,\n",
    "    'Importancia': importancia_caracteristicas\n",
    "}).sort_values(by='Importancia', ascending=False)\n",
    "\n",
    "# Mostrar las características más importantes\n",
    "print(importancias_df)"
   ]
  },
  {
   "cell_type": "markdown",
   "id": "b8607bcc",
   "metadata": {},
   "source": [
    "La variable **redshift**, con una importancia de aproximadamente 829 es, con mucho, la más influyente en el modelo. Esto indica que **redshift** tiene el mayor efecto en la probabilidad de que una observación sea clasificada en una clase particular en comparación con las otras características. Dada su gran magnitud, esta característica es probablemente un factor decisivo en las predicciones del modelo."
   ]
  },
  {
   "cell_type": "code",
   "execution_count": 43,
   "id": "51d90794",
   "metadata": {},
   "outputs": [
    {
     "data": {
      "image/png": "[encoded data removed]",
      "text/plain": [
       "<Figure size 360x216 with 1 Axes>"
      ]
     },
     "metadata": {},
     "output_type": "display_data"
    },
    {
     "name": "stdout",
     "output_type": "stream",
     "text": [
      "----------\n"
     ]
    },
    {
     "data": {
      "image/png": "[encoded data removed]",
      "text/plain": [
       "<Figure size 360x216 with 1 Axes>"
      ]
     },
     "metadata": {},
     "output_type": "display_data"
    }
   ],
   "source": [
    "import matplotlib.pyplot as plt\n",
    "import seaborn as sns\n",
    "\n",
    "# Asumiendo que 'coeficientes' es un arreglo numpy con los coeficientes del modelo y 'nombres_caracteristicas' contiene los nombres de tus características\n",
    "\n",
    "# Coeficientes para la GALAXY vs QSO\n",
    "plt.figure(figsize=(5, 3))\n",
    "sns.barplot(x=nombres_caracteristicas, y=coeficientes[0])\n",
    "plt.xticks(rotation=45)\n",
    "plt.title(\"Coeficientes para la GALAXY vs QSO\")\n",
    "plt.show()\n",
    "\n",
    "print('----------')\n",
    "# Coeficientes para la STAR vs QSO\n",
    "plt.figure(figsize=(5, 3))\n",
    "sns.barplot(x=nombres_caracteristicas, y=coeficientes[1])\n",
    "plt.xticks(rotation=45)\n",
    "plt.title(\"Coeficientes para la STAR vs QSO\")\n",
    "plt.show()"
   ]
  },
  {
   "cell_type": "markdown",
   "id": "92026492",
   "metadata": {},
   "source": [
    "## Matriz de Confusión e Informe de Clasificación\n",
    "\n",
    "1. Matriz de confusión\n",
    "- Verdaderos Positivos (TP): Observaciones correctamente clasificadas como positivas.\n",
    "- Falsos Positivos (FP): Observaciones incorrectamente clasificadas como positivas.\n",
    "- Verdaderos Negativos (TN): Observaciones correctamente clasificadas como negativas.\n",
    "- Falsos Negativos (FN): Observaciones incorrectamente clasificadas como negativas.\n",
    "\n",
    "\n",
    "2. Informe de Clasificación:\n",
    "- Precisión: Proporción de identificaciones positivas que fueron correctas (TP / (TP + FP)).\n",
    "- Recall (Sensibilidad): Proporción de positivos reales que fueron identificados correctamente (TP / (TP + FN)).\n",
    "- F1-Score: Media armónica de precisión y recall. Es útil cuando se busca un equilibrio entre precisión y recall."
   ]
  },
  {
   "cell_type": "code",
   "execution_count": 45,
   "id": "ce56c306",
   "metadata": {},
   "outputs": [
    {
     "name": "stdout",
     "output_type": "stream",
     "text": [
      "Matriz de Confusión:\n",
      " [[17409   160   292]\n",
      " [    0  6448     0]\n",
      " [  672     1  5018]]\n",
      "Informe de Clasificación:\n",
      "               precision    recall  f1-score   support\n",
      "\n",
      "           0       0.96      0.97      0.97     17861\n",
      "           1       0.98      1.00      0.99      6448\n",
      "           2       0.95      0.88      0.91      5691\n",
      "\n",
      "    accuracy                           0.96     30000\n",
      "   macro avg       0.96      0.95      0.96     30000\n",
      "weighted avg       0.96      0.96      0.96     30000\n",
      "\n"
     ]
    }
   ],
   "source": [
    "from sklearn.metrics import confusion_matrix, classification_report\n",
    "\n",
    "# Crear y mostrar la matriz de confusión\n",
    "cm = confusion_matrix(y_test, y_pred)\n",
    "print(\"Matriz de Confusión:\\n\", cm)\n",
    "\n",
    "# Mostrar el informe de clasificación\n",
    "report = classification_report(y_test, y_pred)\n",
    "print(\"Informe de Clasificación:\\n\", report)"
   ]
  },
  {
   "cell_type": "markdown",
   "id": "a4f29abb",
   "metadata": {},
   "source": [
    "### Matriz de Confusión\n",
    "La matriz de confusión para tus tres clases (0, 1, 2) es la siguiente:\n",
    "\n",
    "\n",
    "\n",
    "- **Clase 0 (GALAXY)**: De 17861 observaciones reales, 17409 fueron clasificadas correctamente como GALAXY, 160 fueron clasificadas incorrectamente como STAR, y 292 como QSO.\n",
    "- **Clase 1 (STAR)**: De 6448 observaciones reales, todas las 6448 fueron clasificadas correctamente como STAR.\n",
    "- **Clase 2 (QSO)**: De 5691 observaciones reales, 5018 fueron clasificadas correctamente como QSO, 1 como STAR, y 672 fueron clasificadas incorrectamente como GALAXY.\n",
    "\n",
    "### Informe de Clasificación\n",
    "\n",
    "- **Clase 0 (GALAXY)**:\n",
    "  - **Precisión**: 96% (La mayoría de las predicciones de GALAXY son correctas).\n",
    "  - **Recall**: 97% (La mayoría de las GALAXY reales fueron identificadas correctamente).\n",
    "  - **F1-score**: 97% (Un buen equilibrio entre precisión y recall).\n",
    "\n",
    "- **Clase 1 (STAR)**:\n",
    "  - **Precisión**: 98% (Casi todas las predicciones de STAR son correctas).\n",
    "  - **Recall**: 100% (Todas las STAR reales fueron identificadas correctamente).\n",
    "  - **F1-score**: 99% (Excelente equilibrio entre precisión y recall).\n",
    "\n",
    "- **Clase 2 (QSO)**:\n",
    "  - **Precisión**: 95% (La mayoría de las predicciones de QSO son correctas).\n",
    "  - **Recall**: 88% (Una buena proporción de QSO reales fueron identificadas correctamente, aunque hay margen de mejora).\n",
    "  - **F1-score**: 91% (Un buen equilibrio entre precisión y recall).\n",
    "\n",
    "### Interpretación General\n",
    "\n",
    "- **Alto Rendimiento en General**: Tu modelo tiene un rendimiento general alto con una precisión y un recall altos para todas las clases.\n",
    "- **Mejor Rendimiento para la Clase STAR**: La clase STAR (1) es la que mejor predice el modelo, con la más alta precisión y recall.\n",
    "- **Algunas Confusiones entre GALAXY y QSO**: Hay una cantidad significativa de confusiones entre GALAXY (0) y QSO (2). Es posible que características similares entre estas dos clases estén causando estas confusiones.\n",
    "- **Alta Exactitud General**: La exactitud general del modelo es del 96%, lo que indica un alto grado de precisión en las predicciones.\n"
   ]
  },
  {
   "cell_type": "code",
   "execution_count": null,
   "id": "51ba512b",
   "metadata": {},
   "outputs": [],
   "source": []
  }
 ],
 "metadata": {
  "kernel_info": {
   "name": "python3"
  },
  "kernelspec": {
   "display_name": "Python 3 (ipykernel)",
   "language": "python",
   "name": "python3"
  },
  "language_info": {
   "codemirror_mode": {
    "name": "ipython",
    "version": 3
   },
   "file_extension": ".py",
   "mimetype": "text/x-python",
   "name": "python",
   "nbconvert_exporter": "python",
   "pygments_lexer": "ipython3",
   "version": "3.9.12"
  },
  "noteable": {
   "last_delta_id": "dcf25d9f-25b1-4cf9-b532-4eeb03776c71"
  },
  "nteract": {
   "version": "noteable@2.9.0"
  },
  "selected_hardware_size": "small"
 },
 "nbformat": 4,
 "nbformat_minor": 5
}
